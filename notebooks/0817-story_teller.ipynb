{
 "cells": [
  {
   "cell_type": "code",
   "execution_count": 1,
   "metadata": {},
   "outputs": [],
   "source": [
    "%reload_ext autoreload\n",
    "%autoreload 2"
   ]
  },
  {
   "cell_type": "code",
   "execution_count": 2,
   "metadata": {},
   "outputs": [],
   "source": [
    "from vnov.data import Novel\n",
    "from vnov.story import StoryTeller\n",
    "from vnov.llms.poe import Poe\n",
    "from vnov.llms.deepseek import Deepseek"
   ]
  },
  {
   "cell_type": "code",
   "execution_count": 3,
   "metadata": {},
   "outputs": [],
   "source": [
    "novel = Novel(\"datasets/yujie\", main_character=\"史金\")\n",
    "# model = Poe(\"llu430173@gmail.com\", bot_id=\"vnovStoryTeller\")\n",
    "model = Deepseek()\n",
    "storyteller = StoryTeller(model)\n",
    "# storyteller.tell_novel(novel, \"史金\", start_chapter=67, end_chapter=67, reset_chapters_inbetween=True)\n",
    "# storyteller.construct_character_dict(novel)\n"
   ]
  },
  {
   "cell_type": "code",
   "execution_count": 4,
   "metadata": {},
   "outputs": [],
   "source": [
    "# storyteller.tell_novel(novel, \"史金\", start_chapter=38, end_chapter=67, save_dir=\"datasets\\yujie\\output_v4_0826\", reset_chapters_inbetween=True)"
   ]
  }
 ],
 "metadata": {
  "kernelspec": {
   "display_name": "chatgpt",
   "language": "python",
   "name": "python3"
  },
  "language_info": {
   "codemirror_mode": {
    "name": "ipython",
    "version": 3
   },
   "file_extension": ".py",
   "mimetype": "text/x-python",
   "name": "python",
   "nbconvert_exporter": "python",
   "pygments_lexer": "ipython3",
   "version": "3.11.9"
  }
 },
 "nbformat": 4,
 "nbformat_minor": 2
}
