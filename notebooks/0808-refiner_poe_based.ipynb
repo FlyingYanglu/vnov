{
 "cells": [
  {
   "cell_type": "code",
   "execution_count": 1,
   "metadata": {},
   "outputs": [],
   "source": [
    "%reload_ext autoreload\n",
    "%autoreload 2"
   ]
  },
  {
   "cell_type": "code",
   "execution_count": 2,
   "metadata": {},
   "outputs": [],
   "source": [
    "from vnov.data import Novel\n",
    "from vnov.story.storyteller import StoryTeller\n",
    "from vnov.story.prompts import (\n",
    "    STORYTELLER_ROLE,\n",
    "    TELLING_INSERTION,\n",
    "    FIRSTPERSON_TELLING,\n",
    "    FIRST_PERSON_TELLING_PREVIOUSLY,\n",
    "    REFINE_CHAPTERS,\n",
    "    REFINE_GREETING\n",
    ")\n"
   ]
  },
  {
   "cell_type": "code",
   "execution_count": null,
   "metadata": {},
   "outputs": [],
   "source": [
    "import json\n",
    "def load_response_json(response):\n",
    "    respones_by_line = response.split(\"\\n\")\n",
    "    for i, line in enumerate(respones_by_line):\n",
    "        if \"{\" in line:\n",
    "            start_line = i\n",
    "            break\n",
    "    response = \"\\n\".join(respones_by_line[start_line:])\n",
    "    response_json = json.loads(response)\n",
    "    return response_json\n"
   ]
  },
  {
   "cell_type": "code",
   "execution_count": 4,
   "metadata": {},
   "outputs": [
    {
     "name": "stdout",
     "output_type": "stream",
     "text": [
      "秦霜的愤怒与坚定让我感受到她的决心，心中涌起一丝期待，毕竟秦家的力量可不是一般的存在。她提到的隐藏力量让我对接下来的事情充满了好奇。\n",
      "“你打算怎么做呢？”我问秦霜，想要了解她的计划。她的眼中散发出坚定的光芒，仿佛已经做好了万全的准备。我紧握着她的手，能感受到她的温暖与决心。\n",
      "“有人暗杀我了，我便可以调动秦家的隐藏力量，一起彻底解决问题！”她的声音如同一把锋利的剑，直刺我的心底。听到这个，我更加佩服她的果断。像她这样的人，注定不会轻易被打倒。\n",
      "我心中暗想，既然她有如此底气，那我也要为她做点什么。虽然对秦家的隐藏力量一无所知，但能与她并肩作战才是最重要的。\n",
      "“霜，你刚才的样子，真的太飒了！好迷人哦！”我调侃着，想要缓解一下紧张的气氛。她的俏脸顿时绯红，那一刻，我感受到了一种从未有过的温暖。\n",
      "“不过，你既然有你的处理方法，我让人全力配合你就是！你有什么需要，直接跟阿东说，他以后会随时保护你。”她认真地说。\n",
      "“好的！”我心中满是感激，暗自发誓一定要将那些想要对我们下手的人一一击败。\n"
     ]
    }
   ],
   "source": [
    "from poept import PoePT\n",
    "import threading\n",
    "import time\n",
    "import json\n",
    "#setup needed everytime\n",
    "bot = PoePT()\n",
    "bot.login(\"llu430173@gmail.com\")\n",
    "\n",
    "novel = Novel(\"datasets\\yujie\\output_v3\")\n",
    "num_chapters = 67\n",
    "bot_token_max_length = 4000\n",
    "\n",
    "# send greeting message\n",
    "response = bot.ask(newchat=True, bot=\"Bot7JE17OWOTT\", prompt=REFINE_GREETING)\n",
    "\n",
    "last_context = \"\"\n",
    "for i in range(66, num_chapters+1):\n",
    "    chapter_content = novel.load_chapter(i)\n",
    "    chapter_chunks = Novel.split_chapter(chapter_content, bot_token_max_length-len(REFINE_CHAPTERS)-len(last_context))\n",
    "    for part, chapter_content in enumerate(chapter_chunks):\n",
    "        if not last_context:\n",
    "            last_context = chapter_content\n",
    "            last_part_tuple = (i, part)\n",
    "            continue\n",
    "        prompt = REFINE_CHAPTERS.format(chapter1 = last_context, chapter2 = chapter_content)\n",
    "        response = bot.ask(newchat=False, bot=\"Bot7JE17OWOTT\", prompt=prompt)\n",
    "        \n",
    "        time.sleep(5)\n",
    "        \n",
    "        response_json = load_response_json(response)\n",
    "        first_half_response, second_half_response = response_json[\"chapter_1_refined\"], response_json[\"chapter_2_refined\"]\n",
    "        print(first_half_response)\n",
    "        # write first half to file\n",
    "        with open(f\"datasets/yujie/refiner_out/{last_part_tuple[0]}_part{last_part_tuple[1]}.txt\", \"w\", encoding=\"utf-8\") as f:\n",
    "            f.write(first_half_response)\n",
    "        # update last_context\n",
    "        last_context = second_half_response\n",
    "        last_part_tuple = (i, part)\n",
    "\n",
    "    \n",
    "# if last_context is not empty, write it\n",
    "if last_context:\n",
    "    with open(f\"datasets/yujie/refiner_out/{last_part_tuple[0]}_part{last_part_tuple[1]}.txt\", \"w\", encoding=\"utf-8\") as f:\n",
    "        f.write(last_context)\n",
    "\n"
   ]
  },
  {
   "cell_type": "code",
   "execution_count": 5,
   "metadata": {},
   "outputs": [
    {
     "data": {
      "text/plain": [
       "{'chapter_1_refined': '秦霜的愤怒与坚定让我感受到她的决心，心中涌起一丝期待，毕竟秦家的力量可不是一般的存在。她提到的隐藏力量让我对接下来的事情充满了好奇。\\n“你打算怎么做呢？”我问秦霜，想要了解她的计划。她的眼中散发出坚定的光芒，仿佛已经做好了万全的准备。我紧握着她的手，能感受到她的温暖与决心。\\n“有人暗杀我了，我便可以调动秦家的隐藏力量，一起彻底解决问题！”她的声音如同一把锋利的剑，直刺我的心底。听到这个，我更加佩服她的果断。像她这样的人，注定不会轻易被打倒。\\n我心中暗想，既然她有如此底气，那我也要为她做点什么。虽然对秦家的隐藏力量一无所知，但能与她并肩作战才是最重要的。\\n“霜，你刚才的样子，真的太飒了！好迷人哦！”我调侃着，想要缓解一下紧张的气氛。她的俏脸顿时绯红，那一刻，我感受到了一种从未有过的温暖。\\n“不过，你既然有你的处理方法，我让人全力配合你就是！你有什么需要，直接跟阿东说，他以后会随时保护你。”她认真地说。\\n“好的！”我心中满是感激，暗自发誓一定要将那些想要对我们下手的人一一击败。',\n",
       " 'chapter_2_refined': '德爷的聚义堂上，我并没有出席，却能感受到江河的忐忑与期盼。尽管我不在现场，仍对他被德爷提拔感到兴奋。我的计划也在悄然进行，秦霜的力量正在逐渐显现。\\n当我看到她掌控了秦家在江城的暗线势力时，心中暗自欣喜。她的决断与能力让我对未来充满信心。随着我的事业逐渐崛起，势力也在不断扩大，我知道我们将一起迎接更大的挑战。\\n每一步都是在为打击德爷等人而铺路，我能感受到力量的增长，每一次成功都让我更加坚定与秦霜并肩作战的决心。我们都在为了更美好的未来而努力。\\n在这段时间里，事业如日中天，然而随着罗斯家族的盯上，我的婚礼也充满了危机。就在我和秦霜大婚的那天，国际资本的打击接踵而至，似乎一切都在预示着风暴的来临。\\n我差点在蜜月期间丢掉性命，那种绝望与无力感让我深感痛苦。然而，华国的神秘力量及时出手，帮助我解决了这些麻烦。就在我以为一切会恢复正常时，一个变异的怪人找上了我，告诉我重生的使命，让我明白肩负的责任。\\n当秦霜被绑架的消息传来，我面临着爱的抉择与家国的使命。跪地为她祈祷，心如刀绞，却最终选择将科技核心交给国家。那一刻，心似乎被撕裂，连头发都瞬间变白，失去了力量。\\n在绝望的时刻，秦霜出现了，带着泪水与温暖。我们的重逢让我明白，无论未来多么艰难，我始终会与她携手共度。最终，我放下财富与权力，选择与她一起过上平静的生活。我们的心灵深处，始终有着不可替代的牵绊。'}"
      ]
     },
     "execution_count": 5,
     "metadata": {},
     "output_type": "execute_result"
    }
   ],
   "source": [
    "response_json"
   ]
  },
  {
   "cell_type": "code",
   "execution_count": null,
   "metadata": {},
   "outputs": [],
   "source": []
  }
 ],
 "metadata": {
  "kernelspec": {
   "display_name": "chatgpt",
   "language": "python",
   "name": "python3"
  },
  "language_info": {
   "codemirror_mode": {
    "name": "ipython",
    "version": 3
   },
   "file_extension": ".py",
   "mimetype": "text/x-python",
   "name": "python",
   "nbconvert_exporter": "python",
   "pygments_lexer": "ipython3",
   "version": "3.11.9"
  }
 },
 "nbformat": 4,
 "nbformat_minor": 2
}
