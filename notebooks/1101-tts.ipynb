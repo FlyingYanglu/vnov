{
 "cells": [
  {
   "cell_type": "code",
   "execution_count": 1,
   "metadata": {},
   "outputs": [],
   "source": [
    "%reload_ext autoreload\n",
    "%autoreload 2"
   ]
  },
  {
   "cell_type": "code",
   "execution_count": 2,
   "metadata": {},
   "outputs": [],
   "source": [
    "# %cd .."
   ]
  },
  {
   "cell_type": "code",
   "execution_count": 3,
   "metadata": {},
   "outputs": [],
   "source": [
    "import json\n",
    "from vnov.data import Novel\n",
    "from vnov.story import TTS\n",
    "from vnov.tts import JianYingTTS"
   ]
  },
  {
   "cell_type": "code",
   "execution_count": 4,
   "metadata": {},
   "outputs": [
    {
     "name": "stderr",
     "output_type": "stream",
     "text": [
      "INFO:root:Starting TTS task...\n"
     ]
    },
    {
     "name": "stdout",
     "output_type": "stream",
     "text": [
      "Generating TTS for 1_part0\n"
     ]
    },
    {
     "name": "stderr",
     "output_type": "stream",
     "text": [
      "INFO:root:Task submitted with ID: 7432263298013202444\n",
      "INFO:root:Querying Max retries: 48, Retry interval: 2\n",
      "INFO:root:Querying ID: 7432263298013202444\n",
      "INFO:root:Querying ID: 7432263298013202444\n",
      "INFO:root:Querying ID: 7432263298013202444\n",
      "INFO:root:Querying ID: 7432263298013202444\n",
      "INFO:root:Querying ID: 7432263298013202444\n",
      "INFO:root:Querying ID: 7432263298013202444\n"
     ]
    },
    {
     "name": "stdout",
     "output_type": "stream",
     "text": [
      "Downloading audio segments...\n",
      "Combining audio files and generating SRT...\n"
     ]
    },
    {
     "name": "stderr",
     "output_type": "stream",
     "text": [
      "INFO:root:TTS task completed.\n",
      "INFO:root:Starting TTS task...\n"
     ]
    },
    {
     "name": "stdout",
     "output_type": "stream",
     "text": [
      "Generating TTS for 2_part0\n"
     ]
    },
    {
     "name": "stderr",
     "output_type": "stream",
     "text": [
      "INFO:root:Task submitted with ID: 7432263456956352550\n",
      "INFO:root:Querying Max retries: 48, Retry interval: 2\n",
      "INFO:root:Querying ID: 7432263456956352550\n",
      "INFO:root:Querying ID: 7432263456956352550\n",
      "INFO:root:Querying ID: 7432263456956352550\n",
      "INFO:root:Querying ID: 7432263456956352550\n",
      "INFO:root:Querying ID: 7432263456956352550\n"
     ]
    },
    {
     "name": "stdout",
     "output_type": "stream",
     "text": [
      "Downloading audio segments...\n",
      "Combining audio files and generating SRT...\n"
     ]
    },
    {
     "name": "stderr",
     "output_type": "stream",
     "text": [
      "INFO:root:TTS task completed.\n",
      "INFO:root:Starting TTS task...\n"
     ]
    },
    {
     "name": "stdout",
     "output_type": "stream",
     "text": [
      "Generating TTS for 3_part0\n"
     ]
    },
    {
     "name": "stderr",
     "output_type": "stream",
     "text": [
      "INFO:root:Task submitted with ID: 7432263578691831818\n",
      "INFO:root:Querying Max retries: 48, Retry interval: 2\n",
      "INFO:root:Querying ID: 7432263578691831818\n",
      "INFO:root:Querying ID: 7432263578691831818\n",
      "INFO:root:Querying ID: 7432263578691831818\n",
      "INFO:root:Querying ID: 7432263578691831818\n",
      "INFO:root:Querying ID: 7432263578691831818\n",
      "INFO:root:Querying ID: 7432263578691831818\n"
     ]
    },
    {
     "name": "stdout",
     "output_type": "stream",
     "text": [
      "Downloading audio segments...\n",
      "Combining audio files and generating SRT...\n"
     ]
    },
    {
     "name": "stderr",
     "output_type": "stream",
     "text": [
      "INFO:root:TTS task completed.\n",
      "INFO:root:Starting TTS task...\n"
     ]
    },
    {
     "name": "stdout",
     "output_type": "stream",
     "text": [
      "Generating TTS for 4_part0\n"
     ]
    },
    {
     "name": "stderr",
     "output_type": "stream",
     "text": [
      "INFO:root:Task submitted with ID: 7432263726486521896\n",
      "INFO:root:Querying Max retries: 48, Retry interval: 2\n",
      "INFO:root:Querying ID: 7432263726486521896\n",
      "INFO:root:Querying ID: 7432263726486521896\n",
      "INFO:root:Querying ID: 7432263726486521896\n",
      "INFO:root:Querying ID: 7432263726486521896\n"
     ]
    },
    {
     "name": "stdout",
     "output_type": "stream",
     "text": [
      "Downloading audio segments...\n",
      "Combining audio files and generating SRT...\n"
     ]
    },
    {
     "name": "stderr",
     "output_type": "stream",
     "text": [
      "INFO:root:TTS task completed.\n",
      "INFO:root:Starting TTS task...\n"
     ]
    },
    {
     "name": "stdout",
     "output_type": "stream",
     "text": [
      "Generating TTS for 4_part1\n"
     ]
    },
    {
     "name": "stderr",
     "output_type": "stream",
     "text": [
      "INFO:root:Task submitted with ID: 7432263846728828947\n",
      "INFO:root:Querying Max retries: 48, Retry interval: 2\n",
      "INFO:root:Querying ID: 7432263846728828947\n",
      "INFO:root:Querying ID: 7432263846728828947\n",
      "INFO:root:Querying ID: 7432263846728828947\n",
      "INFO:root:Querying ID: 7432263846728828947\n",
      "INFO:root:Querying ID: 7432263846728828947\n"
     ]
    },
    {
     "name": "stdout",
     "output_type": "stream",
     "text": [
      "Downloading audio segments...\n",
      "Combining audio files and generating SRT...\n"
     ]
    },
    {
     "name": "stderr",
     "output_type": "stream",
     "text": [
      "INFO:root:TTS task completed.\n",
      "INFO:root:Starting TTS task...\n"
     ]
    },
    {
     "name": "stdout",
     "output_type": "stream",
     "text": [
      "Generating TTS for 5_part0\n"
     ]
    },
    {
     "name": "stderr",
     "output_type": "stream",
     "text": [
      "INFO:root:Task submitted with ID: 7432263980317411365\n",
      "INFO:root:Querying Max retries: 48, Retry interval: 4\n",
      "INFO:root:Querying ID: 7432263980317411365\n",
      "INFO:root:Querying ID: 7432263980317411365\n",
      "INFO:root:Querying ID: 7432263980317411365\n",
      "INFO:root:Querying ID: 7432263980317411365\n"
     ]
    },
    {
     "name": "stdout",
     "output_type": "stream",
     "text": [
      "Downloading audio segments...\n",
      "Combining audio files and generating SRT...\n"
     ]
    },
    {
     "name": "stderr",
     "output_type": "stream",
     "text": [
      "INFO:root:TTS task completed.\n",
      "INFO:root:Starting TTS task...\n"
     ]
    },
    {
     "name": "stdout",
     "output_type": "stream",
     "text": [
      "Generating TTS for 6_part0\n"
     ]
    },
    {
     "name": "stderr",
     "output_type": "stream",
     "text": [
      "INFO:root:Task submitted with ID: 7432264157501589523\n",
      "INFO:root:Querying Max retries: 48, Retry interval: 2\n",
      "INFO:root:Querying ID: 7432264157501589523\n",
      "INFO:root:Querying ID: 7432264157501589523\n",
      "INFO:root:Querying ID: 7432264157501589523\n",
      "INFO:root:Querying ID: 7432264157501589523\n",
      "INFO:root:Querying ID: 7432264157501589523\n",
      "INFO:root:Querying ID: 7432264157501589523\n"
     ]
    },
    {
     "name": "stdout",
     "output_type": "stream",
     "text": [
      "Downloading audio segments...\n",
      "Combining audio files and generating SRT...\n"
     ]
    },
    {
     "name": "stderr",
     "output_type": "stream",
     "text": [
      "INFO:root:TTS task completed.\n",
      "INFO:root:Starting TTS task...\n"
     ]
    },
    {
     "name": "stdout",
     "output_type": "stream",
     "text": [
      "Generating TTS for 7_part0\n"
     ]
    },
    {
     "name": "stderr",
     "output_type": "stream",
     "text": [
      "INFO:root:Task submitted with ID: 7432264327953909787\n",
      "INFO:root:Querying Max retries: 48, Retry interval: 2\n",
      "INFO:root:Querying ID: 7432264327953909787\n",
      "INFO:root:Querying ID: 7432264327953909787\n",
      "INFO:root:Querying ID: 7432264327953909787\n",
      "INFO:root:Querying ID: 7432264327953909787\n",
      "INFO:root:Querying ID: 7432264327953909787\n",
      "INFO:root:Querying ID: 7432264327953909787\n"
     ]
    },
    {
     "name": "stdout",
     "output_type": "stream",
     "text": [
      "Downloading audio segments...\n",
      "Combining audio files and generating SRT...\n"
     ]
    },
    {
     "name": "stderr",
     "output_type": "stream",
     "text": [
      "INFO:root:TTS task completed.\n",
      "INFO:root:Starting TTS task...\n"
     ]
    },
    {
     "name": "stdout",
     "output_type": "stream",
     "text": [
      "Generating TTS for 8_part0\n"
     ]
    },
    {
     "name": "stderr",
     "output_type": "stream",
     "text": [
      "INFO:root:Task submitted with ID: 7432264482098776101\n",
      "INFO:root:Querying Max retries: 48, Retry interval: 2\n",
      "INFO:root:Querying ID: 7432264482098776101\n",
      "INFO:root:Querying ID: 7432264482098776101\n",
      "INFO:root:Querying ID: 7432264482098776101\n",
      "INFO:root:Querying ID: 7432264482098776101\n",
      "INFO:root:Querying ID: 7432264482098776101\n"
     ]
    },
    {
     "name": "stdout",
     "output_type": "stream",
     "text": [
      "Downloading audio segments...\n",
      "Combining audio files and generating SRT...\n"
     ]
    },
    {
     "name": "stderr",
     "output_type": "stream",
     "text": [
      "INFO:root:TTS task completed.\n",
      "INFO:root:Starting TTS task...\n"
     ]
    },
    {
     "name": "stdout",
     "output_type": "stream",
     "text": [
      "Generating TTS for 9_part0\n"
     ]
    },
    {
     "name": "stderr",
     "output_type": "stream",
     "text": [
      "INFO:root:Task submitted with ID: 7432264618136832036\n",
      "INFO:root:Querying Max retries: 48, Retry interval: 2\n",
      "INFO:root:Querying ID: 7432264618136832036\n",
      "INFO:root:Querying ID: 7432264618136832036\n",
      "INFO:root:Querying ID: 7432264618136832036\n",
      "INFO:root:Querying ID: 7432264618136832036\n",
      "INFO:root:Querying ID: 7432264618136832036\n"
     ]
    },
    {
     "name": "stdout",
     "output_type": "stream",
     "text": [
      "Downloading audio segments...\n",
      "Combining audio files and generating SRT...\n"
     ]
    },
    {
     "name": "stderr",
     "output_type": "stream",
     "text": [
      "INFO:root:TTS task completed.\n",
      "INFO:root:Starting TTS task...\n"
     ]
    },
    {
     "name": "stdout",
     "output_type": "stream",
     "text": [
      "Generating TTS for 10_part0\n"
     ]
    },
    {
     "name": "stderr",
     "output_type": "stream",
     "text": [
      "INFO:root:Task submitted with ID: 7432264754221025343\n",
      "INFO:root:Querying Max retries: 48, Retry interval: 4\n",
      "INFO:root:Querying ID: 7432264754221025343\n",
      "INFO:root:Querying ID: 7432264754221025343\n",
      "INFO:root:Querying ID: 7432264754221025343\n",
      "INFO:root:Querying ID: 7432264754221025343\n"
     ]
    },
    {
     "name": "stdout",
     "output_type": "stream",
     "text": [
      "Downloading audio segments...\n",
      "Combining audio files and generating SRT...\n"
     ]
    },
    {
     "name": "stderr",
     "output_type": "stream",
     "text": [
      "INFO:root:TTS task completed.\n",
      "INFO:root:Starting TTS task...\n"
     ]
    },
    {
     "name": "stdout",
     "output_type": "stream",
     "text": [
      "Generating TTS for 11_part0\n"
     ]
    },
    {
     "name": "stderr",
     "output_type": "stream",
     "text": [
      "INFO:root:Task submitted with ID: 7432264931694610473\n",
      "INFO:root:Querying Max retries: 48, Retry interval: 2\n",
      "INFO:root:Querying ID: 7432264931694610473\n",
      "INFO:root:Querying ID: 7432264931694610473\n",
      "INFO:root:Querying ID: 7432264931694610473\n",
      "INFO:root:Querying ID: 7432264931694610473\n",
      "INFO:root:Querying ID: 7432264931694610473\n"
     ]
    },
    {
     "name": "stdout",
     "output_type": "stream",
     "text": [
      "Downloading audio segments...\n",
      "Combining audio files and generating SRT...\n"
     ]
    },
    {
     "name": "stderr",
     "output_type": "stream",
     "text": [
      "INFO:root:TTS task completed.\n",
      "INFO:root:Starting TTS task...\n"
     ]
    },
    {
     "name": "stdout",
     "output_type": "stream",
     "text": [
      "Generating TTS for 12_part0\n"
     ]
    },
    {
     "name": "stderr",
     "output_type": "stream",
     "text": [
      "INFO:root:Task submitted with ID: 7432265067657168923\n",
      "INFO:root:Querying Max retries: 48, Retry interval: 2\n",
      "INFO:root:Querying ID: 7432265067657168923\n",
      "INFO:root:Querying ID: 7432265067657168923\n",
      "INFO:root:Querying ID: 7432265067657168923\n",
      "INFO:root:Querying ID: 7432265067657168923\n",
      "INFO:root:Querying ID: 7432265067657168923\n",
      "INFO:root:Querying ID: 7432265067657168923\n",
      "INFO:root:Querying ID: 7432265067657168923\n"
     ]
    },
    {
     "name": "stdout",
     "output_type": "stream",
     "text": [
      "Downloading audio segments...\n",
      "Combining audio files and generating SRT...\n"
     ]
    },
    {
     "name": "stderr",
     "output_type": "stream",
     "text": [
      "INFO:root:TTS task completed.\n",
      "INFO:root:Starting TTS task...\n"
     ]
    },
    {
     "name": "stdout",
     "output_type": "stream",
     "text": [
      "Generating TTS for 13_part0\n"
     ]
    },
    {
     "name": "stderr",
     "output_type": "stream",
     "text": [
      "INFO:root:Task submitted with ID: 7432265245470492691\n",
      "INFO:root:Querying Max retries: 48, Retry interval: 2\n",
      "INFO:root:Querying ID: 7432265245470492691\n",
      "INFO:root:Querying ID: 7432265245470492691\n",
      "INFO:root:Querying ID: 7432265245470492691\n",
      "INFO:root:Querying ID: 7432265245470492691\n",
      "INFO:root:Querying ID: 7432265245470492691\n",
      "INFO:root:Querying ID: 7432265245470492691\n"
     ]
    },
    {
     "name": "stdout",
     "output_type": "stream",
     "text": [
      "Downloading audio segments...\n",
      "Combining audio files and generating SRT...\n"
     ]
    },
    {
     "name": "stderr",
     "output_type": "stream",
     "text": [
      "INFO:root:TTS task completed.\n",
      "INFO:root:Starting TTS task...\n"
     ]
    },
    {
     "name": "stdout",
     "output_type": "stream",
     "text": [
      "Generating TTS for 14_part0\n"
     ]
    },
    {
     "name": "stderr",
     "output_type": "stream",
     "text": [
      "INFO:root:Task submitted with ID: 7432265401657985033\n",
      "INFO:root:Querying Max retries: 48, Retry interval: 4\n",
      "INFO:root:Querying ID: 7432265401657985033\n",
      "INFO:root:Querying ID: 7432265401657985033\n",
      "INFO:root:Querying ID: 7432265401657985033\n",
      "INFO:root:Querying ID: 7432265401657985033\n",
      "INFO:root:Querying ID: 7432265401657985033\n",
      "INFO:root:Querying ID: 7432265401657985033\n"
     ]
    },
    {
     "name": "stdout",
     "output_type": "stream",
     "text": [
      "Downloading audio segments...\n",
      "Combining audio files and generating SRT...\n"
     ]
    },
    {
     "name": "stderr",
     "output_type": "stream",
     "text": [
      "INFO:root:TTS task completed.\n",
      "INFO:root:Starting TTS task...\n"
     ]
    },
    {
     "name": "stdout",
     "output_type": "stream",
     "text": [
      "Generating TTS for 15_part0\n"
     ]
    },
    {
     "name": "stderr",
     "output_type": "stream",
     "text": [
      "INFO:root:Task submitted with ID: 7432265610798565395\n",
      "INFO:root:Querying Max retries: 48, Retry interval: 2\n",
      "INFO:root:Querying ID: 7432265610798565395\n",
      "INFO:root:Querying ID: 7432265610798565395\n",
      "INFO:root:Querying ID: 7432265610798565395\n",
      "INFO:root:Querying ID: 7432265610798565395\n"
     ]
    },
    {
     "name": "stdout",
     "output_type": "stream",
     "text": [
      "Downloading audio segments...\n",
      "Combining audio files and generating SRT...\n"
     ]
    },
    {
     "name": "stderr",
     "output_type": "stream",
     "text": [
      "INFO:root:TTS task completed.\n",
      "INFO:root:Starting TTS task...\n"
     ]
    },
    {
     "name": "stdout",
     "output_type": "stream",
     "text": [
      "Generating TTS for 16_part0\n"
     ]
    },
    {
     "name": "stderr",
     "output_type": "stream",
     "text": [
      "INFO:root:Task submitted with ID: 7432265756462549002\n",
      "INFO:root:Querying Max retries: 48, Retry interval: 4\n",
      "INFO:root:Querying ID: 7432265756462549002\n",
      "INFO:root:Querying ID: 7432265756462549002\n",
      "INFO:root:Querying ID: 7432265756462549002\n",
      "INFO:root:Querying ID: 7432265756462549002\n",
      "INFO:root:Querying ID: 7432265756462549002\n",
      "INFO:root:Querying ID: 7432265756462549002\n",
      "INFO:root:Querying ID: 7432265756462549002\n",
      "INFO:root:Querying ID: 7432265756462549002\n",
      "INFO:root:Querying ID: 7432265756462549002\n"
     ]
    },
    {
     "name": "stdout",
     "output_type": "stream",
     "text": [
      "Downloading audio segments...\n",
      "Combining audio files and generating SRT...\n"
     ]
    },
    {
     "name": "stderr",
     "output_type": "stream",
     "text": [
      "INFO:root:TTS task completed.\n",
      "INFO:root:Starting TTS task...\n"
     ]
    },
    {
     "name": "stdout",
     "output_type": "stream",
     "text": [
      "Generating TTS for 17_part0\n"
     ]
    },
    {
     "name": "stderr",
     "output_type": "stream",
     "text": [
      "INFO:root:Task submitted with ID: 7432266026277931058\n",
      "INFO:root:Querying Max retries: 48, Retry interval: 2\n",
      "INFO:root:Querying ID: 7432266026277931058\n",
      "INFO:root:Querying ID: 7432266026277931058\n",
      "INFO:root:Querying ID: 7432266026277931058\n"
     ]
    },
    {
     "name": "stdout",
     "output_type": "stream",
     "text": [
      "Downloading audio segments...\n",
      "Combining audio files and generating SRT...\n"
     ]
    },
    {
     "name": "stderr",
     "output_type": "stream",
     "text": [
      "INFO:root:TTS task completed.\n",
      "INFO:root:Starting TTS task...\n"
     ]
    },
    {
     "name": "stdout",
     "output_type": "stream",
     "text": [
      "Generating TTS for 17_part1\n"
     ]
    },
    {
     "name": "stderr",
     "output_type": "stream",
     "text": [
      "INFO:root:Task submitted with ID: 7432266111753652233\n",
      "INFO:root:Querying Max retries: 48, Retry interval: 2\n",
      "INFO:root:Querying ID: 7432266111753652233\n",
      "INFO:root:Querying ID: 7432266111753652233\n",
      "INFO:root:Querying ID: 7432266111753652233\n",
      "INFO:root:Querying ID: 7432266111753652233\n"
     ]
    },
    {
     "name": "stdout",
     "output_type": "stream",
     "text": [
      "Downloading audio segments...\n",
      "Combining audio files and generating SRT...\n"
     ]
    },
    {
     "name": "stderr",
     "output_type": "stream",
     "text": [
      "INFO:root:TTS task completed.\n",
      "INFO:root:Starting TTS task...\n"
     ]
    },
    {
     "name": "stdout",
     "output_type": "stream",
     "text": [
      "Generating TTS for 18_part0\n"
     ]
    },
    {
     "name": "stderr",
     "output_type": "stream",
     "text": [
      "INFO:root:Task submitted with ID: 7432266210609203226\n",
      "INFO:root:Querying Max retries: 48, Retry interval: 4\n",
      "INFO:root:Querying ID: 7432266210609203226\n",
      "INFO:root:Querying ID: 7432266210609203226\n",
      "INFO:root:Querying ID: 7432266210609203226\n",
      "INFO:root:Querying ID: 7432266210609203226\n"
     ]
    },
    {
     "name": "stdout",
     "output_type": "stream",
     "text": [
      "Downloading audio segments...\n",
      "Combining audio files and generating SRT...\n"
     ]
    },
    {
     "name": "stderr",
     "output_type": "stream",
     "text": [
      "INFO:root:TTS task completed.\n",
      "INFO:root:Starting TTS task...\n"
     ]
    },
    {
     "name": "stdout",
     "output_type": "stream",
     "text": [
      "Generating TTS for 19_part0\n"
     ]
    },
    {
     "name": "stderr",
     "output_type": "stream",
     "text": [
      "INFO:root:Task submitted with ID: 7432266396559476774\n",
      "INFO:root:Querying Max retries: 48, Retry interval: 2\n",
      "INFO:root:Querying ID: 7432266396559476774\n",
      "INFO:root:Querying ID: 7432266396559476774\n",
      "INFO:root:Querying ID: 7432266396559476774\n",
      "INFO:root:Querying ID: 7432266396559476774\n"
     ]
    },
    {
     "name": "stdout",
     "output_type": "stream",
     "text": [
      "Downloading audio segments...\n",
      "Combining audio files and generating SRT...\n"
     ]
    },
    {
     "name": "stderr",
     "output_type": "stream",
     "text": [
      "INFO:root:TTS task completed.\n",
      "INFO:root:Starting TTS task...\n"
     ]
    },
    {
     "name": "stdout",
     "output_type": "stream",
     "text": [
      "Generating TTS for 20_part0\n"
     ]
    },
    {
     "name": "stderr",
     "output_type": "stream",
     "text": [
      "INFO:root:Task submitted with ID: 7432266530517157938\n",
      "INFO:root:Querying Max retries: 48, Retry interval: 2\n",
      "INFO:root:Querying ID: 7432266530517157938\n",
      "INFO:root:Querying ID: 7432266530517157938\n",
      "INFO:root:Querying ID: 7432266530517157938\n",
      "INFO:root:Querying ID: 7432266530517157938\n",
      "INFO:root:Querying ID: 7432266530517157938\n"
     ]
    },
    {
     "name": "stdout",
     "output_type": "stream",
     "text": [
      "Downloading audio segments...\n",
      "Combining audio files and generating SRT...\n"
     ]
    },
    {
     "name": "stderr",
     "output_type": "stream",
     "text": [
      "INFO:root:TTS task completed.\n",
      "INFO:root:Starting TTS task...\n"
     ]
    },
    {
     "name": "stdout",
     "output_type": "stream",
     "text": [
      "Generating TTS for 21_part0\n"
     ]
    },
    {
     "name": "stderr",
     "output_type": "stream",
     "text": [
      "INFO:root:Task submitted with ID: 7432266667335354395\n",
      "INFO:root:Querying Max retries: 48, Retry interval: 4\n",
      "INFO:root:Querying ID: 7432266667335354395\n",
      "INFO:root:Querying ID: 7432266667335354395\n",
      "INFO:root:Querying ID: 7432266667335354395\n",
      "INFO:root:Querying ID: 7432266667335354395\n"
     ]
    },
    {
     "name": "stdout",
     "output_type": "stream",
     "text": [
      "Downloading audio segments...\n",
      "Combining audio files and generating SRT...\n"
     ]
    },
    {
     "name": "stderr",
     "output_type": "stream",
     "text": [
      "INFO:root:TTS task completed.\n",
      "INFO:root:Starting TTS task...\n"
     ]
    },
    {
     "name": "stdout",
     "output_type": "stream",
     "text": [
      "Generating TTS for 22_part0\n"
     ]
    },
    {
     "name": "stderr",
     "output_type": "stream",
     "text": [
      "INFO:root:Task submitted with ID: 7432266864643803151\n",
      "INFO:root:Querying Max retries: 48, Retry interval: 2\n",
      "INFO:root:Querying ID: 7432266864643803151\n",
      "INFO:root:Querying ID: 7432266864643803151\n",
      "INFO:root:Querying ID: 7432266864643803151\n",
      "INFO:root:Querying ID: 7432266864643803151\n",
      "INFO:root:Querying ID: 7432266864643803151\n"
     ]
    },
    {
     "name": "stdout",
     "output_type": "stream",
     "text": [
      "Downloading audio segments...\n",
      "Failed to download audio for segment 0caa8b38984211ef86663436ac12006b, Status: 424\n",
      "Combining audio files and generating SRT...\n"
     ]
    },
    {
     "name": "stderr",
     "output_type": "stream",
     "text": [
      "INFO:root:TTS task completed.\n",
      "INFO:root:Starting TTS task...\n"
     ]
    },
    {
     "name": "stdout",
     "output_type": "stream",
     "text": [
      "Generating TTS for 23_part0\n"
     ]
    },
    {
     "name": "stderr",
     "output_type": "stream",
     "text": [
      "INFO:root:Task submitted with ID: 7432267041265944576\n",
      "INFO:root:Querying Max retries: 48, Retry interval: 2\n",
      "INFO:root:Querying ID: 7432267041265944576\n",
      "INFO:root:Querying ID: 7432267041265944576\n",
      "INFO:root:Querying ID: 7432267041265944576\n",
      "INFO:root:Querying ID: 7432267041265944576\n",
      "INFO:root:Querying ID: 7432267041265944576\n"
     ]
    },
    {
     "name": "stdout",
     "output_type": "stream",
     "text": [
      "Downloading audio segments...\n",
      "Combining audio files and generating SRT...\n"
     ]
    },
    {
     "name": "stderr",
     "output_type": "stream",
     "text": [
      "INFO:root:TTS task completed.\n",
      "INFO:root:Starting TTS task...\n"
     ]
    },
    {
     "name": "stdout",
     "output_type": "stream",
     "text": [
      "Generating TTS for 24_part0\n"
     ]
    },
    {
     "name": "stderr",
     "output_type": "stream",
     "text": [
      "INFO:root:Task submitted with ID: 7432267177836677157\n",
      "INFO:root:Querying Max retries: 48, Retry interval: 2\n",
      "INFO:root:Querying ID: 7432267177836677157\n",
      "INFO:root:Querying ID: 7432267177836677157\n",
      "INFO:root:Querying ID: 7432267177836677157\n",
      "INFO:root:Querying ID: 7432267177836677157\n",
      "INFO:root:Querying ID: 7432267177836677157\n"
     ]
    },
    {
     "name": "stdout",
     "output_type": "stream",
     "text": [
      "Downloading audio segments...\n",
      "Combining audio files and generating SRT...\n"
     ]
    },
    {
     "name": "stderr",
     "output_type": "stream",
     "text": [
      "INFO:root:TTS task completed.\n",
      "INFO:root:Starting TTS task...\n"
     ]
    },
    {
     "name": "stdout",
     "output_type": "stream",
     "text": [
      "Generating TTS for 25_part0\n"
     ]
    },
    {
     "name": "stderr",
     "output_type": "stream",
     "text": [
      "INFO:root:Task submitted with ID: 7432267316890437632\n",
      "INFO:root:Querying Max retries: 48, Retry interval: 4\n",
      "INFO:root:Querying ID: 7432267316890437632\n",
      "INFO:root:Querying ID: 7432267316890437632\n",
      "INFO:root:Querying ID: 7432267316890437632\n"
     ]
    },
    {
     "name": "stdout",
     "output_type": "stream",
     "text": [
      "Downloading audio segments...\n",
      "Combining audio files and generating SRT...\n"
     ]
    },
    {
     "name": "stderr",
     "output_type": "stream",
     "text": [
      "INFO:root:TTS task completed.\n",
      "INFO:root:Starting TTS task...\n"
     ]
    },
    {
     "name": "stdout",
     "output_type": "stream",
     "text": [
      "Generating TTS for 26_part0\n"
     ]
    },
    {
     "name": "stderr",
     "output_type": "stream",
     "text": [
      "INFO:root:Task submitted with ID: 7432267461300324393\n",
      "INFO:root:Querying Max retries: 48, Retry interval: 4\n",
      "INFO:root:Querying ID: 7432267461300324393\n",
      "INFO:root:Querying ID: 7432267461300324393\n",
      "INFO:root:Querying ID: 7432267461300324393\n",
      "INFO:root:Querying ID: 7432267461300324393\n"
     ]
    },
    {
     "name": "stdout",
     "output_type": "stream",
     "text": [
      "Downloading audio segments...\n",
      "Combining audio files and generating SRT...\n"
     ]
    },
    {
     "name": "stderr",
     "output_type": "stream",
     "text": [
      "INFO:root:TTS task completed.\n",
      "INFO:root:Starting TTS task...\n"
     ]
    },
    {
     "name": "stdout",
     "output_type": "stream",
     "text": [
      "Generating TTS for 27_part0\n"
     ]
    },
    {
     "name": "stderr",
     "output_type": "stream",
     "text": [
      "INFO:root:Task submitted with ID: 7432267650748647465\n",
      "INFO:root:Querying Max retries: 48, Retry interval: 2\n",
      "INFO:root:Querying ID: 7432267650748647465\n",
      "INFO:root:Querying ID: 7432267650748647465\n",
      "INFO:root:Querying ID: 7432267650748647465\n",
      "INFO:root:Querying ID: 7432267650748647465\n",
      "INFO:root:Querying ID: 7432267650748647465\n"
     ]
    },
    {
     "name": "stdout",
     "output_type": "stream",
     "text": [
      "Downloading audio segments...\n",
      "Combining audio files and generating SRT...\n"
     ]
    },
    {
     "name": "stderr",
     "output_type": "stream",
     "text": [
      "INFO:root:TTS task completed.\n",
      "INFO:root:Starting TTS task...\n"
     ]
    },
    {
     "name": "stdout",
     "output_type": "stream",
     "text": [
      "Generating TTS for 28_part0\n"
     ]
    },
    {
     "name": "stderr",
     "output_type": "stream",
     "text": [
      "INFO:root:Task submitted with ID: 7432267798648195109\n",
      "INFO:root:Querying Max retries: 48, Retry interval: 4\n",
      "INFO:root:Querying ID: 7432267798648195109\n",
      "INFO:root:Querying ID: 7432267798648195109\n",
      "INFO:root:Querying ID: 7432267798648195109\n"
     ]
    },
    {
     "name": "stdout",
     "output_type": "stream",
     "text": [
      "Downloading audio segments...\n",
      "Combining audio files and generating SRT...\n"
     ]
    },
    {
     "name": "stderr",
     "output_type": "stream",
     "text": [
      "INFO:root:TTS task completed.\n",
      "INFO:root:Starting TTS task...\n"
     ]
    },
    {
     "name": "stdout",
     "output_type": "stream",
     "text": [
      "Generating TTS for 29_part0\n"
     ]
    },
    {
     "name": "stderr",
     "output_type": "stream",
     "text": [
      "INFO:root:Task submitted with ID: 7432267947155916839\n",
      "INFO:root:Querying Max retries: 48, Retry interval: 4\n",
      "INFO:root:Querying ID: 7432267947155916839\n",
      "INFO:root:Querying ID: 7432267947155916839\n",
      "INFO:root:Querying ID: 7432267947155916839\n",
      "INFO:root:Querying ID: 7432267947155916839\n"
     ]
    },
    {
     "name": "stdout",
     "output_type": "stream",
     "text": [
      "Downloading audio segments...\n",
      "Combining audio files and generating SRT...\n"
     ]
    },
    {
     "name": "stderr",
     "output_type": "stream",
     "text": [
      "INFO:root:TTS task completed.\n",
      "INFO:root:Starting TTS task...\n"
     ]
    },
    {
     "name": "stdout",
     "output_type": "stream",
     "text": [
      "Generating TTS for 30_part0\n"
     ]
    },
    {
     "name": "stderr",
     "output_type": "stream",
     "text": [
      "INFO:root:Task submitted with ID: 7432268113200023606\n",
      "INFO:root:Querying Max retries: 48, Retry interval: 4\n",
      "INFO:root:Querying ID: 7432268113200023606\n",
      "INFO:root:Querying ID: 7432268113200023606\n",
      "INFO:root:Querying ID: 7432268113200023606\n",
      "INFO:root:Querying ID: 7432268113200023606\n"
     ]
    },
    {
     "name": "stdout",
     "output_type": "stream",
     "text": [
      "Downloading audio segments...\n",
      "Combining audio files and generating SRT...\n"
     ]
    },
    {
     "name": "stderr",
     "output_type": "stream",
     "text": [
      "INFO:root:TTS task completed.\n",
      "INFO:root:Starting TTS task...\n"
     ]
    },
    {
     "name": "stdout",
     "output_type": "stream",
     "text": [
      "Generating TTS for 31_part0\n"
     ]
    },
    {
     "name": "stderr",
     "output_type": "stream",
     "text": [
      "INFO:root:Task submitted with ID: 7432268283660732453\n",
      "INFO:root:Querying Max retries: 48, Retry interval: 2\n",
      "INFO:root:Querying ID: 7432268283660732453\n",
      "INFO:root:Querying ID: 7432268283660732453\n",
      "INFO:root:Querying ID: 7432268283660732453\n",
      "INFO:root:Querying ID: 7432268283660732453\n"
     ]
    },
    {
     "name": "stdout",
     "output_type": "stream",
     "text": [
      "Downloading audio segments...\n",
      "Combining audio files and generating SRT...\n"
     ]
    },
    {
     "name": "stderr",
     "output_type": "stream",
     "text": [
      "INFO:root:TTS task completed.\n",
      "INFO:root:Starting TTS task...\n"
     ]
    },
    {
     "name": "stdout",
     "output_type": "stream",
     "text": [
      "Generating TTS for 32_part0\n"
     ]
    },
    {
     "name": "stderr",
     "output_type": "stream",
     "text": [
      "INFO:root:Task submitted with ID: 7432268392058325031\n",
      "INFO:root:Querying Max retries: 48, Retry interval: 2\n",
      "INFO:root:Querying ID: 7432268392058325031\n",
      "INFO:root:Querying ID: 7432268392058325031\n",
      "INFO:root:Querying ID: 7432268392058325031\n",
      "INFO:root:Querying ID: 7432268392058325031\n"
     ]
    },
    {
     "name": "stdout",
     "output_type": "stream",
     "text": [
      "Downloading audio segments...\n",
      "Combining audio files and generating SRT...\n"
     ]
    },
    {
     "name": "stderr",
     "output_type": "stream",
     "text": [
      "INFO:root:TTS task completed.\n",
      "INFO:root:Starting TTS task...\n"
     ]
    },
    {
     "name": "stdout",
     "output_type": "stream",
     "text": [
      "Generating TTS for 33_part0\n"
     ]
    },
    {
     "name": "stderr",
     "output_type": "stream",
     "text": [
      "INFO:root:Task submitted with ID: 7432268490276341810\n",
      "INFO:root:Querying Max retries: 48, Retry interval: 2\n",
      "INFO:root:Querying ID: 7432268490276341810\n",
      "INFO:root:Querying ID: 7432268490276341810\n",
      "INFO:root:Querying ID: 7432268490276341810\n",
      "INFO:root:Querying ID: 7432268490276341810\n",
      "INFO:root:Querying ID: 7432268490276341810\n"
     ]
    },
    {
     "name": "stdout",
     "output_type": "stream",
     "text": [
      "Downloading audio segments...\n",
      "Combining audio files and generating SRT...\n"
     ]
    },
    {
     "name": "stderr",
     "output_type": "stream",
     "text": [
      "INFO:root:TTS task completed.\n",
      "INFO:root:Starting TTS task...\n"
     ]
    },
    {
     "name": "stdout",
     "output_type": "stream",
     "text": [
      "Generating TTS for 34_part0\n"
     ]
    },
    {
     "name": "stderr",
     "output_type": "stream",
     "text": [
      "INFO:root:Task submitted with ID: 7432268622958954496\n",
      "INFO:root:Querying Max retries: 48, Retry interval: 2\n",
      "INFO:root:Querying ID: 7432268622958954496\n",
      "INFO:root:Querying ID: 7432268622958954496\n",
      "INFO:root:Querying ID: 7432268622958954496\n",
      "INFO:root:Querying ID: 7432268622958954496\n",
      "INFO:root:Querying ID: 7432268622958954496\n",
      "INFO:root:Querying ID: 7432268622958954496\n"
     ]
    },
    {
     "name": "stdout",
     "output_type": "stream",
     "text": [
      "Downloading audio segments...\n",
      "Combining audio files and generating SRT...\n"
     ]
    },
    {
     "name": "stderr",
     "output_type": "stream",
     "text": [
      "INFO:root:TTS task completed.\n",
      "INFO:root:Starting TTS task...\n"
     ]
    },
    {
     "name": "stdout",
     "output_type": "stream",
     "text": [
      "Generating TTS for 35_part0\n"
     ]
    },
    {
     "name": "stderr",
     "output_type": "stream",
     "text": [
      "INFO:root:Task submitted with ID: 7432268775124109363\n",
      "INFO:root:Querying Max retries: 48, Retry interval: 4\n",
      "INFO:root:Querying ID: 7432268775124109363\n",
      "INFO:root:Querying ID: 7432268775124109363\n",
      "INFO:root:Querying ID: 7432268775124109363\n",
      "INFO:root:Querying ID: 7432268775124109363\n"
     ]
    },
    {
     "name": "stdout",
     "output_type": "stream",
     "text": [
      "Downloading audio segments...\n",
      "Combining audio files and generating SRT...\n"
     ]
    },
    {
     "name": "stderr",
     "output_type": "stream",
     "text": [
      "INFO:root:TTS task completed.\n",
      "INFO:root:Starting TTS task...\n"
     ]
    },
    {
     "name": "stdout",
     "output_type": "stream",
     "text": [
      "Generating TTS for 36_part0\n"
     ]
    },
    {
     "name": "stderr",
     "output_type": "stream",
     "text": [
      "INFO:root:Task submitted with ID: 7432268947631638578\n",
      "INFO:root:Querying Max retries: 48, Retry interval: 4\n",
      "INFO:root:Querying ID: 7432268947631638578\n",
      "INFO:root:Querying ID: 7432268947631638578\n",
      "INFO:root:Querying ID: 7432268947631638578\n",
      "INFO:root:Querying ID: 7432268947631638578\n"
     ]
    },
    {
     "name": "stdout",
     "output_type": "stream",
     "text": [
      "Downloading audio segments...\n",
      "Combining audio files and generating SRT...\n"
     ]
    },
    {
     "name": "stderr",
     "output_type": "stream",
     "text": [
      "INFO:root:TTS task completed.\n",
      "INFO:root:Starting TTS task...\n"
     ]
    },
    {
     "name": "stdout",
     "output_type": "stream",
     "text": [
      "Generating TTS for 37_part0\n"
     ]
    },
    {
     "name": "stderr",
     "output_type": "stream",
     "text": [
      "INFO:root:Task submitted with ID: 7432269136954132507\n",
      "INFO:root:Querying Max retries: 48, Retry interval: 2\n",
      "INFO:root:Querying ID: 7432269136954132507\n",
      "INFO:root:Querying ID: 7432269136954132507\n",
      "INFO:root:Querying ID: 7432269136954132507\n",
      "INFO:root:Querying ID: 7432269136954132507\n",
      "INFO:root:Querying ID: 7432269136954132507\n"
     ]
    },
    {
     "name": "stdout",
     "output_type": "stream",
     "text": [
      "Downloading audio segments...\n",
      "Combining audio files and generating SRT...\n"
     ]
    },
    {
     "name": "stderr",
     "output_type": "stream",
     "text": [
      "INFO:root:TTS task completed.\n",
      "INFO:root:Starting TTS task...\n"
     ]
    },
    {
     "name": "stdout",
     "output_type": "stream",
     "text": [
      "Generating TTS for 38_part0\n"
     ]
    },
    {
     "name": "stderr",
     "output_type": "stream",
     "text": [
      "INFO:root:Task submitted with ID: 7432269269125040138\n",
      "INFO:root:Querying Max retries: 48, Retry interval: 2\n",
      "INFO:root:Querying ID: 7432269269125040138\n",
      "INFO:root:Querying ID: 7432269269125040138\n",
      "INFO:root:Querying ID: 7432269269125040138\n",
      "INFO:root:Querying ID: 7432269269125040138\n",
      "INFO:root:Querying ID: 7432269269125040138\n",
      "INFO:root:Querying ID: 7432269269125040138\n"
     ]
    },
    {
     "name": "stdout",
     "output_type": "stream",
     "text": [
      "Downloading audio segments...\n",
      "Combining audio files and generating SRT...\n"
     ]
    },
    {
     "name": "stderr",
     "output_type": "stream",
     "text": [
      "INFO:root:TTS task completed.\n",
      "INFO:root:Starting TTS task...\n"
     ]
    },
    {
     "name": "stdout",
     "output_type": "stream",
     "text": [
      "Generating TTS for 39_part0\n"
     ]
    },
    {
     "name": "stderr",
     "output_type": "stream",
     "text": [
      "INFO:root:Task submitted with ID: 7432269417582430235\n",
      "INFO:root:Querying Max retries: 48, Retry interval: 4\n",
      "INFO:root:Querying ID: 7432269417582430235\n",
      "INFO:root:Querying ID: 7432269417582430235\n",
      "INFO:root:Querying ID: 7432269417582430235\n",
      "INFO:root:Querying ID: 7432269417582430235\n"
     ]
    },
    {
     "name": "stdout",
     "output_type": "stream",
     "text": [
      "Downloading audio segments...\n",
      "Combining audio files and generating SRT...\n"
     ]
    },
    {
     "name": "stderr",
     "output_type": "stream",
     "text": [
      "INFO:root:TTS task completed.\n",
      "INFO:root:Starting TTS task...\n"
     ]
    },
    {
     "name": "stdout",
     "output_type": "stream",
     "text": [
      "Generating TTS for 40_part0\n"
     ]
    },
    {
     "name": "stderr",
     "output_type": "stream",
     "text": [
      "INFO:root:Task submitted with ID: 7432269585027434534\n",
      "INFO:root:Querying Max retries: 48, Retry interval: 2\n",
      "INFO:root:Querying ID: 7432269585027434534\n",
      "INFO:root:Querying ID: 7432269585027434534\n",
      "INFO:root:Querying ID: 7432269585027434534\n",
      "INFO:root:Querying ID: 7432269585027434534\n",
      "INFO:root:Querying ID: 7432269585027434534\n"
     ]
    },
    {
     "name": "stdout",
     "output_type": "stream",
     "text": [
      "Downloading audio segments...\n",
      "Combining audio files and generating SRT...\n"
     ]
    },
    {
     "name": "stderr",
     "output_type": "stream",
     "text": [
      "INFO:root:TTS task completed.\n",
      "INFO:root:Starting TTS task...\n"
     ]
    },
    {
     "name": "stdout",
     "output_type": "stream",
     "text": [
      "Generating TTS for 41_part0\n"
     ]
    },
    {
     "name": "stderr",
     "output_type": "stream",
     "text": [
      "INFO:root:Task submitted with ID: 7432269726014769190\n",
      "INFO:root:Querying Max retries: 48, Retry interval: 2\n",
      "INFO:root:Querying ID: 7432269726014769190\n",
      "INFO:root:Querying ID: 7432269726014769190\n",
      "INFO:root:Querying ID: 7432269726014769190\n",
      "INFO:root:Querying ID: 7432269726014769190\n",
      "INFO:root:Querying ID: 7432269726014769190\n",
      "INFO:root:Querying ID: 7432269726014769190\n"
     ]
    },
    {
     "name": "stdout",
     "output_type": "stream",
     "text": [
      "Downloading audio segments...\n",
      "Combining audio files and generating SRT...\n"
     ]
    },
    {
     "name": "stderr",
     "output_type": "stream",
     "text": [
      "INFO:root:TTS task completed.\n",
      "INFO:root:Starting TTS task...\n"
     ]
    },
    {
     "name": "stdout",
     "output_type": "stream",
     "text": [
      "Generating TTS for 42_part0\n"
     ]
    },
    {
     "name": "stderr",
     "output_type": "stream",
     "text": [
      "INFO:root:Task submitted with ID: 7432269886102964259\n",
      "INFO:root:Querying Max retries: 48, Retry interval: 2\n",
      "INFO:root:Querying ID: 7432269886102964259\n",
      "INFO:root:Querying ID: 7432269886102964259\n",
      "INFO:root:Querying ID: 7432269886102964259\n",
      "INFO:root:Querying ID: 7432269886102964259\n",
      "INFO:root:Querying ID: 7432269886102964259\n"
     ]
    },
    {
     "name": "stdout",
     "output_type": "stream",
     "text": [
      "Downloading audio segments...\n",
      "Combining audio files and generating SRT...\n"
     ]
    },
    {
     "name": "stderr",
     "output_type": "stream",
     "text": [
      "INFO:root:TTS task completed.\n",
      "INFO:root:Starting TTS task...\n"
     ]
    },
    {
     "name": "stdout",
     "output_type": "stream",
     "text": [
      "Generating TTS for 43_part0\n"
     ]
    },
    {
     "name": "stderr",
     "output_type": "stream",
     "text": [
      "INFO:root:Task submitted with ID: 7432270015472076839\n",
      "INFO:root:Querying Max retries: 48, Retry interval: 4\n",
      "INFO:root:Querying ID: 7432270015472076839\n",
      "INFO:root:Querying ID: 7432270015472076839\n",
      "INFO:root:Querying ID: 7432270015472076839\n",
      "INFO:root:Querying ID: 7432270015472076839\n",
      "INFO:root:Querying ID: 7432270015472076839\n"
     ]
    },
    {
     "name": "stdout",
     "output_type": "stream",
     "text": [
      "Downloading audio segments...\n",
      "Combining audio files and generating SRT...\n"
     ]
    },
    {
     "name": "stderr",
     "output_type": "stream",
     "text": [
      "INFO:root:TTS task completed.\n",
      "INFO:root:Starting TTS task...\n"
     ]
    },
    {
     "name": "stdout",
     "output_type": "stream",
     "text": [
      "Generating TTS for 44_part0\n"
     ]
    },
    {
     "name": "stderr",
     "output_type": "stream",
     "text": [
      "INFO:root:Task submitted with ID: 7432270227892602892\n",
      "INFO:root:Querying Max retries: 48, Retry interval: 2\n",
      "INFO:root:Querying ID: 7432270227892602892\n",
      "INFO:root:Querying ID: 7432270227892602892\n",
      "INFO:root:Querying ID: 7432270227892602892\n",
      "INFO:root:Querying ID: 7432270227892602892\n",
      "INFO:root:Querying ID: 7432270227892602892\n"
     ]
    },
    {
     "name": "stdout",
     "output_type": "stream",
     "text": [
      "Downloading audio segments...\n",
      "Combining audio files and generating SRT...\n"
     ]
    },
    {
     "name": "stderr",
     "output_type": "stream",
     "text": [
      "INFO:root:TTS task completed.\n",
      "INFO:root:Starting TTS task...\n"
     ]
    },
    {
     "name": "stdout",
     "output_type": "stream",
     "text": [
      "Generating TTS for 44_part1\n"
     ]
    },
    {
     "name": "stderr",
     "output_type": "stream",
     "text": [
      "INFO:root:Task submitted with ID: 7432270366199777306\n",
      "INFO:root:Querying Max retries: 48, Retry interval: 2\n",
      "INFO:root:Querying ID: 7432270366199777306\n",
      "INFO:root:Querying ID: 7432270366199777306\n",
      "INFO:root:Querying ID: 7432270366199777306\n"
     ]
    },
    {
     "name": "stdout",
     "output_type": "stream",
     "text": [
      "Downloading audio segments...\n",
      "Combining audio files and generating SRT...\n"
     ]
    },
    {
     "name": "stderr",
     "output_type": "stream",
     "text": [
      "INFO:root:TTS task completed.\n",
      "INFO:root:Starting TTS task...\n"
     ]
    },
    {
     "name": "stdout",
     "output_type": "stream",
     "text": [
      "Generating TTS for 45_part0\n"
     ]
    },
    {
     "name": "stderr",
     "output_type": "stream",
     "text": [
      "INFO:root:Task submitted with ID: 7432270433501579273\n",
      "INFO:root:Querying Max retries: 48, Retry interval: 2\n",
      "INFO:root:Querying ID: 7432270433501579273\n",
      "INFO:root:Querying ID: 7432270433501579273\n",
      "INFO:root:Querying ID: 7432270433501579273\n",
      "INFO:root:Querying ID: 7432270433501579273\n",
      "INFO:root:Querying ID: 7432270433501579273\n",
      "INFO:root:Querying ID: 7432270433501579273\n"
     ]
    },
    {
     "name": "stdout",
     "output_type": "stream",
     "text": [
      "Downloading audio segments...\n",
      "Combining audio files and generating SRT...\n"
     ]
    },
    {
     "name": "stderr",
     "output_type": "stream",
     "text": [
      "INFO:root:TTS task completed.\n",
      "INFO:root:Starting TTS task...\n"
     ]
    },
    {
     "name": "stdout",
     "output_type": "stream",
     "text": [
      "Generating TTS for 46_part0\n"
     ]
    },
    {
     "name": "stderr",
     "output_type": "stream",
     "text": [
      "INFO:root:Task submitted with ID: 7432270582382594102\n",
      "INFO:root:Querying Max retries: 48, Retry interval: 2\n",
      "INFO:root:Querying ID: 7432270582382594102\n",
      "INFO:root:Querying ID: 7432270582382594102\n",
      "INFO:root:Querying ID: 7432270582382594102\n",
      "INFO:root:Querying ID: 7432270582382594102\n",
      "INFO:root:Querying ID: 7432270582382594102\n"
     ]
    },
    {
     "name": "stdout",
     "output_type": "stream",
     "text": [
      "Downloading audio segments...\n",
      "Combining audio files and generating SRT...\n"
     ]
    },
    {
     "name": "stderr",
     "output_type": "stream",
     "text": [
      "INFO:root:TTS task completed.\n",
      "INFO:root:Starting TTS task...\n"
     ]
    },
    {
     "name": "stdout",
     "output_type": "stream",
     "text": [
      "Generating TTS for 47_part0\n"
     ]
    },
    {
     "name": "stderr",
     "output_type": "stream",
     "text": [
      "INFO:root:Task submitted with ID: 7432270721352468517\n",
      "INFO:root:Querying Max retries: 48, Retry interval: 2\n",
      "INFO:root:Querying ID: 7432270721352468517\n",
      "INFO:root:Querying ID: 7432270721352468517\n",
      "INFO:root:Querying ID: 7432270721352468517\n",
      "INFO:root:Querying ID: 7432270721352468517\n",
      "INFO:root:Querying ID: 7432270721352468517\n",
      "INFO:root:Querying ID: 7432270721352468517\n",
      "INFO:root:Querying ID: 7432270721352468517\n",
      "INFO:root:Querying ID: 7432270721352468517\n"
     ]
    },
    {
     "name": "stdout",
     "output_type": "stream",
     "text": [
      "Downloading audio segments...\n",
      "Combining audio files and generating SRT...\n"
     ]
    },
    {
     "name": "stderr",
     "output_type": "stream",
     "text": [
      "INFO:root:TTS task completed.\n",
      "INFO:root:Starting TTS task...\n"
     ]
    },
    {
     "name": "stdout",
     "output_type": "stream",
     "text": [
      "Generating TTS for 48_part0\n"
     ]
    },
    {
     "name": "stderr",
     "output_type": "stream",
     "text": [
      "INFO:root:Task submitted with ID: 7432270884527671350\n",
      "INFO:root:Querying Max retries: 48, Retry interval: 2\n",
      "INFO:root:Querying ID: 7432270884527671350\n",
      "INFO:root:Querying ID: 7432270884527671350\n",
      "INFO:root:Querying ID: 7432270884527671350\n",
      "INFO:root:Querying ID: 7432270884527671350\n"
     ]
    },
    {
     "name": "stdout",
     "output_type": "stream",
     "text": [
      "Downloading audio segments...\n",
      "Combining audio files and generating SRT...\n"
     ]
    },
    {
     "name": "stderr",
     "output_type": "stream",
     "text": [
      "INFO:root:TTS task completed.\n",
      "INFO:root:Starting TTS task...\n"
     ]
    },
    {
     "name": "stdout",
     "output_type": "stream",
     "text": [
      "Generating TTS for 49_part0\n"
     ]
    },
    {
     "name": "stderr",
     "output_type": "stream",
     "text": [
      "INFO:root:Task submitted with ID: 7432270988726765568\n",
      "INFO:root:Querying Max retries: 48, Retry interval: 4\n",
      "INFO:root:Querying ID: 7432270988726765568\n",
      "INFO:root:Querying ID: 7432270988726765568\n",
      "INFO:root:Querying ID: 7432270988726765568\n",
      "INFO:root:Querying ID: 7432270988726765568\n"
     ]
    },
    {
     "name": "stdout",
     "output_type": "stream",
     "text": [
      "Downloading audio segments...\n",
      "Combining audio files and generating SRT...\n"
     ]
    },
    {
     "name": "stderr",
     "output_type": "stream",
     "text": [
      "INFO:root:TTS task completed.\n",
      "INFO:root:Starting TTS task...\n"
     ]
    },
    {
     "name": "stdout",
     "output_type": "stream",
     "text": [
      "Generating TTS for 50_part0\n"
     ]
    },
    {
     "name": "stderr",
     "output_type": "stream",
     "text": [
      "INFO:root:Task submitted with ID: 7432271181807355942\n",
      "INFO:root:Querying Max retries: 48, Retry interval: 2\n",
      "INFO:root:Querying ID: 7432271181807355942\n",
      "INFO:root:Querying ID: 7432271181807355942\n",
      "INFO:root:Querying ID: 7432271181807355942\n",
      "INFO:root:Querying ID: 7432271181807355942\n",
      "INFO:root:Querying ID: 7432271181807355942\n",
      "INFO:root:Querying ID: 7432271181807355942\n"
     ]
    },
    {
     "name": "stdout",
     "output_type": "stream",
     "text": [
      "Downloading audio segments...\n",
      "Combining audio files and generating SRT...\n"
     ]
    },
    {
     "name": "stderr",
     "output_type": "stream",
     "text": [
      "INFO:root:TTS task completed.\n",
      "INFO:root:Starting TTS task...\n"
     ]
    },
    {
     "name": "stdout",
     "output_type": "stream",
     "text": [
      "Generating TTS for 51_part0\n"
     ]
    },
    {
     "name": "stderr",
     "output_type": "stream",
     "text": [
      "INFO:root:Task submitted with ID: 7432271338309421071\n",
      "INFO:root:Querying Max retries: 48, Retry interval: 4\n",
      "INFO:root:Querying ID: 7432271338309421071\n",
      "INFO:root:Querying ID: 7432271338309421071\n",
      "INFO:root:Querying ID: 7432271338309421071\n",
      "INFO:root:Querying ID: 7432271338309421071\n"
     ]
    },
    {
     "name": "stdout",
     "output_type": "stream",
     "text": [
      "Downloading audio segments...\n",
      "Combining audio files and generating SRT...\n"
     ]
    },
    {
     "name": "stderr",
     "output_type": "stream",
     "text": [
      "INFO:root:TTS task completed.\n",
      "INFO:root:Starting TTS task...\n"
     ]
    },
    {
     "name": "stdout",
     "output_type": "stream",
     "text": [
      "Generating TTS for 52_part0\n"
     ]
    },
    {
     "name": "stderr",
     "output_type": "stream",
     "text": [
      "INFO:root:Task submitted with ID: 7432271511844554764\n",
      "INFO:root:Querying Max retries: 48, Retry interval: 4\n",
      "INFO:root:Querying ID: 7432271511844554764\n",
      "INFO:root:Querying ID: 7432271511844554764\n",
      "INFO:root:Querying ID: 7432271511844554764\n",
      "INFO:root:Querying ID: 7432271511844554764\n"
     ]
    },
    {
     "name": "stdout",
     "output_type": "stream",
     "text": [
      "Downloading audio segments...\n",
      "Combining audio files and generating SRT...\n"
     ]
    },
    {
     "name": "stderr",
     "output_type": "stream",
     "text": [
      "INFO:root:TTS task completed.\n",
      "INFO:root:Starting TTS task...\n"
     ]
    },
    {
     "name": "stdout",
     "output_type": "stream",
     "text": [
      "Generating TTS for 53_part0\n"
     ]
    },
    {
     "name": "stderr",
     "output_type": "stream",
     "text": [
      "INFO:root:Task submitted with ID: 7432271700953139237\n",
      "INFO:root:Querying Max retries: 48, Retry interval: 4\n",
      "INFO:root:Querying ID: 7432271700953139237\n",
      "INFO:root:Querying ID: 7432271700953139237\n",
      "INFO:root:Querying ID: 7432271700953139237\n",
      "INFO:root:Querying ID: 7432271700953139237\n"
     ]
    },
    {
     "name": "stdout",
     "output_type": "stream",
     "text": [
      "Downloading audio segments...\n",
      "Combining audio files and generating SRT...\n"
     ]
    },
    {
     "name": "stderr",
     "output_type": "stream",
     "text": [
      "INFO:root:TTS task completed.\n",
      "INFO:root:Starting TTS task...\n"
     ]
    },
    {
     "name": "stdout",
     "output_type": "stream",
     "text": [
      "Generating TTS for 54_part0\n"
     ]
    },
    {
     "name": "stderr",
     "output_type": "stream",
     "text": [
      "INFO:root:Task submitted with ID: 7432271886236518412\n",
      "INFO:root:Querying Max retries: 48, Retry interval: 2\n",
      "INFO:root:Querying ID: 7432271886236518412\n",
      "INFO:root:Querying ID: 7432271886236518412\n",
      "INFO:root:Querying ID: 7432271886236518412\n",
      "INFO:root:Querying ID: 7432271886236518412\n"
     ]
    },
    {
     "name": "stdout",
     "output_type": "stream",
     "text": [
      "Downloading audio segments...\n",
      "Combining audio files and generating SRT...\n"
     ]
    },
    {
     "name": "stderr",
     "output_type": "stream",
     "text": [
      "INFO:root:TTS task completed.\n",
      "INFO:root:Starting TTS task...\n"
     ]
    },
    {
     "name": "stdout",
     "output_type": "stream",
     "text": [
      "Generating TTS for 55_part0\n"
     ]
    },
    {
     "name": "stderr",
     "output_type": "stream",
     "text": [
      "INFO:root:Task submitted with ID: 7432272001626015754\n",
      "INFO:root:Querying Max retries: 48, Retry interval: 4\n",
      "INFO:root:Querying ID: 7432272001626015754\n",
      "INFO:root:Querying ID: 7432272001626015754\n",
      "INFO:root:Querying ID: 7432272001626015754\n"
     ]
    },
    {
     "name": "stdout",
     "output_type": "stream",
     "text": [
      "Downloading audio segments...\n",
      "Combining audio files and generating SRT...\n"
     ]
    },
    {
     "name": "stderr",
     "output_type": "stream",
     "text": [
      "INFO:root:TTS task completed.\n",
      "INFO:root:Starting TTS task...\n"
     ]
    },
    {
     "name": "stdout",
     "output_type": "stream",
     "text": [
      "Generating TTS for 56_part0\n"
     ]
    },
    {
     "name": "stderr",
     "output_type": "stream",
     "text": [
      "INFO:root:Task submitted with ID: 7432272162020395042\n",
      "INFO:root:Querying Max retries: 48, Retry interval: 4\n",
      "INFO:root:Querying ID: 7432272162020395042\n",
      "INFO:root:Querying ID: 7432272162020395042\n",
      "INFO:root:Querying ID: 7432272162020395042\n",
      "INFO:root:Querying ID: 7432272162020395042\n"
     ]
    },
    {
     "name": "stdout",
     "output_type": "stream",
     "text": [
      "Downloading audio segments...\n",
      "Combining audio files and generating SRT...\n"
     ]
    },
    {
     "name": "stderr",
     "output_type": "stream",
     "text": [
      "INFO:root:TTS task completed.\n",
      "INFO:root:Starting TTS task...\n"
     ]
    },
    {
     "name": "stdout",
     "output_type": "stream",
     "text": [
      "Generating TTS for 57_part0\n"
     ]
    },
    {
     "name": "stderr",
     "output_type": "stream",
     "text": [
      "INFO:root:Task submitted with ID: 7432272336528607272\n",
      "INFO:root:Querying Max retries: 48, Retry interval: 4\n",
      "INFO:root:Querying ID: 7432272336528607272\n",
      "INFO:root:Querying ID: 7432272336528607272\n",
      "INFO:root:Querying ID: 7432272336528607272\n",
      "INFO:root:Querying ID: 7432272336528607272\n"
     ]
    },
    {
     "name": "stdout",
     "output_type": "stream",
     "text": [
      "Downloading audio segments...\n",
      "Combining audio files and generating SRT...\n"
     ]
    },
    {
     "name": "stderr",
     "output_type": "stream",
     "text": [
      "INFO:root:TTS task completed.\n",
      "INFO:root:Starting TTS task...\n"
     ]
    },
    {
     "name": "stdout",
     "output_type": "stream",
     "text": [
      "Generating TTS for 58_part0\n"
     ]
    },
    {
     "name": "stderr",
     "output_type": "stream",
     "text": [
      "INFO:root:Task submitted with ID: 7432272503055059007\n",
      "INFO:root:Querying Max retries: 48, Retry interval: 2\n",
      "INFO:root:Querying ID: 7432272503055059007\n",
      "INFO:root:Querying ID: 7432272503055059007\n",
      "INFO:root:Querying ID: 7432272503055059007\n",
      "INFO:root:Querying ID: 7432272503055059007\n",
      "INFO:root:Querying ID: 7432272503055059007\n"
     ]
    },
    {
     "name": "stdout",
     "output_type": "stream",
     "text": [
      "Downloading audio segments...\n",
      "Combining audio files and generating SRT...\n"
     ]
    },
    {
     "name": "stderr",
     "output_type": "stream",
     "text": [
      "INFO:root:TTS task completed.\n",
      "INFO:root:Starting TTS task...\n"
     ]
    },
    {
     "name": "stdout",
     "output_type": "stream",
     "text": [
      "Generating TTS for 59_part0\n"
     ]
    },
    {
     "name": "stderr",
     "output_type": "stream",
     "text": [
      "INFO:root:Task submitted with ID: 7432272631740499977\n",
      "INFO:root:Querying Max retries: 48, Retry interval: 2\n",
      "INFO:root:Querying ID: 7432272631740499977\n",
      "INFO:root:Querying ID: 7432272631740499977\n",
      "INFO:root:Querying ID: 7432272631740499977\n",
      "INFO:root:Querying ID: 7432272631740499977\n",
      "INFO:root:Querying ID: 7432272631740499977\n",
      "INFO:root:Querying ID: 7432272631740499977\n",
      "INFO:root:Querying ID: 7432272631740499977\n",
      "INFO:root:Querying ID: 7432272631740499977\n"
     ]
    },
    {
     "name": "stdout",
     "output_type": "stream",
     "text": [
      "Downloading audio segments...\n",
      "Combining audio files and generating SRT...\n"
     ]
    },
    {
     "name": "stderr",
     "output_type": "stream",
     "text": [
      "INFO:root:TTS task completed.\n",
      "INFO:root:Starting TTS task...\n"
     ]
    },
    {
     "name": "stdout",
     "output_type": "stream",
     "text": [
      "Generating TTS for 60_part0\n"
     ]
    },
    {
     "name": "stderr",
     "output_type": "stream",
     "text": [
      "INFO:root:Task submitted with ID: 7432272801966327848\n",
      "INFO:root:Querying Max retries: 48, Retry interval: 4\n",
      "INFO:root:Querying ID: 7432272801966327848\n",
      "INFO:root:Querying ID: 7432272801966327848\n",
      "INFO:root:Querying ID: 7432272801966327848\n"
     ]
    },
    {
     "name": "stdout",
     "output_type": "stream",
     "text": [
      "Downloading audio segments...\n",
      "Combining audio files and generating SRT...\n"
     ]
    },
    {
     "name": "stderr",
     "output_type": "stream",
     "text": [
      "INFO:root:TTS task completed.\n",
      "INFO:root:Starting TTS task...\n"
     ]
    },
    {
     "name": "stdout",
     "output_type": "stream",
     "text": [
      "Generating TTS for 61_part0\n"
     ]
    },
    {
     "name": "stderr",
     "output_type": "stream",
     "text": [
      "INFO:root:Task submitted with ID: 7432272952957077504\n",
      "INFO:root:Querying Max retries: 48, Retry interval: 2\n",
      "INFO:root:Querying ID: 7432272952957077504\n",
      "INFO:root:Querying ID: 7432272952957077504\n",
      "INFO:root:Querying ID: 7432272952957077504\n",
      "INFO:root:Querying ID: 7432272952957077504\n",
      "INFO:root:Querying ID: 7432272952957077504\n"
     ]
    },
    {
     "name": "stdout",
     "output_type": "stream",
     "text": [
      "Downloading audio segments...\n",
      "Combining audio files and generating SRT...\n"
     ]
    },
    {
     "name": "stderr",
     "output_type": "stream",
     "text": [
      "INFO:root:TTS task completed.\n",
      "INFO:root:Starting TTS task...\n"
     ]
    },
    {
     "name": "stdout",
     "output_type": "stream",
     "text": [
      "Generating TTS for 62_part0\n"
     ]
    },
    {
     "name": "stderr",
     "output_type": "stream",
     "text": [
      "INFO:root:Task submitted with ID: 7432273091721431067\n",
      "INFO:root:Querying Max retries: 48, Retry interval: 2\n",
      "INFO:root:Querying ID: 7432273091721431067\n",
      "INFO:root:Querying ID: 7432273091721431067\n",
      "INFO:root:Querying ID: 7432273091721431067\n",
      "INFO:root:Querying ID: 7432273091721431067\n",
      "INFO:root:Querying ID: 7432273091721431067\n",
      "INFO:root:Querying ID: 7432273091721431067\n"
     ]
    },
    {
     "name": "stdout",
     "output_type": "stream",
     "text": [
      "Downloading audio segments...\n",
      "Combining audio files and generating SRT...\n"
     ]
    },
    {
     "name": "stderr",
     "output_type": "stream",
     "text": [
      "INFO:root:TTS task completed.\n",
      "INFO:root:Starting TTS task...\n"
     ]
    },
    {
     "name": "stdout",
     "output_type": "stream",
     "text": [
      "Generating TTS for 63_part0\n"
     ]
    },
    {
     "name": "stderr",
     "output_type": "stream",
     "text": [
      "INFO:root:Task submitted with ID: 7432273244385708095\n",
      "INFO:root:Querying Max retries: 48, Retry interval: 4\n",
      "INFO:root:Querying ID: 7432273244385708095\n",
      "INFO:root:Querying ID: 7432273244385708095\n",
      "INFO:root:Querying ID: 7432273244385708095\n",
      "INFO:root:Querying ID: 7432273244385708095\n"
     ]
    },
    {
     "name": "stdout",
     "output_type": "stream",
     "text": [
      "Downloading audio segments...\n",
      "Combining audio files and generating SRT...\n"
     ]
    },
    {
     "name": "stderr",
     "output_type": "stream",
     "text": [
      "INFO:root:TTS task completed.\n",
      "INFO:root:Starting TTS task...\n"
     ]
    },
    {
     "name": "stdout",
     "output_type": "stream",
     "text": [
      "Generating TTS for 64_part0\n"
     ]
    },
    {
     "name": "stderr",
     "output_type": "stream",
     "text": [
      "INFO:root:Task submitted with ID: 7432273419464345619\n",
      "INFO:root:Querying Max retries: 48, Retry interval: 2\n",
      "INFO:root:Querying ID: 7432273419464345619\n",
      "INFO:root:Querying ID: 7432273419464345619\n",
      "INFO:root:Querying ID: 7432273419464345619\n",
      "INFO:root:Querying ID: 7432273419464345619\n",
      "INFO:root:Querying ID: 7432273419464345619\n",
      "INFO:root:Querying ID: 7432273419464345619\n",
      "INFO:root:Querying ID: 7432273419464345619\n",
      "INFO:root:Querying ID: 7432273419464345619\n",
      "INFO:root:Querying ID: 7432273419464345619\n",
      "INFO:root:Querying ID: 7432273419464345619\n",
      "INFO:root:Querying ID: 7432273419464345619\n",
      "INFO:root:Querying ID: 7432273419464345619\n",
      "INFO:root:Querying ID: 7432273419464345619\n",
      "INFO:root:Querying ID: 7432273419464345619\n",
      "INFO:root:Querying ID: 7432273419464345619\n",
      "INFO:root:Querying ID: 7432273419464345619\n",
      "INFO:root:Querying ID: 7432273419464345619\n"
     ]
    },
    {
     "name": "stdout",
     "output_type": "stream",
     "text": [
      "Downloading audio segments...\n",
      "Combining audio files and generating SRT...\n"
     ]
    },
    {
     "name": "stderr",
     "output_type": "stream",
     "text": [
      "INFO:root:TTS task completed.\n",
      "INFO:root:Starting TTS task...\n"
     ]
    },
    {
     "name": "stdout",
     "output_type": "stream",
     "text": [
      "Generating TTS for 65_part0\n"
     ]
    },
    {
     "name": "stderr",
     "output_type": "stream",
     "text": [
      "INFO:root:Task submitted with ID: 7432273721231935526\n",
      "INFO:root:Querying Max retries: 48, Retry interval: 2\n",
      "INFO:root:Querying ID: 7432273721231935526\n",
      "INFO:root:Querying ID: 7432273721231935526\n",
      "INFO:root:Querying ID: 7432273721231935526\n",
      "INFO:root:Querying ID: 7432273721231935526\n",
      "INFO:root:Querying ID: 7432273721231935526\n"
     ]
    },
    {
     "name": "stdout",
     "output_type": "stream",
     "text": [
      "Downloading audio segments...\n",
      "Combining audio files and generating SRT...\n"
     ]
    },
    {
     "name": "stderr",
     "output_type": "stream",
     "text": [
      "INFO:root:TTS task completed.\n",
      "INFO:root:Starting TTS task...\n"
     ]
    },
    {
     "name": "stdout",
     "output_type": "stream",
     "text": [
      "Generating TTS for 66_part0\n"
     ]
    },
    {
     "name": "stderr",
     "output_type": "stream",
     "text": [
      "INFO:root:Task submitted with ID: 7432273871593539647\n",
      "INFO:root:Querying Max retries: 48, Retry interval: 4\n",
      "INFO:root:Querying ID: 7432273871593539647\n",
      "INFO:root:Querying ID: 7432273871593539647\n",
      "INFO:root:Querying ID: 7432273871593539647\n",
      "INFO:root:Querying ID: 7432273871593539647\n"
     ]
    },
    {
     "name": "stdout",
     "output_type": "stream",
     "text": [
      "Downloading audio segments...\n",
      "Combining audio files and generating SRT...\n"
     ]
    },
    {
     "name": "stderr",
     "output_type": "stream",
     "text": [
      "INFO:root:TTS task completed.\n",
      "INFO:root:Starting TTS task...\n"
     ]
    },
    {
     "name": "stdout",
     "output_type": "stream",
     "text": [
      "Generating TTS for 67_part0\n"
     ]
    },
    {
     "name": "stderr",
     "output_type": "stream",
     "text": [
      "INFO:root:Task submitted with ID: 7432274046475044874\n",
      "INFO:root:Querying Max retries: 48, Retry interval: 2\n",
      "INFO:root:Querying ID: 7432274046475044874\n",
      "INFO:root:Querying ID: 7432274046475044874\n",
      "INFO:root:Querying ID: 7432274046475044874\n",
      "INFO:root:Querying ID: 7432274046475044874\n"
     ]
    },
    {
     "name": "stdout",
     "output_type": "stream",
     "text": [
      "Downloading audio segments...\n",
      "Combining audio files and generating SRT...\n"
     ]
    },
    {
     "name": "stderr",
     "output_type": "stream",
     "text": [
      "INFO:root:TTS task completed.\n",
      "INFO:root:Starting TTS task...\n"
     ]
    },
    {
     "name": "stdout",
     "output_type": "stream",
     "text": [
      "Generating TTS for 67_part1\n"
     ]
    },
    {
     "name": "stderr",
     "output_type": "stream",
     "text": [
      "INFO:root:Task submitted with ID: 7432274149906581504\n",
      "INFO:root:Querying Max retries: 48, Retry interval: 2\n",
      "INFO:root:Querying ID: 7432274149906581504\n",
      "INFO:root:Querying ID: 7432274149906581504\n",
      "INFO:root:Querying ID: 7432274149906581504\n",
      "INFO:root:Querying ID: 7432274149906581504\n",
      "INFO:root:Querying ID: 7432274149906581504\n"
     ]
    },
    {
     "name": "stdout",
     "output_type": "stream",
     "text": [
      "Downloading audio segments...\n",
      "Combining audio files and generating SRT...\n"
     ]
    },
    {
     "name": "stderr",
     "output_type": "stream",
     "text": [
      "INFO:root:TTS task completed.\n",
      "INFO:root:Starting TTS task...\n"
     ]
    },
    {
     "name": "stdout",
     "output_type": "stream",
     "text": [
      "Generating TTS for combined_commentaries\n"
     ]
    },
    {
     "name": "stderr",
     "output_type": "stream",
     "text": [
      "INFO:root:Task submitted with ID: 7432274368245270547\n",
      "INFO:root:Querying Max retries: 48, Retry interval: 12\n",
      "INFO:root:Querying ID: 7432274368245270547\n",
      "INFO:root:Querying ID: 7432274368245270547\n",
      "INFO:root:Querying ID: 7432274368245270547\n",
      "INFO:root:Querying ID: 7432274368245270547\n",
      "INFO:root:Querying ID: 7432274368245270547\n",
      "INFO:root:Querying ID: 7432274368245270547\n",
      "INFO:root:Querying ID: 7432274368245270547\n",
      "INFO:root:Querying ID: 7432274368245270547\n",
      "INFO:root:Querying ID: 7432274368245270547\n",
      "INFO:root:Querying ID: 7432274368245270547\n",
      "INFO:root:Querying ID: 7432274368245270547\n",
      "INFO:root:Querying ID: 7432274368245270547\n",
      "INFO:root:Querying ID: 7432274368245270547\n",
      "INFO:root:Querying ID: 7432274368245270547\n",
      "INFO:root:Querying ID: 7432274368245270547\n",
      "INFO:root:Querying ID: 7432274368245270547\n",
      "INFO:root:Querying ID: 7432274368245270547\n",
      "INFO:root:Querying ID: 7432274368245270547\n",
      "INFO:root:Querying ID: 7432274368245270547\n",
      "INFO:root:Querying ID: 7432274368245270547\n",
      "INFO:root:Querying ID: 7432274368245270547\n",
      "INFO:root:Querying ID: 7432274368245270547\n",
      "INFO:root:Querying ID: 7432274368245270547\n",
      "INFO:root:Querying ID: 7432274368245270547\n",
      "INFO:root:Querying ID: 7432274368245270547\n",
      "INFO:root:Querying ID: 7432274368245270547\n",
      "INFO:root:Querying ID: 7432274368245270547\n",
      "INFO:root:Querying ID: 7432274368245270547\n",
      "INFO:root:Querying ID: 7432274368245270547\n",
      "INFO:root:Querying ID: 7432274368245270547\n",
      "INFO:root:Querying ID: 7432274368245270547\n",
      "INFO:root:Querying ID: 7432274368245270547\n",
      "INFO:root:Querying ID: 7432274368245270547\n",
      "INFO:root:Querying ID: 7432274368245270547\n",
      "INFO:root:Querying ID: 7432274368245270547\n"
     ]
    },
    {
     "name": "stdout",
     "output_type": "stream",
     "text": [
      "Downloading audio segments...\n",
      "Failed to download audio for segment 21ea802a984711ef9dc63436ac12002c, Status: 424\n",
      "Combining audio files and generating SRT...\n"
     ]
    },
    {
     "name": "stderr",
     "output_type": "stream",
     "text": [
      "INFO:root:TTS task completed.\n",
      "INFO:root:Starting TTS task...\n"
     ]
    },
    {
     "name": "stdout",
     "output_type": "stream",
     "text": [
      "Generating TTS for combined_refined_script\n"
     ]
    },
    {
     "name": "stderr",
     "output_type": "stream",
     "text": [
      "INFO:root:Task submitted with ID: 7432278865260578854\n",
      "INFO:root:Querying Max retries: 48, Retry interval: 6\n",
      "INFO:root:Querying ID: 7432278865260578854\n",
      "INFO:root:Querying ID: 7432278865260578854\n",
      "INFO:root:Querying ID: 7432278865260578854\n",
      "INFO:root:Querying ID: 7432278865260578854\n"
     ]
    },
    {
     "name": "stdout",
     "output_type": "stream",
     "text": [
      "Downloading audio segments...\n",
      "Combining audio files and generating SRT...\n"
     ]
    },
    {
     "name": "stderr",
     "output_type": "stream",
     "text": [
      "INFO:root:TTS task completed.\n"
     ]
    }
   ],
   "source": [
    "novel = Novel(dir='datasets/yujie', main_character=\"史金\", novel_mode=\"tts\")\n",
    "tts = TTS(novel=novel, model=JianYingTTS())\n",
    "await tts.generate(novel=novel)"
   ]
  },
  {
   "cell_type": "code",
   "execution_count": null,
   "metadata": {},
   "outputs": [],
   "source": []
  }
 ],
 "metadata": {
  "kernelspec": {
   "display_name": "chatgpt",
   "language": "python",
   "name": "python3"
  },
  "language_info": {
   "codemirror_mode": {
    "name": "ipython",
    "version": 3
   },
   "file_extension": ".py",
   "mimetype": "text/x-python",
   "name": "python",
   "nbconvert_exporter": "python",
   "pygments_lexer": "ipython3",
   "version": "3.11.9"
  }
 },
 "nbformat": 4,
 "nbformat_minor": 2
}
