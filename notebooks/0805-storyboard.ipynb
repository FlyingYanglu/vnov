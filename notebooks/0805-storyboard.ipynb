{
 "cells": [
  {
   "cell_type": "code",
   "execution_count": 1,
   "metadata": {},
   "outputs": [],
   "source": [
    "%reload_ext autoreload\n",
    "%autoreload 2"
   ]
  },
  {
   "cell_type": "code",
   "execution_count": 2,
   "metadata": {},
   "outputs": [
    {
     "name": "stdout",
     "output_type": "stream",
     "text": [
      "E:\\OneDrive\\Documents\\Workspace\\vision novel\n"
     ]
    }
   ],
   "source": [
    "%cd E:/OneDrive/Documents/Workspace/vision novel/"
   ]
  },
  {
   "cell_type": "code",
   "execution_count": 3,
   "metadata": {},
   "outputs": [],
   "source": [
    "from vnov.story.photographer import Photographer\n",
    "from vnov.llms.llama import Llama"
   ]
  },
  {
   "cell_type": "code",
   "execution_count": 4,
   "metadata": {},
   "outputs": [],
   "source": [
    "from vnov.data import Novel, Script"
   ]
  },
  {
   "cell_type": "code",
   "execution_count": 5,
   "metadata": {},
   "outputs": [
    {
     "data": {
      "application/vnd.jupyter.widget-view+json": {
       "model_id": "d3d901a00cf14bf48adf2f01783e2944",
       "version_major": 2,
       "version_minor": 0
      },
      "text/plain": [
       "Loading checkpoint shards:   0%|          | 0/4 [00:00<?, ?it/s]"
      ]
     },
     "metadata": {},
     "output_type": "display_data"
    }
   ],
   "source": [
    "model = Llama()"
   ]
  },
  {
   "cell_type": "code",
   "execution_count": 6,
   "metadata": {},
   "outputs": [],
   "source": [
    "novel = Novel(\"datasets/yujie\")"
   ]
  },
  {
   "cell_type": "code",
   "execution_count": 7,
   "metadata": {},
   "outputs": [],
   "source": [
    "script = Script(\"datasets/yujie/outputs\")"
   ]
  },
  {
   "cell_type": "code",
   "execution_count": 8,
   "metadata": {},
   "outputs": [],
   "source": [
    "script_chapter = script[0]"
   ]
  },
  {
   "cell_type": "code",
   "execution_count": 12,
   "metadata": {},
   "outputs": [
    {
     "data": {
      "text/plain": [
       "'**第1章 卑微舔狗的悲惨结局，还有御姐殉情？**\\n\\n我还记得那天的葬礼，四十公里外西南的荒山上，清冷的风吹过，远远的，我看到一个骨灰坛子，眼前的小土坑里，火葬场的工作人员将它放置好。除了两个工作人员外，只有我和陈金莲在场。她的面容精致俏丽，一双桃眼潋淃春波，红唇水润光泽，身材妖娆，是个姿色绝佳的美人。\\n\\n我愤怒至极，若不是我现在灵魂状态，早就扑上去咬死他们了。七年前，我从学生时代起，便做卑微的舔狗追了她，后来我的事业有所转机了，才在她失恋的时候追到她，花了二十八万八的彩礼娶了她。婚后我对她很是珍惜，小心翼翼的捧在手心里，舍不得她受一点委屈。可即便如此，她还是给了我绿帽！还在我的饮食里下毒，将我匆忙火化，埋在这荒凉的山野。\\n\\n我真的是瞎了眼、蒙了心，竟然执着的舔她、爱她，为她悲惨的奋斗一生！情夫叶笑天一脸戏谑，走到骨灰坛子前，藐视的道：“史金啊史金啊！窝囊了那么多年，好不容易有个漂亮老婆！偏偏要得罪她，现在变成一堆灰！啥也没了！何苦哀哉！”\\n\\n我听得脑袋都快气炸了，他恨不得化成厉鬼，就算永生永世不得超生，他也要将这对狗男女撕成碎片！可他，终究什么都做不了！陈金莲将一粗糙的玛瑙石坠扔在骨灰坛子前，幽幽的道：“喏，这个垃圾还给你了，让它陪你吧！要不是看你有点挣钱的本事，谁要你这垃圾！”\\n\\n我一眼认出，那是母亲传给我的，虽然是个普通的玛瑙石，却被我视做珍宝。正在这时，山腰处来了四五辆轿车，一身穿着白色西装、黑格子衬衣，踩着红色高跟鞋的干练女子火急火燎的赶来。一头微卷的长发被风吹得肆意舞动。她绝色风华，艳冠天下，那明亮懾人的眸子不怒自威，她是华胜集团的唯一女董事长，更是魔都财阀秦家五虎的独妹，万人捧宠的绝艳公主——秦霜。\\n\\n她大我七岁，从我高中时资助我，再到后来多次在我创业时无尝帮助我，给我介绍资源人脉，她一直以来就像一个温柔、慈祥的长辈，呵护着我的成长。一直以来，我都把她当成姐姐、亲小姨一般。她也曾多次劝我不要跪舔陈金莲，为此还与我吵过几架，但年少无知的我却一意孤行，坚持跪舔陈金莲。\\n\\n她也曾多次开玩笑说要嫁我，但我都脸红的拒绝了。在当时的我看来，秦霜大我七岁，虽然我也对她充满好感，但我坚持自己的骨气、节操，不想吃软饭！把她当“兄弟”。后来我追到了陈金莲，两人联系也变少了，很多年没有见面了。却不想在今天，她竟然找到这里来了！\\n\\n看着这些突兀出现的人，陈金莲不怀好意的喝问：“你是谁？你有什么事？”秦霜丝毫不予理会，兀自走到史金骨灰坛子前，轻轻的抚摸着，仿佛在与爱人耳鬓厮磨，道：“都说女追男隔层纱，不知是年龄还是身份……让你一直都把我无视！”“或许当初我应该更坚决更强硬一些……你就不会这样了……”\\n\\n叶笑天见状，阴冷的上前，喝道：“哟，看你这痴情的样子，你就是史金的那个老相好吧！听说你大他七岁——”他冷嘲的话还没说完，半蹲的秦霜突然转身，猛的站了起来，同时她的右手从兜里掏出一枝钢笔，拨出笔套，迅猛的扎进了叶笑天的脖子大动脉，鲜血“噗”的便飚射出来。\\n\\n“啊啊……”叶笑天便在地上，惊恐的想要捂住脖子，在血泊中挣扎了两下便没有了动静。跟来的众人惊呆了，蒙了数秒之后，记者急忙拍照按下快门。随行的保镖则是将现场围了起来。这一向理智温婉的秦霜，竟然暴起伤人！\\n\\n秦霜不管手上的血，将头发捌在耳迹，整个人显得妖治冷血。她拿起骨灰坛前的白布，猛的勒住了还处于惊恐状态的陈金莲。“救命……”陈金莲想要挣扎，但她哪里是获得全国散打冠军的秦霜对手，没一会儿脸就黑了，整个人都软了，她被活活勒死了。\\n\\n在场的人都惊呆了，秦霜当着这么多人的面杀人，给人留下把柄，这完全是放弃了自己这些年好不容易得来的权势、地位、财富。山下警车呼啸，现场人群慌乱！“安静！”秦霜一声喝，现场顿时安静下来，一个个惊恐莫名的看着她。她一个眼神，便让想要上前铐她的警察止住了脚步。\\n\\n强大的气场震慑了在场所有人，包括警察、打手，还有她的竞争对手。“妹妹~”一道身影快速的分开人群冲到了前面，来人是秦霜的三哥秦枫，一个两眼凶悍，杀气腾腾的中年，脸因愤怒而异常红。当初他找过我几次，甚至还凶悍的揍过我。\\n\\n看到秦枫，我一股本能的恐惧涌上心头，即便是成为了灵魂体，我依旧对他充满了畏惧，感到忐忑不安。秦霜回头，看了一眼着急愤怒的三哥，惨然一笑道：“三哥，请代我为父母敬孝了！当初，我一时心软，没有坚持嫁给他，这才导致他被**妇所害……今天，我随他去了！”“请你们再也不要把我们分开了，我就葬在这个地方！”“不要……”秦枫一听吓得一哆嗦，急忙扑向秦霜。\\n\\n秦霜抬起一手阻止了他，另一只手果断快速的抹过脖子，鲜血从她白玉的脖子处飚射而出，将这天地染成一片血红！秦枫无奈嘶吼，老眼通红的点点头，泪水止不住的落了下来，奋力前扑。他的眼神里满是痛苦和绝望，他知道，他的妹妹已经不再是他认识的秦霜了。\\n\\n我也知道，我已经不再是年少无知的我了，我已经蜕变成长，明白了什么是真正的爱情和友情。秦霜踉跄木讷的走到骨灰坛前，我的每一步都那么沉重，似乎她的灵魂已经飞走，这沉重的壳随时都要碎掉一般。“史金，这辈子，下辈子，生生世世，我们都要在一起……”在众人惊恐的目光中，她扑倒在骨灰坛子上，热血染红了一片。\\n\\n她竟然露出了满意幸福的微笑！现场顿时一片尖叫惨喝！我脑袋嗡嗡的，那个一直被我忽视的邻家姐姐、兄弟一般的温情女子，竟然为我报了仇，还以死“殉情”了？此刻我才明白，人生最大的遗憾不是错过了最好的人，而是错过了那个最想对你好的人！\\n\\n心疼到无法呼吸，后悔万分，现在终于明白，只可惜自己选错了人、走错了路……正当我脑中万千思绪充斥时，那骨灰坛子处突然爆发出一阵炽目的白光，接着我的眼前一花，光线一暗，我定睛一看，竟然发现自己躺在一豪华的大床之上。\\n\\n我赤身**，雪白的床单上还有点点红梅花，我以为一切都是做梦，直到手臂上的痛疼传来，这才让我意识到这是真的。而我也发现脖子上的玛瑙石却是变了颜色，与自己手机里之前拍的照完全不一样。“它带着我重生了！”我一脸的问号。\\n\\n正当这时，房门被推，一个熟悉的身影走了进来。秦霜俏脸冰寒的看了我一会儿，那凌冽的眼神，看得我紧张万分。要是曾经的我，肯定心虚的不敢与之对视。可如今我体内的灵魂已经蜕变成长，很快便平复下来。反倒是认真的看着秦霜，把秦霜的眼神看得躲闪起来。\\n\\n“堂堂七尺男儿，看你这没出息的样！不就是表白被女生拒绝吗？要死不活的，天下美女多的是，没了她你又不是活不下去！”我平静的回答道。要是曾经执着年少的我，肯定会毫不犹豫的回答没了她真活不了。曾经年少，我也把爱情当成信仰，看得比生命还重要！但如今不会了！\\n\\n“再说了，你们都还是上学的小屁孩，别成天想情情爱爱的……干点正事，你优秀了，自然能吸引更优秀的女孩子……”秦霜阴沉着脸喝道，随即将一旁的衣服丢给了我。'"
      ]
     },
     "execution_count": 12,
     "metadata": {},
     "output_type": "execute_result"
    }
   ],
   "source": [
    "script_chapter"
   ]
  },
  {
   "cell_type": "code",
   "execution_count": 9,
   "metadata": {},
   "outputs": [],
   "source": [
    "photographer = Photographer(model=model)"
   ]
  },
  {
   "cell_type": "code",
   "execution_count": 15,
   "metadata": {},
   "outputs": [
    {
     "name": "stderr",
     "output_type": "stream",
     "text": [
      "Setting `pad_token_id` to `eos_token_id`:128009 for open-end generation.\n"
     ]
    }
   ],
   "source": [
    "shots = photographer.take_shots(script_chapter)\n"
   ]
  },
  {
   "cell_type": "code",
   "execution_count": 14,
   "metadata": {},
   "outputs": [
    {
     "data": {
      "text/plain": [
       "(2787, 22)"
      ]
     },
     "execution_count": 14,
     "metadata": {},
     "output_type": "execute_result"
    }
   ],
   "source": [
    "len(script_chapter), len(shots)"
   ]
  },
  {
   "cell_type": "code",
   "execution_count": 16,
   "metadata": {},
   "outputs": [],
   "source": [
    "photographer.save_shots(shots, \"datasets/yujie/shots/1.json\")"
   ]
  },
  {
   "cell_type": "code",
   "execution_count": null,
   "metadata": {},
   "outputs": [],
   "source": []
  }
 ],
 "metadata": {
  "kernelspec": {
   "display_name": "sd",
   "language": "python",
   "name": "python3"
  },
  "language_info": {
   "codemirror_mode": {
    "name": "ipython",
    "version": 3
   },
   "file_extension": ".py",
   "mimetype": "text/x-python",
   "name": "python",
   "nbconvert_exporter": "python",
   "pygments_lexer": "ipython3",
   "version": "3.12.4"
  }
 },
 "nbformat": 4,
 "nbformat_minor": 2
}
