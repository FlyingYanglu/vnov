{
 "cells": [
  {
   "cell_type": "code",
   "execution_count": 1,
   "metadata": {},
   "outputs": [],
   "source": [
    "%reload_ext autoreload\n",
    "%autoreload 2"
   ]
  },
  {
   "cell_type": "code",
   "execution_count": 2,
   "metadata": {},
   "outputs": [
    {
     "name": "stdout",
     "output_type": "stream",
     "text": [
      "C:\\Users\\heroe\\OneDrive\\桌面\\play-gpt\\vnov\n"
     ]
    },
    {
     "name": "stderr",
     "output_type": "stream",
     "text": [
      "C:\\Users\\heroe\\AppData\\Roaming\\Python\\Python312\\site-packages\\IPython\\core\\magics\\osm.py:417: UserWarning: This is now an optional IPython functionality, setting dhist requires you to install the `pickleshare` library.\n",
      "  self.shell.db['dhist'] = compress_dhist(dhist)[-100:]\n"
     ]
    }
   ],
   "source": [
    "%cd C:\\Users\\heroe\\OneDrive\\桌面\\play-gpt\\vnov"
   ]
  },
  {
   "cell_type": "code",
   "execution_count": 3,
   "metadata": {},
   "outputs": [],
   "source": [
    "from vnov.data import Novel\n",
    "from vnov.story.storyteller import StoryTeller\n",
    "from vnov.story.prompts import (\n",
    "    STORYTELLER_ROLE,\n",
    "    TELLING_INSERTION,\n",
    "    FIRSTPERSON_TELLING,\n",
    "    FIRST_PERSON_TELLING_PREVIOUSLY, PROMPT_OPTIMIZATION\n",
    ")"
   ]
  },
  {
   "cell_type": "code",
   "execution_count": 4,
   "metadata": {},
   "outputs": [],
   "source": [
    "from poept import PoePT\n",
    "import threading\n",
    "import time\n",
    "import json\n",
    "import os"
   ]
  },
  {
   "cell_type": "code",
   "execution_count": 5,
   "metadata": {},
   "outputs": [],
   "source": [
    "with open(\"./datasets/character_dict.json\", \"r\", encoding=\"utf-8\") as f:\n",
    "    character_json = json.load(f)"
   ]
  },
  {
   "cell_type": "code",
   "execution_count": null,
   "metadata": {},
   "outputs": [],
   "source": [
    "def filter_more_than(item, filter_count=20):\n",
    "    chapter_dict = item[1]\n",
    "    return sum(map(len, chapter_dict.values())) >= filter_count\n",
    "\n",
    "# character_to_times = {}\n",
    "# for char, dict_1 in character_json.items():\n",
    "#     total = 0\n",
    "#     for k, v in dict_1.items():\n",
    "#         total += len(v)\n",
    "#     if total >= 15:\n",
    "#         character_to_times[char] = total\n",
    "# character_to_times\n",
    "# k = dict(filter(filter_more_than, character_json.items()))\n",
    "# k"
   ]
  },
  {
   "cell_type": "code",
   "execution_count": 10,
   "metadata": {},
   "outputs": [],
   "source": [
    "char_set = set(character_to_times.keys())"
   ]
  },
  {
   "cell_type": "code",
   "execution_count": 8,
   "metadata": {},
   "outputs": [],
   "source": [
    "# all_chapters = sorted([f for f in os.listdir('./datasets/yujie_script_refined') if f.endswith('txt')], key=lambda v:int(v.split(\"_\")[0]))\n",
    "# all_chapters"
   ]
  },
  {
   "cell_type": "code",
   "execution_count": 9,
   "metadata": {},
   "outputs": [],
   "source": [
    "# with open(\"./datasets/yujie_script_refined/combined_commentaries.txt\", 'w', encoding='utf-8') as outfile:\n",
    "#     # Iterate through all the .txt files\n",
    "#     for txt_file in all_chapters:\n",
    "#         # Open each .txt file in read mode\n",
    "#         with open(f\"./datasets/yujie_script_refined/{txt_file}\", 'r', encoding=\"utf-8\") as infile:\n",
    "#             # Read the content of the file and write it to the output file\n",
    "#             outfile.write(infile.read())\n",
    "#             outfile.write('\\n')  # Optionally add a newline between files"
   ]
  },
  {
   "cell_type": "code",
   "execution_count": 12,
   "metadata": {},
   "outputs": [
    {
     "name": "stdout",
     "output_type": "stream",
     "text": [
      "86\n",
      "done and put in cache 5\n",
      "done and put in cache 10\n",
      "done and put in cache 15\n",
      "done and put in cache 20\n",
      "done and put in cache 25\n",
      "done and put in cache 30\n",
      "done and put in cache 35\n",
      "done and put in cache 40\n",
      "done and put in cache 45\n",
      "done and put in cache 50\n",
      "done and put in cache 55\n",
      "done and put in cache 60\n",
      "done and put in cache 65\n",
      "done and put in cache 70\n",
      "done and put in cache 75\n",
      "done and put in cache 80\n",
      "done and put in cache 85\n"
     ]
    }
   ],
   "source": [
    "#setup needed everytime\n",
    "bot = PoePT()\n",
    "bot.login(\"uklu7405@gmail.com\")\n",
    "\n",
    "bot_token_max_length = 2420\n",
    "\n",
    "stories = []\n",
    "\n",
    "with open(\"./datasets/yujie_script_refined/combined_commentaries.txt\", \"r\", encoding=\"utf-8\") as f:\n",
    "    chapter_chunks = Novel.split_chapter(f.read(), bot_token_max_length-len(PROMPT_OPTIMIZATION))\n",
    "last_context = None\n",
    "print(len(chapter_chunks))\n",
    "really = True\n",
    "j = 0\n",
    "\n",
    "while j < len(chapter_chunks):\n",
    "    chapter_content = chapter_chunks[j]\n",
    "    prompt = PROMPT_OPTIMIZATION.format(content=chapter_content, main_character=\"史金\", character_set=char_set).replace('\\n', '\\\\n')\n",
    "    # print(prompt)\n",
    "    if j % 3 == 1:\n",
    "        response = bot.ask(newchat=True, bot=\"BotGIICEY2CD3\", prompt=prompt)\n",
    "        really = False\n",
    "    else:\n",
    "        response = bot.ask(newchat=False, bot=\"BotGIICEY2CD3\", prompt=prompt)\n",
    "    \n",
    "    time.sleep(5)\n",
    "\n",
    "    try:\n",
    "\n",
    "        response = response.splitlines()\n",
    "        response1 = '\\n'.join(response[2:])\n",
    "\n",
    "        response1 = json.loads(response1)\n",
    "        \n",
    "        stories.extend(response1)\n",
    "    except Exception:\n",
    "        continue\n",
    "    j += 1\n",
    "\n",
    "    if j % 5 == 0:\n",
    "        with open(f\"./datasets/yujie_script_refined/image_prompt_mainchar1/combined_commentaries_char_lst.json\", \"w\", encoding=\"utf-8\") as f:\n",
    "            json.dump(stories, f, indent=4, ensure_ascii=False)\n",
    "        print('done and put in cache', j)\n",
    "\n",
    "    # break\n",
    "\n",
    "\n",
    "\n",
    "    \n",
    "# except Exception:\n",
    "    # continue\n",
    "\n",
    "with open(f\"./datasets/yujie_script_refined/image_prompt_mainchar1/combined_commentaries_char_lst.json\", \"w\", encoding=\"utf-8\") as f:\n",
    "    json.dump(stories, f, indent=4, ensure_ascii=False)\n"
   ]
  },
  {
   "cell_type": "code",
   "execution_count": 13,
   "metadata": {},
   "outputs": [],
   "source": [
    "bot.close()"
   ]
  },
  {
   "cell_type": "code",
   "execution_count": null,
   "metadata": {},
   "outputs": [],
   "source": [
    "# #setup needed everytime\n",
    "# bot = PoePT()\n",
    "# bot.login(\"uklu7405@gmail.com\")\n",
    "# num_chapters = 0\n",
    "# bot_token_max_length = 2400\n",
    "# i = 0\n",
    "\n",
    "# while i <= num_chapters:\n",
    "#     # try:\n",
    "#     stories = []\n",
    "#     chapter_chunks = novel.split_chapter(i, bot_token_max_length-len(PROMPT_OPTIMIZATION))\n",
    "#     last_context = None\n",
    "#     # print(len(chapter_chunks))\n",
    "#     really = True\n",
    "#     for chapter_content in chapter_chunks:\n",
    "#         prompt = PROMPT_OPTIMIZATION.format(content=chapter_content, main_character=\"史金\").replace('\\n', '\\\\n')\n",
    "#         # print(prompt)\n",
    "#         if really and i % 3 == 0:\n",
    "#             response = bot.ask(newchat=True, bot=\"BotGIICEY2CD3\", prompt=prompt)\n",
    "#             really = False\n",
    "#         else:\n",
    "#             response = bot.ask(newchat=False, bot=\"BotGIICEY2CD3\", prompt=prompt)\n",
    "        \n",
    "#         time.sleep(5)\n",
    "\n",
    "#         response = response.splitlines()\n",
    "#         response1 = '\\n'.join(response[2:])\n",
    "\n",
    "#         response1 = json.loads(response1)\n",
    "        \n",
    "#         stories.extend(response1)\n",
    "\n",
    "        \n",
    "#         really = True\n",
    "        \n",
    "#     # except Exception:\n",
    "#         # continue\n",
    "    \n",
    "#     with open(f\"./datasets/yujie_script_refined/image_prompt_mainchar1/{i}.json\", \"w\", encoding=\"utf-8\") as f:\n",
    "#         json.dump(stories, f, indent=4, ensure_ascii=False)\n",
    "#     i += 1\n",
    "\n",
    "#     if i % 10 == 0:\n",
    "#         print(i, 'done')\n",
    "#     break\n",
    "#     # break\n",
    "#     # print(\"done\")\n",
    "#     # time.sleep(5)\n",
    "#     # # break\n",
    "#     # if i == 10:\n",
    "#     #     break\n",
    "\n",
    "#     # time.sleep(5)"
   ]
  },
  {
   "cell_type": "code",
   "execution_count": null,
   "metadata": {},
   "outputs": [],
   "source": [
    "# bot.close()"
   ]
  },
  {
   "cell_type": "code",
   "execution_count": null,
   "metadata": {},
   "outputs": [],
   "source": [
    "# import json"
   ]
  },
  {
   "cell_type": "code",
   "execution_count": 14,
   "metadata": {},
   "outputs": [
    {
     "data": {
      "text/plain": [
       "606"
      ]
     },
     "execution_count": 14,
     "metadata": {},
     "output_type": "execute_result"
    }
   ],
   "source": [
    "lst = []\n",
    "\n",
    "with open(f\"./datasets/yujie_script_refined/image_prompt_mainchar1/combined_commentaries_char_lst.json\", \"r\", encoding=\"utf-8\") as f:\n",
    "    lst = json.load(f)\n",
    "len(lst)"
   ]
  },
  {
   "cell_type": "code",
   "execution_count": 17,
   "metadata": {},
   "outputs": [
    {
     "data": {
      "text/plain": [
       "(35,\n",
       " {'代七',\n",
       "  '代七叔',\n",
       "  '代仲青',\n",
       "  '代红伟',\n",
       "  '史金',\n",
       "  '叶笑天',\n",
       "  '吴龙飞',\n",
       "  '大管家',\n",
       "  '孙小萌',\n",
       "  '客户经理',\n",
       "  '小助理',\n",
       "  '小弟',\n",
       "  '带头大哥',\n",
       "  '徐梦娜',\n",
       "  '德爷',\n",
       "  '思政老师',\n",
       "  '护士',\n",
       "  '杨自奎',\n",
       "  '江河',\n",
       "  '田守芳',\n",
       "  '秦霜',\n",
       "  '肖雅',\n",
       "  '胡正东',\n",
       "  '赖三',\n",
       "  '钟良宽',\n",
       "  '钱九',\n",
       "  '阮俊',\n",
       "  '阿东',\n",
       "  '陆大海',\n",
       "  '陈金莲',\n",
       "  '马士博',\n",
       "  '马蓉',\n",
       "  '高丽梅',\n",
       "  '黄三',\n",
       "  '黎莹'})"
      ]
     },
     "execution_count": 17,
     "metadata": {},
     "output_type": "execute_result"
    }
   ],
   "source": [
    "characters = set()\n",
    "for dict_entry in lst:\n",
    "    image_prompt = dict_entry[\"分镜提示词\"]\n",
    "    if '--cref --' in image_prompt:\n",
    "        curr_char = image_prompt.split('--cref --')[1]\n",
    "        if curr_char \n",
    "        characters.add(curr_char)\n",
    "\n",
    "    elif '--cref ' in image_prompt:\n",
    "        curr_char = image_prompt.split('--cref ')[1]\n",
    "        characters.add(curr_char)\n",
    "\n",
    "len(characters), characters"
   ]
  },
  {
   "cell_type": "code",
   "execution_count": 18,
   "metadata": {},
   "outputs": [
    {
     "data": {
      "text/plain": [
       "21"
      ]
     },
     "execution_count": 18,
     "metadata": {},
     "output_type": "execute_result"
    }
   ],
   "source": [
    "len(char_set)"
   ]
  }
 ],
 "metadata": {
  "kernelspec": {
   "display_name": "chatgpt",
   "language": "python",
   "name": "python3"
  },
  "language_info": {
   "codemirror_mode": {
    "name": "ipython",
    "version": 3
   },
   "file_extension": ".py",
   "mimetype": "text/x-python",
   "name": "python",
   "nbconvert_exporter": "python",
   "pygments_lexer": "ipython3",
   "version": "3.12.4"
  }
 },
 "nbformat": 4,
 "nbformat_minor": 2
}
