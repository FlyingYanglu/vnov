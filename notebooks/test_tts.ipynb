{
 "cells": [
  {
   "cell_type": "code",
   "execution_count": 1,
   "metadata": {},
   "outputs": [],
   "source": [
    "import librosa\n",
    "import soundfile as sf\n",
    "\n",
    "# Load the audio file\n",
    "def load_audio(file_path):\n",
    "    audio, sr = librosa.load(file_path, sr=None)\n",
    "    return audio, sr\n",
    "\n",
    "# Change the tempo without affecting the pitch\n",
    "def change_tempo(audio, speed_factor):\n",
    "    # Compute the STFT (Short-Time Fourier Transform)\n",
    "    stft = librosa.stft(audio)\n",
    "    # Apply time-stretching using phase vocoder\n",
    "    stretched_stft = librosa.phase_vocoder(stft, rate=speed_factor)\n",
    "    # Convert back to the time-domain signal\n",
    "    stretched_audio = librosa.istft(stretched_stft)\n",
    "    return stretched_audio\n",
    "\n",
    "# Save the adjusted audio\n",
    "def save_audio(audio_data, sr, output_path):\n",
    "    sf.write(output_path, audio_data, sr)\n",
    "\n",
    "# Run the process\n",
    "input_file = 'datasets/yujie/default/tts/1_part0_temp/96a7ec2e983111ef88518d7e8342d404.mp3'  # Replace with your input file path\n",
    "output_file = '27080074982811efa62b1def8d1e1045_15.MP3'  # Replace with your output file path\n",
    "speed_factor = 0.75  # 1.5x speed up; change as needed\n",
    "\n",
    "# # Load, process, and save\n",
    "# audio_data, sample_rate = load_audio(input_file)\n",
    "# adjusted_audio = change_tempo(audio_data, speed_factor)\n",
    "# save_audio(adjusted_audio, sample_rate, output_file)\n"
   ]
  },
  {
   "cell_type": "code",
   "execution_count": 2,
   "metadata": {},
   "outputs": [],
   "source": [
    "from audiostretchy.stretch import stretch_audio\n",
    "\n",
    "stretch_audio(input_file, output_file, speed_factor)"
   ]
  },
  {
   "cell_type": "code",
   "execution_count": null,
   "metadata": {},
   "outputs": [],
   "source": []
  }
 ],
 "metadata": {
  "kernelspec": {
   "display_name": "chatgpt",
   "language": "python",
   "name": "python3"
  },
  "language_info": {
   "codemirror_mode": {
    "name": "ipython",
    "version": 3
   },
   "file_extension": ".py",
   "mimetype": "text/x-python",
   "name": "python",
   "nbconvert_exporter": "python",
   "pygments_lexer": "ipython3",
   "version": "3.11.9"
  }
 },
 "nbformat": 4,
 "nbformat_minor": 2
}
