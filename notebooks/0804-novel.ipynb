{
 "cells": [
  {
   "cell_type": "code",
   "execution_count": 1,
   "metadata": {},
   "outputs": [],
   "source": [
    "%reload_ext autoreload\n",
    "%autoreload 2"
   ]
  },
  {
   "cell_type": "code",
   "execution_count": 2,
   "metadata": {},
   "outputs": [
    {
     "name": "stdout",
     "output_type": "stream",
     "text": [
      "E:\\OneDrive\\Documents\\Workspace\\vision novel\n"
     ]
    }
   ],
   "source": [
    "%cd E:/OneDrive/Documents/Workspace/vision novel/"
   ]
  },
  {
   "cell_type": "code",
   "execution_count": 3,
   "metadata": {},
   "outputs": [],
   "source": [
    "from vnov.data import Novel\n",
    "from vnov.story.storyteller import StoryTeller\n",
    "from vnov.llms.llama import Llama"
   ]
  },
  {
   "cell_type": "code",
   "execution_count": 4,
   "metadata": {},
   "outputs": [],
   "source": [
    "novel = Novel(\"datasets/yujie\")"
   ]
  },
  {
   "cell_type": "code",
   "execution_count": 5,
   "metadata": {},
   "outputs": [
    {
     "name": "stdout",
     "output_type": "stream",
     "text": [
      "第1章 卑微舔狗的悲惨结局，还有御姐殉情？\n",
      "“史金啊，你不是最爱我的吗？为什么不能容忍我有两个‘老公’呢！你既然为我生、为我死，为我而奋斗，你赚的钱为什么不能全部都给我呢……”\n",
      "魔都四十公里外西南，一片清冷的荒山，一场清冷的葬礼，除两个工作人员外，只有一男一女。火葬场的工作人员将一个骨灰坛子放在眼前的小土坑里，便退到了一边。\n",
      "他们脸上没有一丝悲戚，女人名叫陈金莲，面容精致俏丽，一双桃眼潋淃春波，红唇水润光泽，身材妖娆，是个姿色绝佳的美人。\n",
      "“这他妈就是你**加害我的理由？无耻至极！”史金愤怒至极，若不是他现在灵魂状态，早就扑上去咬死他们了。\n",
      "他从学生时代起，便做卑微的舔狗追了她七年，后来他的事业有所转机了，才在她失恋的时候追到她，花了二十八万八的彩礼娶了她。\n",
      "婚后他对她很是珍惜，小心翼翼的捧在手心里，舍不得她受一点委屈。他一天十几个小时拼命工作，渐渐的从一个小摊贩，成为一个身家千万的老板。\n",
      "但她不仅不接纳他的家人，还对他呼来喝去，每天什么都不做，心安理得的大手大脚的花着他挣的钱，不是在美容、瑜伽、SPA，就是逛街、喝茶、打牌。\n",
      "可即便如此，她还是给他戴了绿帽！还在他的饮食里下毒，将他匆忙火化，埋在这荒凉的山野。他真是瞎了眼、蒙了心，竟然执着的舔她、爱她，为她悲惨的奋斗一生！\n",
      "情夫叶笑天一脸戏谑，走到骨灰坛子前，藐视的道：“史金啊史金啊！窝囊了那么多年，好不容易有个漂亮老婆！偏偏要得罪她，现在变成一堆灰！啥也没了！何苦哀哉！”\n",
      "“是他逼我这么做的，谁让他之前发现我们的事情后，想让我净身出户来着！混蛋！他耽误了女人最宝贵的青春，却想吃干抹净……”\n",
      "灵魂态的史金听得脑袋都快气炸了，他恨不得化成厉鬼，就算永生永世不得超生，他也要将这对狗男女撕成碎片！\n",
      "可他，终究什么都做不了！\n",
      "“啪！”陈金莲将一粗糙的玛瑙石坠扔在骨灰坛子前，幽幽的道：“喏，这个垃圾还给你了，让它陪你吧！要不是看你有点挣钱的本事，谁要你这垃圾！”\n",
      "史金一眼认出，那是母亲传给他的，虽然是个普通的玛瑙石，却被他视做珍宝。\n",
      "“滴滴~”正在这时，山腰处来了四五辆轿车，一身穿着白色西装、黑格子衬衣，踩着红色高跟鞋的干练女子火急火燎的赶来，一头微卷的长发被风吹得肆意舞动。\n",
      "她绝色风华，艳冠天下，那明亮懾人的眸子不怒自威，她是华胜集团的唯一女董事长。\n",
      "更是魔都财阀秦家五虎的独妹，万人捧宠的绝艳公主——秦霜，一身强大的气场，周围的人与她保持着距离。\n",
      "她正在召开新品发布会，突然接了个电话，便神情阴郁的离开了。同时也有许多记者与宾客好奇的跟了过来。\n",
      "秦霜大史金七岁，从他高中时资助他，再到后来多次在他创业时无尝帮助他，给他介绍资源人脉，她一直以来就像一个温柔、慈祥的长辈，呵护着他的成长。\n",
      "一直以来，史金都把她当成姐姐、亲小姨一般。她也曾多次劝他不要跪舔陈金莲，为此还与他吵过几架，但年少无知的他却一意孤行，坚持跪舔陈金莲。\n",
      "她也曾多次开玩笑说要嫁他，但他都脸红的拒绝了。在当时的史金看来，秦霜大他七岁，虽然他也对她充满好感，但他坚持自己的骨气、节操，不想吃软饭！把她当“兄弟”。\n",
      "后来史金追到了陈金莲，两人联系也变少了，很多年没有见面了。却不想在今天，她竟然找到这里来了！\n",
      "看着这些突兀出现的人，陈金莲不怀好意的喝问：“你是谁？你有什么事？”\n",
      "秦霜丝毫不予理会，兀自走到史金骨灰坛子前，轻轻的抚摸着，仿佛在与爱人耳鬓厮磨，道：“都说女追男隔层纱，不知是年龄还是身份……让你一直都把我无视！”\n",
      "“或许当初我应该更坚决更强硬一些……你就不会这样了……”\n",
      "叶笑天见状，阴冷的上前，喝道：“哟，看你这痴情的样子，你就是史金的那个老相好吧！听说你大他七岁——”\n",
      "他冷嘲的话还没说完，半蹲的秦霜突然转身，猛的站了起来，同时她的右手从兜里掏出一枝钢笔，拨出笔套，迅猛的扎进了叶笑天的脖子大动脉，鲜血“噗”的便飚射出来。\n",
      "“啊啊……”叶笑天便在地上，惊恐的想要捂住脖子，在血泊中挣扎了两下便没有了动静。\n",
      "跟来的众人惊呆了，蒙了数秒之后，记者急忙拍照按下快门。\n",
      "随行的保镖则是将现场围了起来。\n",
      "这一向理智温婉的秦霜，竟然暴起伤人！\n",
      "秦霜不管手上的血，将头发捌在耳迹，整个人显得妖治冷血。她拿起骨灰坛前的白布，猛的勒住了还处于惊恐状态的陈金莲。\n",
      "“救命……”陈金莲想要挣扎，但她哪里是获得全国散打冠军的秦霜对手，没一会儿脸就黑了，整个人都软了，她被活活勒死了。\n",
      "在场的人都惊呆了，秦霜当着这么多人的面杀人，给人留下把柄，这完全是放弃了自己这些年好不容易得来的权势、地位、财富。\n",
      "山下警车呼啸，现场人群慌乱！\n",
      "“安静！”秦霜一声喝，现场顿时安静下来，一个个惊恐莫名的看着她。她一个眼神，便让想要上前铐她的警察止住了脚步。\n",
      "强大的气场震慑了在场所有人，包括警察、打手，还有她的竞争对手。\n",
      "“妹妹~”一道身影快速的分开人群冲到了前面，来人是秦霜的三哥秦枫，一个两眼凶悍，杀气腾腾的中年，脸因愤怒而异常红。当初他找过史金几次，甚至还凶悍的揍过史金。\n",
      "看到秦枫，史金一股本能的恐惧涌上心头，即便是成为了灵魂体，他依旧对他充满了畏惧，感到忐忑不安。\n",
      "秦霜回头，看了一眼着急愤怒的三哥，惨然一笑道：“三哥，请代我为父母敬孝了！当初，我一时心软，没有坚持嫁给他，这才导致他被**妇所害……今天，我随他去了！”\n",
      "“请你们再也不要把我们分开了，我就葬在这个地方！”\n",
      "“不要……”秦枫一听吓得一哆嗦，急忙扑向秦霜。\n",
      "秦霜抬起一手阻止了他，另一只手果断快速的抹过脖子，鲜血从她白玉的脖子处飚射而出，将这天地染成一片血红！\n",
      "秦枫无奈嘶吼，老眼通红的点点头，泪水止不住的落了下来，奋力前扑。\n",
      "他是秦霜的哥哥，对她很了解，外人只知道她把持着华胜集团，更拥有绝色的风华，是秦家财阀五虎宠爱的公主，隐隐有秦氏女王的风范。\n",
      "可是只有他知道……秦霜这些年过得有多苦多难，虽是条件绝佳，她却一直单身一人，撑起一个大公司。\n",
      "她曾经也是一个蛮横任性的富家公主，后来才变得冷酷、果决、狠辣！\n",
      "秦霜踉跄木讷的走到骨灰坛前。\n",
      "她的每一步都那么沉重，似乎她的灵魂已经飞走，这沉重的壳随时都要碎掉一般。\n",
      "“史金，这辈子，下辈子，生生世世，我们都要在一起……”在众人惊恐的目光中，她扑倒在骨灰坛子上，热血染红了一片。\n",
      "她竟然露出了满意幸福的微笑！\n",
      "现场顿时一片尖叫惨喝！\n",
      "灵魂态的史金脑袋嗡嗡的，那个一直被他忽视的邻家姐姐、兄弟一般的温情女子，竟然为他报了仇，还以死“殉情”了？\n",
      "此刻史金才明白，人生最大的遗憾不是错过了最好的人，而是错过了那个最想对你好的人！\n",
      "心疼到无法呼吸，后悔万分，现在终于明白，只可惜自己选错了人、走错了路……\n",
      "正当史金脑中万千思绪充斥时，那骨灰坛子处突然爆发出一阵炽目的白光，接着他的眼前一花，光线一暗，他定睛一看，竟然发现自己躺在一豪华的大床之上。\n",
      "他赤身**，雪白的床单上还有点点红梅花，史金以为一切都是做梦，直到手臂上的痛疼传来，这才让他意识到这是真的。\n",
      "而他也发现脖子上的玛瑙石却是变了颜色，与自己手机里之前拍的照完全不一样。\n",
      "“它带着我重生了！”史金一脸的问号。\n",
      "正当这时，房门被推，一个熟悉的身影走了进来。秦霜俏脸冰寒的看了史金一会儿，那凌冽的眼神，看得史金紧张万分。要是曾经的他，肯定心虚的不敢与之对视。\n",
      "可如今他体内的灵魂已经蜕变成长，很快便平复下来。反倒是认真的看着秦霜，把秦霜的眼神看得躲闪起来。\n",
      "“堂堂七尺男儿，看你这没出息的样！不就是表白被女生拒绝吗？要死不活的，天下美女多的是，没了她你又不是活不下去！”\n",
      "要是曾经执着年少的史金，肯定会毫不犹豫的回答没了她真活不了，曾经年少，他也把爱情当成信仰，看得比生命还重要！但如今不会了！\n",
      "“再说了，你们都还是上学的小屁孩，别成天想情情爱爱的……干点正事，你优秀了，自然能吸引更优秀的女孩子……”秦霜阴沉着脸喝道，随即将一旁的衣服丢给史金。\n"
     ]
    }
   ],
   "source": [
    "text = novel.load_chapter(1)\n",
    "print(text)"
   ]
  },
  {
   "cell_type": "code",
   "execution_count": 6,
   "metadata": {},
   "outputs": [
    {
     "data": {
      "application/vnd.jupyter.widget-view+json": {
       "model_id": "f3c249595baa4329bdf105c33644962b",
       "version_major": 2,
       "version_minor": 0
      },
      "text/plain": [
       "Loading checkpoint shards:   0%|          | 0/4 [00:00<?, ?it/s]"
      ]
     },
     "metadata": {},
     "output_type": "display_data"
    }
   ],
   "source": [
    "model = Llama()"
   ]
  },
  {
   "cell_type": "code",
   "execution_count": 7,
   "metadata": {},
   "outputs": [
    {
     "data": {
      "text/plain": [
       "'第1章 卑微舔狗的悲惨结局，还有御姐殉情？\\n“史金啊，你不是最爱我的吗？为什么不能容忍我有两个‘老公’呢！你既然为我生、为我死，为我而奋斗，你赚的钱为什么不能全部都给我呢……”\\n魔都四十公里外西南，一片清冷的荒山，一场清冷的葬礼，除两个工作人员外，只有一男一女。火葬场的工作人员将一个骨灰坛子放在眼前的小土坑里，便退到了一边。\\n他们脸上没有一丝悲戚，女人名叫陈金莲，面容精致俏丽，一双桃眼潋淃春波，红唇水润光泽，身材妖娆，是个姿色绝佳的美人。\\n“这他妈就是你**加害我的理由？无耻至极！”史金愤怒至极，若不是他现在灵魂状态，早就扑上去咬死他们了。\\n他从学生时代起，便做卑微的舔狗追了她七年，后来他的事业有所转机了，才在她失恋的时候追到她，花了二十八万八的彩礼娶了她。\\n婚后他对她很是珍惜，小心翼翼的捧在手心里，舍不得她受一点委屈。他一天十几个小时拼命工作，渐渐的从一个小摊贩，成为一个身家千万的老板。\\n但她不仅不接纳他的家人，还对他呼来喝去，每天什么都不做，心安理得的大手大脚的花着他挣的钱，不是在美容、瑜伽、SPA，就是逛街、喝茶、打牌。\\n可即便如此，她还是给他戴了绿帽！还在他的饮食里下毒，将他匆忙火化，埋在这荒凉的山野。他真是瞎了眼、蒙了心，竟然执着的舔她、爱她，为她悲惨的奋斗一生！\\n情夫叶笑天一脸戏谑，走到骨灰坛子前，藐视的道：“史金啊史金啊！窝囊了那么多年，好不容易有个漂亮老婆！偏偏要得罪她，现在变成一堆灰！啥也没了！何苦哀哉！”\\n“是他逼我这么做的，谁让他之前发现我们的事情后，想让我净身出户来着！混蛋！他耽误了女人最宝贵的青春，却想吃干抹净……”\\n灵魂态的史金听得脑袋都快气炸了，他恨不得化成厉鬼，就算永生永世不得超生，他也要将这对狗男女撕成碎片！\\n可他，终究什么都做不了！\\n“啪！”陈金莲将一粗糙的玛瑙石坠扔在骨灰坛子前，幽幽的道：“喏，这个垃圾还给你了，让它陪你吧！要不是看你有点挣钱的本事，谁要你这垃圾！”\\n史金一眼认出，那是母亲传给他的，虽然是个普通的玛瑙石，却被他视做珍宝。\\n“滴滴~”正在这时，山腰处来了四五辆轿车，一身穿着白色西装、黑格子衬衣，踩着红色高跟鞋的干练女子火急火燎的赶来，一头微卷的长发被风吹得肆意舞动。\\n她绝色风华，艳冠天下，那明亮懾人的眸子不怒自威，她是华胜集团的唯一女董事长。\\n更是魔都财阀秦家五虎的独妹，万人捧宠的绝艳公主——秦霜，一身强大的气场，周围的人与她保持着距离。\\n她正在召开新品发布会，突然接了个电话，便神情阴郁的离开了。同时也有许多记者与宾客好奇的跟了过来。\\n秦霜大史金七岁，从他高中时资助他，再到后来多次在他创业时无尝帮助他，给他介绍资源人脉，她一直以来就像一个温柔、慈祥的长辈，呵护着他的成长。\\n一直以来，史金都把她当成姐姐、亲小姨一般。她也曾多次劝他不要跪舔陈金莲，为此还与他吵过几架，但年少无知的他却一意孤行，坚持跪舔陈金莲。\\n她也曾多次开玩笑说要嫁他，但他都脸红的拒绝了。在当时的史金看来，秦霜大他七岁，虽然他也对她充满好感，但他坚持自己的骨气、节操，不想吃软饭！把她当“兄弟”。\\n后来史金追到了陈金莲，两人联系也变少了，很多年没有见面了。却不想在今天，她竟然找到这里来了！\\n看着这些突兀出现的人，陈金莲不怀好意的喝问：“你是谁？你有什么事？”\\n秦霜丝毫不予理会，兀自走到史金骨灰坛子前，轻轻的抚摸着，仿佛在与爱人耳鬓厮磨，道：“都说女追男隔层纱，不知是年龄还是身份……让你一直都把我无视！”\\n“或许当初我应该更坚决更强硬一些……你就不会这样了……”\\n叶笑天见状，阴冷的上前，喝道：“哟，看你这痴情的样子，你就是史金的那个老相好吧！听说你大他七岁——”\\n他冷嘲的话还没说完，半蹲的秦霜突然转身，猛的站了起来，同时她的右手从兜里掏出一枝钢笔，拨出笔套，迅猛的扎进了叶笑天的脖子大动脉，鲜血“噗”的便飚射出来。\\n“啊啊……”叶笑天便在地上，惊恐的想要捂住脖子，在血泊中挣扎了两下便没有了动静。\\n跟来的众人惊呆了，蒙了数秒之后，记者急忙拍照按下快门。\\n随行的保镖则是将现场围了起来。\\n这一向理智温婉的秦霜，竟然暴起伤人！\\n秦霜不管手上的血，将头发捌在耳迹，整个人显得妖治冷血。她拿起骨灰坛前的白布，猛的勒住了还处于惊恐状态的陈金莲。\\n“救命……”陈金莲想要挣扎，但她哪里是获得全国散打冠军的秦霜对手，没一会儿脸就黑了，整个人都软了，她被活活勒死了。\\n在场的人都惊呆了，秦霜当着这么多人的面杀人，给人留下把柄，这完全是放弃了自己这些年好不容易得来的权势、地位、财富。\\n山下警车呼啸，现场人群慌乱！\\n“安静！”秦霜一声喝，现场顿时安静下来，一个个惊恐莫名的看着她。她一个眼神，便让想要上前铐她的警察止住了脚步。\\n强大的气场震慑了在场所有人，包括警察、打手，还有她的竞争对手。\\n“妹妹~”一道身影快速的分开人群冲到了前面，来人是秦霜的三哥秦枫，一个两眼凶悍，杀气腾腾的中年，脸因愤怒而异常红。当初他找过史金几次，甚至还凶悍的揍过史金。\\n看到秦枫，史金一股本能的恐惧涌上心头，即便是成为了灵魂体，他依旧对他充满了畏惧，感到忐忑不安。\\n秦霜回头，看了一眼着急愤怒的三哥，惨然一笑道：“三哥，请代我为父母敬孝了！当初，我一时心软，没有坚持嫁给他，这才导致他被**妇所害……今天，我随他去了！”\\n“请你们再也不要把我们分开了，我就葬在这个地方！”\\n“不要……”秦枫一听吓得一哆嗦，急忙扑向秦霜。\\n秦霜抬起一手阻止了他，另一只手果断快速的抹过脖子，鲜血从她白玉的脖子处飚射而出，将这天地染成一片血红！\\n秦枫无奈嘶吼，老眼通红的点点头，泪水止不住的落了下来，奋力前扑。\\n他是秦霜的哥哥，对她很了解，外人只知道她把持着华胜集团，更拥有绝色的风华，是秦家财阀五虎宠爱的公主，隐隐有秦氏女王的风范。\\n可是只有他知道……秦霜这些年过得有多苦多难，虽是条件绝佳，她却一直单身一人，撑起一个大公司。\\n她曾经也是一个蛮横任性的富家公主，后来才变得冷酷、果决、狠辣！\\n秦霜踉跄木讷的走到骨灰坛前。\\n她的每一步都那么沉重，似乎她的灵魂已经飞走，这沉重的壳随时都要碎掉一般。\\n“史金，这辈子，下辈子，生生世世，我们都要在一起……”在众人惊恐的目光中，她扑倒在骨灰坛子上，热血染红了一片。\\n她竟然露出了满意幸福的微笑！\\n现场顿时一片尖叫惨喝！\\n灵魂态的史金脑袋嗡嗡的，那个一直被他忽视的邻家姐姐、兄弟一般的温情女子，竟然为他报了仇，还以死“殉情”了？\\n此刻史金才明白，人生最大的遗憾不是错过了最好的人，而是错过了那个最想对你好的人！\\n心疼到无法呼吸，后悔万分，现在终于明白，只可惜自己选错了人、走错了路……\\n正当史金脑中万千思绪充斥时，那骨灰坛子处突然爆发出一阵炽目的白光，接着他的眼前一花，光线一暗，他定睛一看，竟然发现自己躺在一豪华的大床之上。\\n他赤身**，雪白的床单上还有点点红梅花，史金以为一切都是做梦，直到手臂上的痛疼传来，这才让他意识到这是真的。\\n而他也发现脖子上的玛瑙石却是变了颜色，与自己手机里之前拍的照完全不一样。\\n“它带着我重生了！”史金一脸的问号。\\n正当这时，房门被推，一个熟悉的身影走了进来。秦霜俏脸冰寒的看了史金一会儿，那凌冽的眼神，看得史金紧张万分。要是曾经的他，肯定心虚的不敢与之对视。\\n可如今他体内的灵魂已经蜕变成长，很快便平复下来。反倒是认真的看着秦霜，把秦霜的眼神看得躲闪起来。\\n“堂堂七尺男儿，看你这没出息的样！不就是表白被女生拒绝吗？要死不活的，天下美女多的是，没了她你又不是活不下去！”\\n要是曾经执着年少的史金，肯定会毫不犹豫的回答没了她真活不了，曾经年少，他也把爱情当成信仰，看得比生命还重要！但如今不会了！\\n“再说了，你们都还是上学的小屁孩，别成天想情情爱爱的……干点正事，你优秀了，自然能吸引更优秀的女孩子……”秦霜阴沉着脸喝道，随即将一旁的衣服丢给史金。'"
      ]
     },
     "execution_count": 7,
     "metadata": {},
     "output_type": "execute_result"
    }
   ],
   "source": [
    "chapter1 = novel.load_chapter(1)\n",
    "chapter1"
   ]
  },
  {
   "cell_type": "code",
   "execution_count": 8,
   "metadata": {},
   "outputs": [],
   "source": [
    "chapter2 = novel.load_chapter(2)"
   ]
  },
  {
   "cell_type": "code",
   "execution_count": 9,
   "metadata": {},
   "outputs": [],
   "source": [
    "storyteller = StoryTeller(model)\n"
   ]
  },
  {
   "cell_type": "code",
   "execution_count": 10,
   "metadata": {},
   "outputs": [],
   "source": [
    "import torch"
   ]
  },
  {
   "cell_type": "code",
   "execution_count": 11,
   "metadata": {},
   "outputs": [
    {
     "name": "stderr",
     "output_type": "stream",
     "text": [
      "Setting `pad_token_id` to `eos_token_id`:128009 for open-end generation.\n",
      "c:\\ProgramData\\Anaconda3\\envs\\sd\\Lib\\site-packages\\transformers\\models\\llama\\modeling_llama.py:603: UserWarning: 1Torch was not compiled with flash attention. (Triggered internally at C:\\actions-runner\\_work\\pytorch\\pytorch\\builder\\windows\\pytorch\\aten\\src\\ATen\\native\\transformers\\cuda\\sdp_utils.cpp:555.)\n",
      "  attn_output = torch.nn.functional.scaled_dot_product_attention(\n"
     ]
    },
    {
     "name": "stdout",
     "output_type": "stream",
     "text": [
      "**第1章 卑微舔狗的悲惨结局，还有御姐殉情？**\n",
      "\n",
      "我是史金，一直以来都是一个卑微的舔狗，追求着一个美丽的女孩，陈金莲。七年来，我从一个小摊贩变成了一个身家千万的老板，但我的付出换来的是陈金莲的爱情吗？不是。\n",
      "\n",
      "在这个清冷的荒山上，我死去，我的灵魂被迫观看着陈金莲与情夫叶笑天的狼狈相互，眼睁睁地看着她将我下毒害死，然后毫不留情地勒死了叶笑天。\n",
      "\n",
      "然而，这一切的悲剧似乎都被打破了，因为秦霜出现了，她是华胜集团的女董事长，也是我的好姐姐。她的到来使得陈金莲的下场更加悲惨，她被秦霜活活勒死了。\n",
      "\n",
      "接着，秦霜也死了，她为了我而殉情，让我的灵魂感到无限的感动和悔恨。现在，我终于明白了人生最大的遗憾不是错过了最好的人，而是错过了那个最想对你好的人！\n",
      "\n",
      "然而，我的悲剧似乎并没有结束，我的灵魂被带到了一个新的世界，我躺在一个豪华的大床之上，我的心中充满了疑问。\n",
      "\n",
      "这是真的吗？我是否重生了？我的玛瑙石的颜色为什么变了？这些问题都让我感到困惑和茫然。\n",
      "\n",
      "而就在这个时候，房门被推开了，秦霜走了进来，她的眼神冰寒，我的心跳得快了起来。我试图平复自己的情绪，但我的视线却被她凌冽的眼神所吸引。\n",
      "\n",
      "她说话的语气冷淡，似乎在责备我，但我也感到了一丝温情。她说我没出息，难道我以前的行为真的是没出息吗？我开始思考我的过去，我的选择，我是否真的错过了一个最好的爱情。\n",
      "\n",
      "这时，我也开始明白了秦霜的眼神，原来她一直是真心的爱我，甚至为我而殉情，我的心中充满了感动和感谢。\n",
      "\n",
      "我知道现在我需要改变，需要变得强大和自信，才能获得真正的爱情。\n"
     ]
    }
   ],
   "source": [
    "output1 = storyteller.tell_chapter(chapter1, \"史金\")\n",
    "print(output1)"
   ]
  },
  {
   "cell_type": "code",
   "execution_count": 12,
   "metadata": {},
   "outputs": [
    {
     "name": "stderr",
     "output_type": "stream",
     "text": [
      "Setting `pad_token_id` to `eos_token_id`:128009 for open-end generation.\n"
     ]
    },
    {
     "name": "stdout",
     "output_type": "stream",
     "text": [
      "# 第2章 重拾旧情\n",
      "\n",
      "我坐在床上，脑子里思绪纷飞。秦霜刚才的反应让我很是意外，她似乎很开心，但嘴上却不饶人道。难道她真的不相信我的话吗？我想起前世的情节，秦霜一直是真心的爱我，甚至为我而殉情，我的心中充满了感动和感谢。\n",
      "\n",
      "我记得前世我是如何追求陈金莲的，她始终把我当成爱情信仰，最后却绿了我并毒害了我。现在我重生了，机会又来了，但我不会再当纯爱舔狗了。要纯爱，那也要给对的人——秦霜姐！\n",
      "\n",
      "我突然想起杨自奎的短信，他说要给校花送个蛋糕再尝试挽留一下。校花？！难道他还不知道？！我之前已经告诉他，我重生了，机会来了，但他还在跟以前一样，还是要送蛋糕挽留校花。哼，去他妈的校花！\n",
      "\n",
      "我想起我前世的经历，陈金莲把我当成爱情信仰，最后却绿了我并毒害了我。现在我重生了，机会又来了，但我不会再当纯爱舔狗了。要纯爱，那也要给对的人——秦霜姐！\n",
      "\n",
      "我决定改变自己，让自己变得强大和自信，才能获得真正的爱情。现在，我已经开始了新的征程，要赢得秦霜的心，成为她真正的爱人。\n",
      "\n",
      "我深呼吸了一口气，决定要改变自己，让自己变得强大和自信，才能获得真正的爱情。现在，我已经开始了新的征程，要赢得秦霜的心，成为她真正的爱人。\n",
      "\n",
      "我想起秦霜的眼神，原来她一直是真心的爱我，甚至为我而殉情，我的心中充满了感动和感谢。\n",
      "\n",
      "我决定要追求秦霜，成为她的爱人。现在，我已经开始了新的征程，要赢得秦霜的心，成为她真正的爱人。\n",
      "\n",
      "我想起前世的情节，秦霜一直是真心的爱我，甚至为我而殉情，我的心中充满了感动和感谢。\n",
      "\n",
      "我决定要改变自己，让自己变得强大和自信，才能获得真正的爱情。现在，我已经开始了新的征程，要赢得秦霜的心，成为她真正的爱人。\n",
      "\n",
      "我想起杨自奎的短信，他说要给校花送个蛋糕再尝试挽留一下。校花？！难道他还不知道？！我之前已经告诉他，我重生了，机会来了，但他还在跟以前一样，还是要送蛋糕挽留校花。哼，去他妈的校花！\n",
      "\n",
      "我决定要改变自己，让自己变得强大和自信，才能获得真正的爱情。现在，我已经开始了新的征程，要赢得秦霜的心，成为她真正的爱人。\n",
      "\n",
      "我深呼吸了一口气，决定要改变自己，让自己变得强大和自信，才能获得真正的爱情。现在，我已经开始了新的征程，要赢得秦霜的心，成为她真正的爱人。\n"
     ]
    }
   ],
   "source": [
    "output2 = storyteller.tell_chapter(chapter2, \"史金\", output1)\n",
    "print(output2)"
   ]
  },
  {
   "cell_type": "code",
   "execution_count": 13,
   "metadata": {},
   "outputs": [
    {
     "name": "stderr",
     "output_type": "stream",
     "text": [
      "Setting `pad_token_id` to `eos_token_id`:128009 for open-end generation.\n"
     ]
    },
    {
     "name": "stdout",
     "output_type": "stream",
     "text": [
      "第3章 再来一次的机会\n",
      "\n",
      "我坐在床上，脑子里思绪纷飞，昨天的经历让我很是激动。秦霜的反应让我很意外，她似乎很开心，但嘴上却不饶人道。难道她真的不相信我的话吗？我想起前世的情节，秦霜一直是真心的爱我，甚至为我而殉情，我的心中充满了感动和感谢。\n",
      "\n",
      "我决定要改变自己，让自己变得强大和自信，才能获得真正的爱情。现在，我已经开始了新的征程，要赢得秦霜的心，成为她真正的爱人。昨天我决定要改变自己，让自己变得强大和自信，才能获得真正的爱情。\n",
      "\n",
      "我拿出手机，看着照片上自己戴着的玛瑙石陷入沉思，内心充满了感激与庆幸。开始制定自己的计划，想着如何才能赚到更多的钱，成为秦家的财阀之一。\n",
      "\n",
      "我想起前世的情节，秦家做为财阀豪门，秦家五虎肯定是不允许秦霜与我这个底层小民在一起的。还有秦霜的许多追求者，那也不会眼睁睁的看着我追求秦霜的。\n",
      "\n",
      "史金记得，这段时间有个姓代的富二代在疯狂的追求她，她曾经多次跟他提过。他没有什么超能力的金手指一起重生，只有那十几年的人生经历。还好当年我努力学习了。\n",
      "\n",
      "这一世，我要赚钱，搏势。史金相信，凭我对前世的记忆，要想搏个过亿身价是绝对没有问题的。但摸了摸自己的口袋，现在只有两百块。\n",
      "\n",
      "“碧池！”我思索着接下来的事。\n",
      "\n",
      "“哦！对了，我记得这一年学校旁边那家彩票店出了一个头奖！”我记得那家彩票店挂了好几年的横幅，店里生意也变好了，只是后来再没有出过头奖了。\n",
      "\n",
      "因为就在身边，当时我还留意了那中奖号码，虽然不记得是第几期，但中奖号码我却还记得。看了看网上新闻，中奖的事还没有出，我还有机会。\n",
      "\n",
      "但在这之前，我得先把两百块变成更多的钱！好在后面的潮流涌来之前，积累一笔资金，我相信自己能把握住机会，一定能成为身家过亿，乃至数十亿！\n",
      "\n",
      "二十多岁白手起家，身家数十亿，乃至百亿……想想都兴奋！\n",
      "\n",
      "至于陈金莲那个白莲花，绿我毒我是吧？我不记仇，但也是个有毒的丈夫，更不会圣母到再对她有啥好脸色！……\n",
      "\n",
      "我洗漱台前看到镜子里的自己，也不禁有些感叹，年轻的我有着普通人的稚嫩与朴素，拥有上世灵魂的我自然懂得如何穿搭！决定改变一下自己的造型！\n",
      "\n",
      "秦霜留下个字条便上班去了。我看着秦霜那满纸关切自己的文字，内心暖洋洋的。一旁的保镖阿东仿佛木头一样看着傻笑的我。\n",
      "\n",
      "“咔嚓~”别墅的大门被人推了开来，一个梳着大背头，一身米色西服的青年带着一保镖，耻高气昂的急步走了进来。\n",
      "\n",
      "青年一进门，扫了一圈便一脸寒霜的看向我。\n",
      "\n",
      "“秦霜呢，打她电话一直没接！”青年语气轻蔑，俯视着我，鼻孔朝天。\n",
      "\n",
      "保镖阿东急忙道：“伟少，秦总已经去公司了！”\n",
      "\n",
      "代红伟皱眉看了我一会儿，道：“你就是秦霜资助的那个山野小子？”\n",
      "\n",
      "我淡定的吃着早餐，如今的我已经不是年少的灵魂了，不会被他的威势吓到，根本无视了这位贵公子给我的威压。若是换成前世少年，早忐忑不安的站起来了。\n",
      "\n",
      "“小子，你要认清楚自己的身份地位，你只不过是一个一穷二白的穷学生，要不是秦霜心好，资助你上学。你现在指不定还在哪里搬砖呢！”\n",
      "\n",
      "“好好学习，将来学有所成了。到我的公司来上班！”青年头也不回的走了，全程拽得二五八万。\n",
      "\n",
      "我看着出门上了豪车的青年，嘴角勾起一抹冷笑，这男的是代家的少东家代红伟，是秦霜的坚定追求者之一，与秦枫的关系很是要好。\n",
      "\n",
      "代红伟的出现，给了我巨大的压力，从秦霜今天早上的反应来看，我觉得秦霜还没有像前世那样深深的爱上自己，毕竟我之前一直对她敬而远之，我还有很长的路要走。\n",
      "\n",
      "“切，牛什么牛，要不是你老子，你还不如我呢？”保镖阿东看着大逼拽拽的代红伟，一脸鄙夷不屑的道。\n",
      "\n",
      "“东哥，咱们不能妄自菲薄，人家虽然能力不行，但会投胎啊！至少这一点，是咱们比不了的！”我纠正道。\n",
      "\n",
      "阿东是从小修习古武的特种兵出身，是秦家花重金请来的保镖，由于年纪比我大五岁，两人交流关系不错。\n",
      "\n",
      "阿东闻言，道：“也就投胎投得好罢了，金少，小姐吩咐了，这几天，我陪着你，你想去哪里嗨皮，咱们‘穷则公园广场，富则酒吧会所’，我安排。”\n",
      "\n",
      "我闻言，一脸黑线，道：“去去，我还是个孩子……我现在可没那闲情玩耍！只想搞钱。”\n",
      "\n",
      "我忽然想到，我似乎从昨夜已经悄然变成了男人！\n",
      "\n",
      "我换上了秦霜给我的白衫衣，离开了别墅，找了一家理发店，给自己设计了一个发型。原本稚嫩怯懦的大学生，一下子变成一个自信且气质超众的帅哥。\n",
      "\n",
      "这前后的反差，让跟着的阿东都惊诧得瞪大了眼睛：“难怪小姐对你这么好，金少你帅的让我嫉妒！”\n",
      "\n",
      "我闻言，笑道：“人靠衣装，马靠鞍。当然发型也很重要的，俗话说‘头可断，发型不能乱’！”阿东闻言，暗自点点头，似有所悟地摸了摸自己的方形平头。他痴迷武学，对其他的东西很是费解。\n",
      "\n",
      "正在这时，我的手机响了起来，备注“心莲”的来电，我愣了一会才想起来，这是陈金莲的电话备注，我不想接，直接挂断，但陈金莲再次打了过来。\n",
      "\n",
      "“何事？”我不耐烦的接起，语气生冷的道。\n",
      "\n",
      "“史金同学，学生还是要以学业为重。虽然你对我很好，但……我还是想先学习！”陈金莲的声音让我很不愉快，语气软弱无力。\n",
      "\n",
      "“你作为一个男人，不要那么小肚鸡肠，不就是表白被拒绝一次吗？你就停止对我好了？你就这样气馁放弃了？你口口声声的说你如何如何爱我，这点挫折就受不了了？”我听着她的声音，脑子里开始混乱，她的逻辑让人很难理解。\n",
      "\n",
      "“你不继续对我好，继续追求我，怎么能证明你是真的爱我！况且，我可是校花，追我的人很多，我凭什么选你？你自己也不想想，我们原本可是两个世界的人！”她的声音越来越激动，我开始感到很不耐烦。\n",
      "\n",
      "“你对我的爱就经不起这么一点考验？”她的最后一句话让我很恶心，我觉得她根本不在乎我的感受，只要能得到自己想要的，她就满足了。\n",
      "\n",
      "我听到她的话，大感恶心透顶，寒声道：“陈金莲，你脑子没问题吧？只有苍蝇才会不停的围着一坨屎转~”\n",
      "\n",
      "陈金莲皱眉怒喝：“史金，你说什么？”我听着她的声音，感到很恶心，直接挂断了电话，免受她的魔法攻击。\n",
      "\n",
      "舒服了！\n",
      "\n",
      "我长吐一口气，心情大好。\n"
     ]
    }
   ],
   "source": [
    "chapter3 = novel.load_chapter(3)\n",
    "output3 = storyteller.tell_chapter(chapter3, \"史金\", output2)\n",
    "print(output3)"
   ]
  },
  {
   "cell_type": "code",
   "execution_count": 14,
   "metadata": {},
   "outputs": [],
   "source": [
    "# chapter_num = 67\n",
    "# chapter = novel.load_chapter(chapter_num)\n",
    "# output = storyteller.tell_chapter(chapter,\"史金\")\n",
    "# with open(f\"datasets/yujie/outputs/{chapter_num}.txt\", \"w\") as f:\n",
    "#     f.write(output)"
   ]
  },
  {
   "cell_type": "code",
   "execution_count": 15,
   "metadata": {},
   "outputs": [],
   "source": [
    "def tell_novel(novel, storyteller):\n",
    "    for i in range(1, novel.num_chapters+1):\n",
    "        chapter = novel.load_chapter(i)\n",
    "        if i == 1:\n",
    "            output = storyteller.tell_chapter(chapter, \"史金\")\n",
    "        else:\n",
    "            output = storyteller.tell_chapter(chapter, \"史金\", output)\n",
    "        with open(f\"datasets/yujie/outputs/{i}.txt\", \"w\") as f:\n",
    "            f.write(output)"
   ]
  },
  {
   "cell_type": "code",
   "execution_count": 15,
   "metadata": {},
   "outputs": [
    {
     "name": "stderr",
     "output_type": "stream",
     "text": [
      "Setting `pad_token_id` to `eos_token_id`:128001 for open-end generation.\n",
      "Setting `pad_token_id` to `eos_token_id`:128001 for open-end generation.\n",
      "Setting `pad_token_id` to `eos_token_id`:128001 for open-end generation.\n",
      "Setting `pad_token_id` to `eos_token_id`:128001 for open-end generation.\n",
      "Setting `pad_token_id` to `eos_token_id`:128001 for open-end generation.\n",
      "Setting `pad_token_id` to `eos_token_id`:128001 for open-end generation.\n",
      "Setting `pad_token_id` to `eos_token_id`:128001 for open-end generation.\n",
      "Setting `pad_token_id` to `eos_token_id`:128001 for open-end generation.\n",
      "You seem to be using the pipelines sequentially on GPU. In order to maximize efficiency please use a dataset\n",
      "Setting `pad_token_id` to `eos_token_id`:128001 for open-end generation.\n",
      "Setting `pad_token_id` to `eos_token_id`:128001 for open-end generation.\n"
     ]
    },
    {
     "ename": "KeyboardInterrupt",
     "evalue": "",
     "output_type": "error",
     "traceback": [
      "\u001b[1;31m---------------------------------------------------------------------------\u001b[0m",
      "\u001b[1;31mKeyboardInterrupt\u001b[0m                         Traceback (most recent call last)",
      "Cell \u001b[1;32mIn[15], line 1\u001b[0m\n\u001b[1;32m----> 1\u001b[0m \u001b[43mtell_novel\u001b[49m\u001b[43m(\u001b[49m\u001b[43mnovel\u001b[49m\u001b[43m,\u001b[49m\u001b[43m \u001b[49m\u001b[43mstoryteller\u001b[49m\u001b[43m)\u001b[49m\n",
      "Cell \u001b[1;32mIn[14], line 7\u001b[0m, in \u001b[0;36mtell_novel\u001b[1;34m(novel, storyteller)\u001b[0m\n\u001b[0;32m      5\u001b[0m     output \u001b[38;5;241m=\u001b[39m storyteller\u001b[38;5;241m.\u001b[39mtell_chapter(chapter, \u001b[38;5;124m\"\u001b[39m\u001b[38;5;124m史金\u001b[39m\u001b[38;5;124m\"\u001b[39m)\n\u001b[0;32m      6\u001b[0m \u001b[38;5;28;01melse\u001b[39;00m:\n\u001b[1;32m----> 7\u001b[0m     output \u001b[38;5;241m=\u001b[39m \u001b[43mstoryteller\u001b[49m\u001b[38;5;241;43m.\u001b[39;49m\u001b[43mtell_chapter\u001b[49m\u001b[43m(\u001b[49m\u001b[43mchapter\u001b[49m\u001b[43m,\u001b[49m\u001b[43m \u001b[49m\u001b[38;5;124;43m\"\u001b[39;49m\u001b[38;5;124;43m史金\u001b[39;49m\u001b[38;5;124;43m\"\u001b[39;49m\u001b[43m,\u001b[49m\u001b[43m \u001b[49m\u001b[43moutput\u001b[49m\u001b[43m)\u001b[49m\n\u001b[0;32m      8\u001b[0m \u001b[38;5;28;01mwith\u001b[39;00m \u001b[38;5;28mopen\u001b[39m(\u001b[38;5;124mf\u001b[39m\u001b[38;5;124m\"\u001b[39m\u001b[38;5;124mdatasets/yujie/outputs/\u001b[39m\u001b[38;5;132;01m{\u001b[39;00mi\u001b[38;5;132;01m}\u001b[39;00m\u001b[38;5;124m.txt\u001b[39m\u001b[38;5;124m\"\u001b[39m, \u001b[38;5;124m\"\u001b[39m\u001b[38;5;124mw\u001b[39m\u001b[38;5;124m\"\u001b[39m) \u001b[38;5;28;01mas\u001b[39;00m f:\n\u001b[0;32m      9\u001b[0m     f\u001b[38;5;241m.\u001b[39mwrite(output)\n",
      "File \u001b[1;32mE:\\OneDrive\\Documents\\Workspace\\vision novel\\vnov\\story\\storyteller.py:25\u001b[0m, in \u001b[0;36mStoryTeller.tell_chapter\u001b[1;34m(self, chapter, main_character, last_chapter)\u001b[0m\n\u001b[0;32m     23\u001b[0m token_length \u001b[38;5;241m=\u001b[39m \u001b[38;5;28mself\u001b[39m\u001b[38;5;241m.\u001b[39mmodel\u001b[38;5;241m.\u001b[39mtoken_length(context)\n\u001b[0;32m     24\u001b[0m \u001b[38;5;28;01mif\u001b[39;00m token_length \u001b[38;5;241m<\u001b[39m \u001b[38;5;28mself\u001b[39m\u001b[38;5;241m.\u001b[39mmax_length:\n\u001b[1;32m---> 25\u001b[0m     outputs \u001b[38;5;241m=\u001b[39m \u001b[38;5;28;43mself\u001b[39;49m\u001b[38;5;241;43m.\u001b[39;49m\u001b[43mmodel\u001b[49m\u001b[43m(\u001b[49m\u001b[43mcontext\u001b[49m\u001b[43m,\u001b[49m\u001b[43m \u001b[49m\u001b[43mmax_length\u001b[49m\u001b[38;5;241;43m=\u001b[39;49m\u001b[38;5;28;43mself\u001b[39;49m\u001b[38;5;241;43m.\u001b[39;49m\u001b[43mmax_length\u001b[49m\u001b[43m)\u001b[49m\n\u001b[0;32m     26\u001b[0m \u001b[38;5;28;01melse\u001b[39;00m:\n\u001b[0;32m     27\u001b[0m     \u001b[38;5;28;01mraise\u001b[39;00m \u001b[38;5;167;01mValueError\u001b[39;00m(\u001b[38;5;124mf\u001b[39m\u001b[38;5;124m\"\u001b[39m\u001b[38;5;124mChapter too long: \u001b[39m\u001b[38;5;132;01m{\u001b[39;00mtoken_length\u001b[38;5;132;01m}\u001b[39;00m\u001b[38;5;124m\"\u001b[39m)\n",
      "File \u001b[1;32mE:\\OneDrive\\Documents\\Workspace\\vision novel\\vnov\\llms\\llama.py:35\u001b[0m, in \u001b[0;36m__call__\u001b[1;34m(self, context, **kwargs)\u001b[0m\n\u001b[0;32m     34\u001b[0m \u001b[38;5;28;01mdef\u001b[39;00m \u001b[38;5;21mgenerate\u001b[39m(\u001b[38;5;28mself\u001b[39m, context, \u001b[38;5;241m*\u001b[39m\u001b[38;5;241m*\u001b[39mkwargs):\n\u001b[1;32m---> 35\u001b[0m     max_length \u001b[38;5;241m=\u001b[39m kwargs\u001b[38;5;241m.\u001b[39mget(\u001b[38;5;124m\"\u001b[39m\u001b[38;5;124mmax_length\u001b[39m\u001b[38;5;124m\"\u001b[39m, \u001b[38;5;28mself\u001b[39m\u001b[38;5;241m.\u001b[39mmax_length)\n\u001b[0;32m     36\u001b[0m     \u001b[38;5;28;01mreturn\u001b[39;00m \u001b[38;5;28mself\u001b[39m\u001b[38;5;241m.\u001b[39mpipeline(context,\n\u001b[0;32m     37\u001b[0m                             max_length\u001b[38;5;241m=\u001b[39mmax_length,\n\u001b[0;32m     38\u001b[0m                             eos_token_id\u001b[38;5;241m=\u001b[39m\u001b[38;5;28mself\u001b[39m\u001b[38;5;241m.\u001b[39mterminators,\n\u001b[0;32m     39\u001b[0m                          )[\u001b[38;5;241m0\u001b[39m][\u001b[38;5;124m\"\u001b[39m\u001b[38;5;124mgenerated_text\u001b[39m\u001b[38;5;124m\"\u001b[39m][\u001b[38;5;241m-\u001b[39m\u001b[38;5;241m1\u001b[39m][\u001b[38;5;124m\"\u001b[39m\u001b[38;5;124mcontent\u001b[39m\u001b[38;5;124m\"\u001b[39m]\n",
      "File \u001b[1;32mE:\\OneDrive\\Documents\\Workspace\\vision novel\\vnov\\llms\\llama.py:29\u001b[0m, in \u001b[0;36mgenerate\u001b[1;34m(self, context, **kwargs)\u001b[0m\n\u001b[0;32m     27\u001b[0m     \u001b[38;5;28;01mreturn\u001b[39;00m \u001b[38;5;28mlen\u001b[39m(\u001b[38;5;28mself\u001b[39m\u001b[38;5;241m.\u001b[39mpipeline\u001b[38;5;241m.\u001b[39mtokenizer(context)[\u001b[38;5;124m\"\u001b[39m\u001b[38;5;124minput_ids\u001b[39m\u001b[38;5;124m\"\u001b[39m])\n\u001b[0;32m     28\u001b[0m \u001b[38;5;28;01melif\u001b[39;00m \u001b[38;5;28misinstance\u001b[39m(context, \u001b[38;5;28mlist\u001b[39m) \u001b[38;5;129;01mand\u001b[39;00m \u001b[38;5;28mall\u001b[39m(\u001b[38;5;28misinstance\u001b[39m(c, \u001b[38;5;28mdict\u001b[39m) \u001b[38;5;28;01mfor\u001b[39;00m c \u001b[38;5;129;01min\u001b[39;00m context):\n\u001b[1;32m---> 29\u001b[0m     inputs \u001b[38;5;241m=\u001b[39m \u001b[38;5;28mself\u001b[39m\u001b[38;5;241m.\u001b[39mpipeline\u001b[38;5;241m.\u001b[39mtokenizer\u001b[38;5;241m.\u001b[39mapply_chat_template(context)\n\u001b[0;32m     30\u001b[0m     \u001b[38;5;28;01mreturn\u001b[39;00m \u001b[38;5;28mlen\u001b[39m(inputs)\n\u001b[0;32m     31\u001b[0m \u001b[38;5;28;01melse\u001b[39;00m:\n",
      "File \u001b[1;32mc:\\ProgramData\\Anaconda3\\envs\\sd\\Lib\\site-packages\\transformers\\pipelines\\text_generation.py:257\u001b[0m, in \u001b[0;36mTextGenerationPipeline.__call__\u001b[1;34m(self, text_inputs, **kwargs)\u001b[0m\n\u001b[0;32m    252\u001b[0m \u001b[38;5;28;01mif\u001b[39;00m \u001b[38;5;28misinstance\u001b[39m(\n\u001b[0;32m    253\u001b[0m     text_inputs, (\u001b[38;5;28mlist\u001b[39m, \u001b[38;5;28mtuple\u001b[39m, KeyDataset) \u001b[38;5;28;01mif\u001b[39;00m is_torch_available() \u001b[38;5;28;01melse\u001b[39;00m (\u001b[38;5;28mlist\u001b[39m, \u001b[38;5;28mtuple\u001b[39m)\n\u001b[0;32m    254\u001b[0m ) \u001b[38;5;129;01mand\u001b[39;00m \u001b[38;5;28misinstance\u001b[39m(text_inputs[\u001b[38;5;241m0\u001b[39m], (\u001b[38;5;28mlist\u001b[39m, \u001b[38;5;28mtuple\u001b[39m, \u001b[38;5;28mdict\u001b[39m)):\n\u001b[0;32m    255\u001b[0m     \u001b[38;5;66;03m# We have one or more prompts in list-of-dicts format, so this is chat mode\u001b[39;00m\n\u001b[0;32m    256\u001b[0m     \u001b[38;5;28;01mif\u001b[39;00m \u001b[38;5;28misinstance\u001b[39m(text_inputs[\u001b[38;5;241m0\u001b[39m], \u001b[38;5;28mdict\u001b[39m):\n\u001b[1;32m--> 257\u001b[0m         \u001b[38;5;28;01mreturn\u001b[39;00m \u001b[38;5;28;43msuper\u001b[39;49m\u001b[43m(\u001b[49m\u001b[43m)\u001b[49m\u001b[38;5;241;43m.\u001b[39;49m\u001b[38;5;21;43m__call__\u001b[39;49m\u001b[43m(\u001b[49m\u001b[43mChat\u001b[49m\u001b[43m(\u001b[49m\u001b[43mtext_inputs\u001b[49m\u001b[43m)\u001b[49m\u001b[43m,\u001b[49m\u001b[43m \u001b[49m\u001b[38;5;241;43m*\u001b[39;49m\u001b[38;5;241;43m*\u001b[39;49m\u001b[43mkwargs\u001b[49m\u001b[43m)\u001b[49m\n\u001b[0;32m    258\u001b[0m     \u001b[38;5;28;01melse\u001b[39;00m:\n\u001b[0;32m    259\u001b[0m         chats \u001b[38;5;241m=\u001b[39m [Chat(chat) \u001b[38;5;28;01mfor\u001b[39;00m chat \u001b[38;5;129;01min\u001b[39;00m text_inputs]  \u001b[38;5;66;03m# 🐈 🐈 🐈\u001b[39;00m\n",
      "File \u001b[1;32mc:\\ProgramData\\Anaconda3\\envs\\sd\\Lib\\site-packages\\transformers\\pipelines\\base.py:1254\u001b[0m, in \u001b[0;36mPipeline.__call__\u001b[1;34m(self, inputs, num_workers, batch_size, *args, **kwargs)\u001b[0m\n\u001b[0;32m   1246\u001b[0m     \u001b[38;5;28;01mreturn\u001b[39;00m \u001b[38;5;28mnext\u001b[39m(\n\u001b[0;32m   1247\u001b[0m         \u001b[38;5;28miter\u001b[39m(\n\u001b[0;32m   1248\u001b[0m             \u001b[38;5;28mself\u001b[39m\u001b[38;5;241m.\u001b[39mget_iterator(\n\u001b[1;32m   (...)\u001b[0m\n\u001b[0;32m   1251\u001b[0m         )\n\u001b[0;32m   1252\u001b[0m     )\n\u001b[0;32m   1253\u001b[0m \u001b[38;5;28;01melse\u001b[39;00m:\n\u001b[1;32m-> 1254\u001b[0m     \u001b[38;5;28;01mreturn\u001b[39;00m \u001b[38;5;28;43mself\u001b[39;49m\u001b[38;5;241;43m.\u001b[39;49m\u001b[43mrun_single\u001b[49m\u001b[43m(\u001b[49m\u001b[43minputs\u001b[49m\u001b[43m,\u001b[49m\u001b[43m \u001b[49m\u001b[43mpreprocess_params\u001b[49m\u001b[43m,\u001b[49m\u001b[43m \u001b[49m\u001b[43mforward_params\u001b[49m\u001b[43m,\u001b[49m\u001b[43m \u001b[49m\u001b[43mpostprocess_params\u001b[49m\u001b[43m)\u001b[49m\n",
      "File \u001b[1;32mc:\\ProgramData\\Anaconda3\\envs\\sd\\Lib\\site-packages\\transformers\\pipelines\\base.py:1261\u001b[0m, in \u001b[0;36mPipeline.run_single\u001b[1;34m(self, inputs, preprocess_params, forward_params, postprocess_params)\u001b[0m\n\u001b[0;32m   1259\u001b[0m \u001b[38;5;28;01mdef\u001b[39;00m \u001b[38;5;21mrun_single\u001b[39m(\u001b[38;5;28mself\u001b[39m, inputs, preprocess_params, forward_params, postprocess_params):\n\u001b[0;32m   1260\u001b[0m     model_inputs \u001b[38;5;241m=\u001b[39m \u001b[38;5;28mself\u001b[39m\u001b[38;5;241m.\u001b[39mpreprocess(inputs, \u001b[38;5;241m*\u001b[39m\u001b[38;5;241m*\u001b[39mpreprocess_params)\n\u001b[1;32m-> 1261\u001b[0m     model_outputs \u001b[38;5;241m=\u001b[39m \u001b[38;5;28;43mself\u001b[39;49m\u001b[38;5;241;43m.\u001b[39;49m\u001b[43mforward\u001b[49m\u001b[43m(\u001b[49m\u001b[43mmodel_inputs\u001b[49m\u001b[43m,\u001b[49m\u001b[43m \u001b[49m\u001b[38;5;241;43m*\u001b[39;49m\u001b[38;5;241;43m*\u001b[39;49m\u001b[43mforward_params\u001b[49m\u001b[43m)\u001b[49m\n\u001b[0;32m   1262\u001b[0m     outputs \u001b[38;5;241m=\u001b[39m \u001b[38;5;28mself\u001b[39m\u001b[38;5;241m.\u001b[39mpostprocess(model_outputs, \u001b[38;5;241m*\u001b[39m\u001b[38;5;241m*\u001b[39mpostprocess_params)\n\u001b[0;32m   1263\u001b[0m     \u001b[38;5;28;01mreturn\u001b[39;00m outputs\n",
      "File \u001b[1;32mc:\\ProgramData\\Anaconda3\\envs\\sd\\Lib\\site-packages\\transformers\\pipelines\\base.py:1161\u001b[0m, in \u001b[0;36mPipeline.forward\u001b[1;34m(self, model_inputs, **forward_params)\u001b[0m\n\u001b[0;32m   1159\u001b[0m     \u001b[38;5;28;01mwith\u001b[39;00m inference_context():\n\u001b[0;32m   1160\u001b[0m         model_inputs \u001b[38;5;241m=\u001b[39m \u001b[38;5;28mself\u001b[39m\u001b[38;5;241m.\u001b[39m_ensure_tensor_on_device(model_inputs, device\u001b[38;5;241m=\u001b[39m\u001b[38;5;28mself\u001b[39m\u001b[38;5;241m.\u001b[39mdevice)\n\u001b[1;32m-> 1161\u001b[0m         model_outputs \u001b[38;5;241m=\u001b[39m \u001b[38;5;28;43mself\u001b[39;49m\u001b[38;5;241;43m.\u001b[39;49m\u001b[43m_forward\u001b[49m\u001b[43m(\u001b[49m\u001b[43mmodel_inputs\u001b[49m\u001b[43m,\u001b[49m\u001b[43m \u001b[49m\u001b[38;5;241;43m*\u001b[39;49m\u001b[38;5;241;43m*\u001b[39;49m\u001b[43mforward_params\u001b[49m\u001b[43m)\u001b[49m\n\u001b[0;32m   1162\u001b[0m         model_outputs \u001b[38;5;241m=\u001b[39m \u001b[38;5;28mself\u001b[39m\u001b[38;5;241m.\u001b[39m_ensure_tensor_on_device(model_outputs, device\u001b[38;5;241m=\u001b[39mtorch\u001b[38;5;241m.\u001b[39mdevice(\u001b[38;5;124m\"\u001b[39m\u001b[38;5;124mcpu\u001b[39m\u001b[38;5;124m\"\u001b[39m))\n\u001b[0;32m   1163\u001b[0m \u001b[38;5;28;01melse\u001b[39;00m:\n",
      "File \u001b[1;32mc:\\ProgramData\\Anaconda3\\envs\\sd\\Lib\\site-packages\\transformers\\pipelines\\text_generation.py:351\u001b[0m, in \u001b[0;36mTextGenerationPipeline._forward\u001b[1;34m(self, model_inputs, **generate_kwargs)\u001b[0m\n\u001b[0;32m    348\u001b[0m         generate_kwargs[\u001b[38;5;124m\"\u001b[39m\u001b[38;5;124mmin_length\u001b[39m\u001b[38;5;124m\"\u001b[39m] \u001b[38;5;241m+\u001b[39m\u001b[38;5;241m=\u001b[39m prefix_length\n\u001b[0;32m    350\u001b[0m \u001b[38;5;66;03m# BS x SL\u001b[39;00m\n\u001b[1;32m--> 351\u001b[0m generated_sequence \u001b[38;5;241m=\u001b[39m \u001b[38;5;28;43mself\u001b[39;49m\u001b[38;5;241;43m.\u001b[39;49m\u001b[43mmodel\u001b[49m\u001b[38;5;241;43m.\u001b[39;49m\u001b[43mgenerate\u001b[49m\u001b[43m(\u001b[49m\u001b[43minput_ids\u001b[49m\u001b[38;5;241;43m=\u001b[39;49m\u001b[43minput_ids\u001b[49m\u001b[43m,\u001b[49m\u001b[43m \u001b[49m\u001b[43mattention_mask\u001b[49m\u001b[38;5;241;43m=\u001b[39;49m\u001b[43mattention_mask\u001b[49m\u001b[43m,\u001b[49m\u001b[43m \u001b[49m\u001b[38;5;241;43m*\u001b[39;49m\u001b[38;5;241;43m*\u001b[39;49m\u001b[43mgenerate_kwargs\u001b[49m\u001b[43m)\u001b[49m\n\u001b[0;32m    352\u001b[0m out_b \u001b[38;5;241m=\u001b[39m generated_sequence\u001b[38;5;241m.\u001b[39mshape[\u001b[38;5;241m0\u001b[39m]\n\u001b[0;32m    353\u001b[0m \u001b[38;5;28;01mif\u001b[39;00m \u001b[38;5;28mself\u001b[39m\u001b[38;5;241m.\u001b[39mframework \u001b[38;5;241m==\u001b[39m \u001b[38;5;124m\"\u001b[39m\u001b[38;5;124mpt\u001b[39m\u001b[38;5;124m\"\u001b[39m:\n",
      "File \u001b[1;32mc:\\ProgramData\\Anaconda3\\envs\\sd\\Lib\\site-packages\\torch\\utils\\_contextlib.py:116\u001b[0m, in \u001b[0;36mcontext_decorator.<locals>.decorate_context\u001b[1;34m(*args, **kwargs)\u001b[0m\n\u001b[0;32m    113\u001b[0m \u001b[38;5;129m@functools\u001b[39m\u001b[38;5;241m.\u001b[39mwraps(func)\n\u001b[0;32m    114\u001b[0m \u001b[38;5;28;01mdef\u001b[39;00m \u001b[38;5;21mdecorate_context\u001b[39m(\u001b[38;5;241m*\u001b[39margs, \u001b[38;5;241m*\u001b[39m\u001b[38;5;241m*\u001b[39mkwargs):\n\u001b[0;32m    115\u001b[0m     \u001b[38;5;28;01mwith\u001b[39;00m ctx_factory():\n\u001b[1;32m--> 116\u001b[0m         \u001b[38;5;28;01mreturn\u001b[39;00m \u001b[43mfunc\u001b[49m\u001b[43m(\u001b[49m\u001b[38;5;241;43m*\u001b[39;49m\u001b[43margs\u001b[49m\u001b[43m,\u001b[49m\u001b[43m \u001b[49m\u001b[38;5;241;43m*\u001b[39;49m\u001b[38;5;241;43m*\u001b[39;49m\u001b[43mkwargs\u001b[49m\u001b[43m)\u001b[49m\n",
      "File \u001b[1;32mc:\\ProgramData\\Anaconda3\\envs\\sd\\Lib\\site-packages\\transformers\\generation\\utils.py:1989\u001b[0m, in \u001b[0;36mGenerationMixin.generate\u001b[1;34m(self, inputs, generation_config, logits_processor, stopping_criteria, prefix_allowed_tokens_fn, synced_gpus, assistant_model, streamer, negative_prompt_ids, negative_prompt_attention_mask, **kwargs)\u001b[0m\n\u001b[0;32m   1981\u001b[0m     input_ids, model_kwargs \u001b[38;5;241m=\u001b[39m \u001b[38;5;28mself\u001b[39m\u001b[38;5;241m.\u001b[39m_expand_inputs_for_generation(\n\u001b[0;32m   1982\u001b[0m         input_ids\u001b[38;5;241m=\u001b[39minput_ids,\n\u001b[0;32m   1983\u001b[0m         expand_size\u001b[38;5;241m=\u001b[39mgeneration_config\u001b[38;5;241m.\u001b[39mnum_return_sequences,\n\u001b[0;32m   1984\u001b[0m         is_encoder_decoder\u001b[38;5;241m=\u001b[39m\u001b[38;5;28mself\u001b[39m\u001b[38;5;241m.\u001b[39mconfig\u001b[38;5;241m.\u001b[39mis_encoder_decoder,\n\u001b[0;32m   1985\u001b[0m         \u001b[38;5;241m*\u001b[39m\u001b[38;5;241m*\u001b[39mmodel_kwargs,\n\u001b[0;32m   1986\u001b[0m     )\n\u001b[0;32m   1988\u001b[0m     \u001b[38;5;66;03m# 13. run sample (it degenerates to greedy search when `generation_config.do_sample=False`)\u001b[39;00m\n\u001b[1;32m-> 1989\u001b[0m     result \u001b[38;5;241m=\u001b[39m \u001b[38;5;28;43mself\u001b[39;49m\u001b[38;5;241;43m.\u001b[39;49m\u001b[43m_sample\u001b[49m\u001b[43m(\u001b[49m\n\u001b[0;32m   1990\u001b[0m \u001b[43m        \u001b[49m\u001b[43minput_ids\u001b[49m\u001b[43m,\u001b[49m\n\u001b[0;32m   1991\u001b[0m \u001b[43m        \u001b[49m\u001b[43mlogits_processor\u001b[49m\u001b[38;5;241;43m=\u001b[39;49m\u001b[43mprepared_logits_processor\u001b[49m\u001b[43m,\u001b[49m\n\u001b[0;32m   1992\u001b[0m \u001b[43m        \u001b[49m\u001b[43mlogits_warper\u001b[49m\u001b[38;5;241;43m=\u001b[39;49m\u001b[43mprepared_logits_warper\u001b[49m\u001b[43m,\u001b[49m\n\u001b[0;32m   1993\u001b[0m \u001b[43m        \u001b[49m\u001b[43mstopping_criteria\u001b[49m\u001b[38;5;241;43m=\u001b[39;49m\u001b[43mprepared_stopping_criteria\u001b[49m\u001b[43m,\u001b[49m\n\u001b[0;32m   1994\u001b[0m \u001b[43m        \u001b[49m\u001b[43mgeneration_config\u001b[49m\u001b[38;5;241;43m=\u001b[39;49m\u001b[43mgeneration_config\u001b[49m\u001b[43m,\u001b[49m\n\u001b[0;32m   1995\u001b[0m \u001b[43m        \u001b[49m\u001b[43msynced_gpus\u001b[49m\u001b[38;5;241;43m=\u001b[39;49m\u001b[43msynced_gpus\u001b[49m\u001b[43m,\u001b[49m\n\u001b[0;32m   1996\u001b[0m \u001b[43m        \u001b[49m\u001b[43mstreamer\u001b[49m\u001b[38;5;241;43m=\u001b[39;49m\u001b[43mstreamer\u001b[49m\u001b[43m,\u001b[49m\n\u001b[0;32m   1997\u001b[0m \u001b[43m        \u001b[49m\u001b[38;5;241;43m*\u001b[39;49m\u001b[38;5;241;43m*\u001b[39;49m\u001b[43mmodel_kwargs\u001b[49m\u001b[43m,\u001b[49m\n\u001b[0;32m   1998\u001b[0m \u001b[43m    \u001b[49m\u001b[43m)\u001b[49m\n\u001b[0;32m   2000\u001b[0m \u001b[38;5;28;01melif\u001b[39;00m generation_mode \u001b[38;5;129;01min\u001b[39;00m (GenerationMode\u001b[38;5;241m.\u001b[39mBEAM_SAMPLE, GenerationMode\u001b[38;5;241m.\u001b[39mBEAM_SEARCH):\n\u001b[0;32m   2001\u001b[0m     \u001b[38;5;66;03m# 11. prepare logits warper\u001b[39;00m\n\u001b[0;32m   2002\u001b[0m     prepared_logits_warper \u001b[38;5;241m=\u001b[39m (\n\u001b[0;32m   2003\u001b[0m         \u001b[38;5;28mself\u001b[39m\u001b[38;5;241m.\u001b[39m_get_logits_warper(generation_config, device\u001b[38;5;241m=\u001b[39minput_ids\u001b[38;5;241m.\u001b[39mdevice)\n\u001b[0;32m   2004\u001b[0m         \u001b[38;5;28;01mif\u001b[39;00m generation_config\u001b[38;5;241m.\u001b[39mdo_sample\n\u001b[0;32m   2005\u001b[0m         \u001b[38;5;28;01melse\u001b[39;00m \u001b[38;5;28;01mNone\u001b[39;00m\n\u001b[0;32m   2006\u001b[0m     )\n",
      "File \u001b[1;32mc:\\ProgramData\\Anaconda3\\envs\\sd\\Lib\\site-packages\\transformers\\generation\\utils.py:2969\u001b[0m, in \u001b[0;36mGenerationMixin._sample\u001b[1;34m(self, input_ids, logits_processor, stopping_criteria, generation_config, synced_gpus, streamer, logits_warper, **model_kwargs)\u001b[0m\n\u001b[0;32m   2967\u001b[0m \u001b[38;5;28;01mif\u001b[39;00m do_sample:\n\u001b[0;32m   2968\u001b[0m     probs \u001b[38;5;241m=\u001b[39m nn\u001b[38;5;241m.\u001b[39mfunctional\u001b[38;5;241m.\u001b[39msoftmax(next_token_scores, dim\u001b[38;5;241m=\u001b[39m\u001b[38;5;241m-\u001b[39m\u001b[38;5;241m1\u001b[39m)\n\u001b[1;32m-> 2969\u001b[0m     next_tokens \u001b[38;5;241m=\u001b[39m \u001b[43mtorch\u001b[49m\u001b[38;5;241;43m.\u001b[39;49m\u001b[43mmultinomial\u001b[49m\u001b[43m(\u001b[49m\u001b[43mprobs\u001b[49m\u001b[43m,\u001b[49m\u001b[43m \u001b[49m\u001b[43mnum_samples\u001b[49m\u001b[38;5;241;43m=\u001b[39;49m\u001b[38;5;241;43m1\u001b[39;49m\u001b[43m)\u001b[49m\u001b[38;5;241m.\u001b[39msqueeze(\u001b[38;5;241m1\u001b[39m)\n\u001b[0;32m   2970\u001b[0m \u001b[38;5;28;01melse\u001b[39;00m:\n\u001b[0;32m   2971\u001b[0m     next_tokens \u001b[38;5;241m=\u001b[39m torch\u001b[38;5;241m.\u001b[39margmax(next_token_scores, dim\u001b[38;5;241m=\u001b[39m\u001b[38;5;241m-\u001b[39m\u001b[38;5;241m1\u001b[39m)\n",
      "\u001b[1;31mKeyboardInterrupt\u001b[0m: "
     ]
    }
   ],
   "source": [
    "tell_novel(novel, storyteller)"
   ]
  },
  {
   "cell_type": "code",
   "execution_count": null,
   "metadata": {},
   "outputs": [],
   "source": []
  }
 ],
 "metadata": {
  "kernelspec": {
   "display_name": "sd",
   "language": "python",
   "name": "python3"
  },
  "language_info": {
   "codemirror_mode": {
    "name": "ipython",
    "version": 3
   },
   "file_extension": ".py",
   "mimetype": "text/x-python",
   "name": "python",
   "nbconvert_exporter": "python",
   "pygments_lexer": "ipython3",
   "version": "3.11.9"
  }
 },
 "nbformat": 4,
 "nbformat_minor": 2
}
