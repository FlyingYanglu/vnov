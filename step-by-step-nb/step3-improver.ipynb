{
 "cells": [
  {
   "cell_type": "code",
   "execution_count": 6,
   "metadata": {},
   "outputs": [
    {
     "name": "stdout",
     "output_type": "stream",
     "text": [
      "The autoreload extension is already loaded. To reload it, use:\n",
      "  %reload_ext autoreload\n"
     ]
    }
   ],
   "source": [
    "# notebook autoreload\n",
    "%load_ext autoreload\n",
    "%autoreload 2"
   ]
  },
  {
   "cell_type": "code",
   "execution_count": 7,
   "metadata": {},
   "outputs": [],
   "source": [
    "from vnov.story import Improver\n",
    "from vnov.llms.poe import Poe\n",
    "from vnov.llms.deepseek import Deepseek\n",
    "from vnov.data import Novel"
   ]
  },
  {
   "cell_type": "code",
   "execution_count": 8,
   "metadata": {},
   "outputs": [
    {
     "name": "stdout",
     "output_type": "stream",
     "text": [
      "Constructing email dict out of email accounts ['llu430173@gmail.com', 'luke.yangluhb@gmail.com', 'yang_huibo@outlook.com', 'lluke6025@gmail.com', 'lu4431928@gmail.com', 'yhb19991115@gmail.com', 'legolukeluke3@gmail.com']\n",
      "Switching email\n",
      "Switched to new email account llu430173@gmail.com\n"
     ]
    }
   ],
   "source": [
    "model = Poe()\n",
    "# model = Deepseek()\n",
    "novel = Novel( \"datasets/11-0\", \"Alice\")"
   ]
  },
  {
   "cell_type": "code",
   "execution_count": 9,
   "metadata": {},
   "outputs": [
    {
     "name": "stdout",
     "output_type": "stream",
     "text": [
      "Improving summary for chapter 1... (Iteration 2)\n",
      "Saving to datasets/11-0\\default\\summary\\1_summary_concise_iteration_2.txt\n",
      "Improved summary for chapter 1 saved to datasets/11-0\\default\\summary\\1_summary_concise_iteration_2.txt\n"
     ]
    },
    {
     "data": {
      "text/plain": [
       "\"Bored and sleepy by the riverbank, Alice is captivated by a talking White Rabbit in a waistcoat, which sparks her curiosity. She follows it down a rabbit hole, falling into a deep well filled with strange items, during which she reflects on her size and wonders about the world below. After discovering a tiny door leading to a beautiful garden but finding herself too large to enter, she drinks from a bottle labeled 'DRINK ME,' which shrinks her down to the right size, igniting her excitement to explore the enchanting garden.\""
      ]
     },
     "execution_count": 9,
     "metadata": {},
     "output_type": "execute_result"
    }
   ],
   "source": [
    "improver = Improver(model)\n",
    "improver.improve_chapter_summary(novel, 1, summary_type=\"concise\", iteration=2)"
   ]
  },
  {
   "cell_type": "code",
   "execution_count": null,
   "metadata": {},
   "outputs": [],
   "source": []
  }
 ],
 "metadata": {
  "kernelspec": {
   "display_name": "chatgpt",
   "language": "python",
   "name": "python3"
  },
  "language_info": {
   "codemirror_mode": {
    "name": "ipython",
    "version": 3
   },
   "file_extension": ".py",
   "mimetype": "text/x-python",
   "name": "python",
   "nbconvert_exporter": "python",
   "pygments_lexer": "ipython3",
   "version": "3.11.9"
  }
 },
 "nbformat": 4,
 "nbformat_minor": 2
}
