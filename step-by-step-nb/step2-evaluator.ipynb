{
 "cells": [
  {
   "cell_type": "code",
   "execution_count": 1,
   "metadata": {},
   "outputs": [],
   "source": [
    "# notebook autoreload\n",
    "%load_ext autoreload\n",
    "%autoreload 2"
   ]
  },
  {
   "cell_type": "code",
   "execution_count": 2,
   "metadata": {},
   "outputs": [
    {
     "name": "stderr",
     "output_type": "stream",
     "text": [
      "c:\\Users\\yhb19\\.conda\\envs\\chatgpt\\Lib\\site-packages\\tqdm\\auto.py:21: TqdmWarning: IProgress not found. Please update jupyter and ipywidgets. See https://ipywidgets.readthedocs.io/en/stable/user_install.html\n",
      "  from .autonotebook import tqdm as notebook_tqdm\n"
     ]
    }
   ],
   "source": [
    "from vnov.story import Evaluator\n",
    "from vnov.llms.poe import Poe\n",
    "from vnov.llms.deepseek import Deepseek\n",
    "from vnov.data import Novel"
   ]
  },
  {
   "cell_type": "code",
   "execution_count": 3,
   "metadata": {},
   "outputs": [
    {
     "name": "stdout",
     "output_type": "stream",
     "text": [
      "Constructing email dict out of email accounts ['llu430173@gmail.com', 'luke.yangluhb@gmail.com', 'yang_huibo@outlook.com', 'lluke6025@gmail.com', 'lu4431928@gmail.com', 'yhb19991115@gmail.com', 'legolukeluke3@gmail.com']\n",
      "Switching email\n",
      "Switched to new email account llu430173@gmail.com\n"
     ]
    }
   ],
   "source": [
    "model = Poe()\n",
    "# model = Deepseek()\n",
    "novel = Novel( \"datasets/11-0\", \"Alice\")"
   ]
  },
  {
   "cell_type": "code",
   "execution_count": 4,
   "metadata": {},
   "outputs": [],
   "source": [
    "# evaluator = Evaluator(model)\n",
    "# for summary_type in [\"comprehensive\", \"concise\", \"detailed\"]:\n",
    "#     print(f\"Summary type: {summary_type}\")\n",
    "#     evaluator.evaluate_novel(novel, summary_type=summary_type)"
   ]
  },
  {
   "cell_type": "code",
   "execution_count": 5,
   "metadata": {},
   "outputs": [
    {
     "name": "stdout",
     "output_type": "stream",
     "text": [
      "{'category_scores': {'Content Accuracy': 18, 'Comprehensiveness': 12, 'Brevity and Clarity': 9, 'Writing Style and Tone': 9, 'Thematic Representation': 12, 'Language and Grammar': 10, 'Context Awareness': 8, 'Originality': 9}, 'overall_score': 87, 'verdict': 'Good', 'improvement_comments': {'Content Accuracy': \"The summary accurately captures most major events but omits details such as Alice's reflections on her size and the specific contents of the well.\", 'Comprehensiveness': \"While key events are included, the summary misses a few significant aspects, like Alice's thoughts about the Antipathies and her previous experiences with the cat.\", 'Brevity and Clarity': \"The summary is mostly concise, but it could be clearer in conveying the sequence of events, particularly Alice's internal thoughts.\", 'Writing Style and Tone': 'The tone matches the whimsical nature of the original text, though it could be more engaging.', 'Thematic Representation': 'The summary touches on curiosity and exploration but could delve deeper into themes of identity and transformation.', 'Language and Grammar': 'Language is precise and free from errors, maintaining clarity throughout.', 'Context Awareness': \"The context is mostly clear but could benefit from a brief mention of Alice's initial boredom to set the scene better.\", 'Originality': 'The summary is well-paraphrased, with minimal direct copying of phrases from the original.'}}\n",
      "Evaluation for 1_summary_concise_iteration_2 saved.\n"
     ]
    },
    {
     "data": {
      "text/plain": [
       "{'category_scores': {'Content Accuracy': 18,\n",
       "  'Comprehensiveness': 12,\n",
       "  'Brevity and Clarity': 9,\n",
       "  'Writing Style and Tone': 9,\n",
       "  'Thematic Representation': 12,\n",
       "  'Language and Grammar': 10,\n",
       "  'Context Awareness': 8,\n",
       "  'Originality': 9},\n",
       " 'overall_score': 87,\n",
       " 'verdict': 'Good',\n",
       " 'improvement_comments': {'Content Accuracy': \"The summary accurately captures most major events but omits details such as Alice's reflections on her size and the specific contents of the well.\",\n",
       "  'Comprehensiveness': \"While key events are included, the summary misses a few significant aspects, like Alice's thoughts about the Antipathies and her previous experiences with the cat.\",\n",
       "  'Brevity and Clarity': \"The summary is mostly concise, but it could be clearer in conveying the sequence of events, particularly Alice's internal thoughts.\",\n",
       "  'Writing Style and Tone': 'The tone matches the whimsical nature of the original text, though it could be more engaging.',\n",
       "  'Thematic Representation': 'The summary touches on curiosity and exploration but could delve deeper into themes of identity and transformation.',\n",
       "  'Language and Grammar': 'Language is precise and free from errors, maintaining clarity throughout.',\n",
       "  'Context Awareness': \"The context is mostly clear but could benefit from a brief mention of Alice's initial boredom to set the scene better.\",\n",
       "  'Originality': 'The summary is well-paraphrased, with minimal direct copying of phrases from the original.'}}"
      ]
     },
     "execution_count": 5,
     "metadata": {},
     "output_type": "execute_result"
    }
   ],
   "source": [
    "evaluator = Evaluator(model)\n",
    "evaluator.evaluate_novel_file(novel, 1, \"1_summary_concise_iteration_2\")"
   ]
  },
  {
   "cell_type": "code",
   "execution_count": null,
   "metadata": {},
   "outputs": [],
   "source": []
  }
 ],
 "metadata": {
  "kernelspec": {
   "display_name": "chatgpt",
   "language": "python",
   "name": "python3"
  },
  "language_info": {
   "codemirror_mode": {
    "name": "ipython",
    "version": 3
   },
   "file_extension": ".py",
   "mimetype": "text/x-python",
   "name": "python",
   "nbconvert_exporter": "python",
   "pygments_lexer": "ipython3",
   "version": "3.11.9"
  }
 },
 "nbformat": 4,
 "nbformat_minor": 2
}
