{
 "cells": [
  {
   "cell_type": "code",
   "execution_count": 1,
   "metadata": {},
   "outputs": [],
   "source": [
    "%reload_ext autoreload\n",
    "%autoreload 2"
   ]
  },
  {
   "cell_type": "code",
   "execution_count": 2,
   "metadata": {},
   "outputs": [],
   "source": [
    "# %cd .."
   ]
  },
  {
   "cell_type": "code",
   "execution_count": 3,
   "metadata": {},
   "outputs": [],
   "source": [
    "import json\n",
    "from vnov.data import Novel\n",
    "from vnov.story import Director\n",
    "from vnov.llms.deepseek import Deepseek"
   ]
  },
  {
   "cell_type": "code",
   "execution_count": 4,
   "metadata": {},
   "outputs": [],
   "source": [
    "novel = Novel('datasets/yujie', main_character=\"史金\")\n",
    "model = Deepseek()"
   ]
  },
  {
   "cell_type": "code",
   "execution_count": 5,
   "metadata": {},
   "outputs": [],
   "source": [
    "director = Director(model)"
   ]
  },
  {
   "cell_type": "code",
   "execution_count": 6,
   "metadata": {},
   "outputs": [],
   "source": [
    "combined_scenes = director.load_combined_scenes(novel)"
   ]
  },
  {
   "cell_type": "code",
   "execution_count": 7,
   "metadata": {},
   "outputs": [
    {
     "data": {
      "text/plain": [
       "{'原文起始点': '马士博带着我们走入了一个高档的接待室，四周的环境让我感到耳目一新。',\n",
       " '场景': {'位置类型': '室内',\n",
       "  '环境特点': ['优雅', '明亮', '白天'],\n",
       "  '场景特征': ['接待室', '沙发', '装饰品', '咖啡桌']},\n",
       " '幕': 15,\n",
       " '角色': [{'名字': '马士博',\n",
       "   '动作': ['指引客人入座'],\n",
       "   '视线与方向': '扫视四周',\n",
       "   '表情': ['自信', '热情'],\n",
       "   '临时特点': {'手': {'动作': ['指向沙发']}},\n",
       "   '服装': {'上衣': {'物品': '深色西装', '状态': '穿戴整齐'}, '配饰': {'物品': '手表', '类型': '奢华款'}},\n",
       "   '角色信息': {'Name': '马士博',\n",
       "    'Gender': 'Male',\n",
       "    'Description': '马士博是一位外表干练、性格温和的企业经理，充满了自信和魅力。他总是带着热情的微笑，给人一种亲切感。他在商业谈判中表现得极具策略性，善于分析并抓住对方的心理。他的背景深厚，拥有丰富的商业经验，是达万集团的重要一员。',\n",
       "    'Role': 'male protagonist',\n",
       "    'Anime character archetype': 'ikemen',\n",
       "    'Appearance': {'Hair': {'Style': 'slicked back',\n",
       "      'Color': 'dark blue hair',\n",
       "      'Length': 'short'},\n",
       "     'Eyes': {'Color': ['golden eyes']},\n",
       "     'Skin': ['fair skin'],\n",
       "     'Lips': ['slim lips'],\n",
       "     'Nose': ['straight nose'],\n",
       "     'Chin': ['strong chin'],\n",
       "     'Body': {'Height': 'tall', 'Build': 'athletic', 'Breast': 'Medium'}},\n",
       "    'num_occurence': 5}}]}"
      ]
     },
     "execution_count": 7,
     "metadata": {},
     "output_type": "execute_result"
    }
   ],
   "source": [
    "combined_scenes[167]"
   ]
  },
  {
   "cell_type": "code",
   "execution_count": 8,
   "metadata": {},
   "outputs": [],
   "source": [
    "# x = filter(lambda x: len(x['角色']) >= 2,combined_scenes)\n",
    "# filtered_scenes = list(x)\n",
    "# filtered_scenes"
   ]
  },
  {
   "cell_type": "code",
   "execution_count": 9,
   "metadata": {},
   "outputs": [
    {
     "name": "stdout",
     "output_type": "stream",
     "text": [
      "[{'role': 'system', 'content': 'Your job is to turn the storyboard into an image prompt.\\ngender: 1girl/1boy\\nanime archetype: tsundere/yandere/kuudere/dandere/dandere/deredere/himedere/kamidere/shundere... (There are more than 20 types of anime archetypes)\\n'}, {'role': 'user', 'content': '# Storyboard\\n{\\'原文起始点\\': \\'魔都四十公里外，一片清冷的荒山，葬礼的气氛显得异常冷清，除了两名火葬场的工作人员，我和陈金莲站在这里，面临着我人生的终结。\\', \\'场景\\': {\\'位置类型\\': \\'户外\\', \\'环境特点\\': [\\'阴云密布\\', \\'寒风刺骨\\', \\'白天\\'], \\'场景特征\\': [\\'荒山\\', \\'灵堂\\', \\'火葬场\\', \\'枯树\\', \\'墓碑\\']}, \\'幕\\': 0, \\'角色\\': [{\\'名字\\': \\'陈金莲\\', \\'动作\\': [\\'站在灵堂前，双手合拢，微微低头\\'], \\'视线与方向\\': \\'凝视前方的灵堂\\', \\'表情\\': [\\'冷漠\\', \\'无情\\'], \\'服装\\': {\\'上衣\\': {\\'物品\\': \\'黑色长裙\\', \\'状态\\': \\'整洁\\'}, \\'外套\\': {\\'物品\\': \\'黑色大衣\\', \\'状态\\': \\'敞开\\'}, \\'配饰\\': {\\'物品\\': \\'黑色手套\\', \\'类型\\': \\'简约款\\'}}, \\'角色信息\\': {\\'Name\\': \\'陈金莲\\', \\'Gender\\': \\'Female\\', \\'Description\\': \\'陈金莲是一位外表冷艳、内心复杂的女性，身为校花，她自信而骄傲，常常对周围人保持一种高高在上的姿态。她拥有出众的才华和美丽的容貌，吸引众多追求者，但对感情却抱有冷漠态度。她心思深沉，善于利用他人来达到自己的目的，同时又对自己所追求的目标有着坚定的信念。她的冷酷和心机让她在朋友和敌人之间游刃有余，仿佛无所不能。\\', \\'Role\\': \\'protagonist\\', \\'Anime character archetype\\': \\'sadistic queen\\', \\'Appearance\\': {\\'Hair\\': {\\'Style\\': \\'long hair\\', \\'Color\\': \\'deep violet hair\\', \\'Length\\': \\'long\\'}, \\'Eyes\\': {\\'Color\\': [\\'golden eyes\\'], \\'Around the Eyes\\': [\\'eyeliner\\', \\'makeup\\'], \\'Iris\\': {\\'Form\\': [\\'star-shaped\\']}, \\'Pupils\\': {\\'Form\\': [\\'slit\\'], \\'Color\\': [\\'black\\']}, \\'Sclera\\': {\\'Color\\': [\\'white sclera\\']}}, \\'Skin\\': [\\'fair skin\\'], \\'Lips\\': [\\'plump lips\\', \\'dark red lips\\'], \\'Nose\\': [\\'petite nose\\'], \\'Chin\\': [\\'oval chin\\'], \\'Body\\': {\\'Height\\': \\'tall\\', \\'Build\\': \\'slim\\', \\'Breast\\': \\'large\\'}}, \\'num_occurence\\': 36}}]}\\n\\n# Instruction\\nTurn each item of the storyboard above into a image prompt. Please use Danbooru tag format for the image prompt.\\nYou have to include the anime archetype tags in the prompt.\\nAlso, append the following tags to the end of the generated image prompt: masterpiece, best quality, very aesthetic, absurdres\\n**Attention**: Do not include conflicting tags.\\n\\n\\n# Example Prompt for single character in the storyboard:\\n```json\\n{\\n    \"prompt\": \"1girl, tsundere, solo, outdoors, short hair, sky, shirt, choker, looking at viewer, white shirt, blue eyes, black hair, day, blue sky, cloud, jacket, smile, open clothes, railing, hood, closed mouth, long sleeves, black choker, open jacket, building, hooded jacket, bob cut, hood down, city, blue jacket, lens flare, masterpiece, best quality, very aesthetic, absurdres\"\\n}\\n```\\n\\n\\n# **Example Prompt for multiple characters in the storyboard (should follow the format of \"1girl/boy, (a few tags for the first character), 1girl/boy, (a few tags for the second character), scene descriptions): **\\n```json\\n{\\n    \"prompt\": \"1girl, white hair, grey eyes, silver coat, 1boy, black hair, military uniform, couple, hug, close-up, happy, smiling, affectionate gaze, island, sea, romantic, anime, masterpiece, best quality, very aesthetic, absurdres\"\\n}\\n```\\n\\n\\n\\n# Format\\n```json\\n{\\n    \"prompt\": \"xxx\"\\n}\\n```\\n'}]\n",
      "ChatCompletion(id='3244c3d4-8538-4c17-856b-1498ef09bb7b', choices=[Choice(finish_reason='stop', index=0, logprobs=None, message=ChatCompletionMessage(content='```json\\n{\\n    \"prompt\": \"1girl, sadistic queen, solo, outdoors, long hair, deep violet hair, golden eyes, star-shaped iris, slit pupils, black pupils, white sclera, fair skin, plump lips, dark red lips, petite nose, oval chin, tall, slim, large breast, black long裙, black coat, open clothes, black gloves, looking at viewer, cold expression, indifferent, cemetery, funeral, daytime, overcast, cold wind, desolate mountain, mortuary, withered tree, tombstone, masterpiece, best quality, very aesthetic, absurdres\"\\n}\\n```', refusal=None, role='assistant', function_call=None, tool_calls=None))], created=1728263298, model='deepseek-chat', object='chat.completion', service_tier=None, system_fingerprint='fp_1c141eb703', usage=CompletionUsage(completion_tokens=131, prompt_tokens=968, total_tokens=1099, prompt_cache_hit_tokens=0, prompt_cache_miss_tokens=968))\n"
     ]
    }
   ],
   "source": [
    "img_prompt = director.generate_image_prompt(combined_scenes[0])"
   ]
  },
  {
   "cell_type": "code",
   "execution_count": 10,
   "metadata": {},
   "outputs": [
    {
     "data": {
      "text/plain": [
       "{'prompt': '1girl, femme fatale, solo, outdoors, long hair, wavy hair, blonde hair, hair ribbon, hair ornament, almond eyes, blue eyes, long eyelashes, teary eyes, light skin, full lips, red lips, small nose, pointed chin, medium height, slender build, medium breast, white dress, jewelry, cold expression, disdainful expression, dropping object, mountain, overcast sky, distant figures, masterpiece, best quality, very aesthetic, absurdres'}"
      ]
     },
     "execution_count": 10,
     "metadata": {},
     "output_type": "execute_result"
    }
   ],
   "source": [
    "img_prompt"
   ]
  },
  {
   "cell_type": "code",
   "execution_count": 16,
   "metadata": {},
   "outputs": [
    {
     "name": "stdout",
     "output_type": "stream",
     "text": [
      "[{'role': 'system', 'content': 'Your job is to turn the storyboard into an image prompt.\\ngender: 1girl/1boy\\nanime archetype: tsundere/yandere/kuudere/dandere/dandere/deredere/himedere/kamidere/shundere... (There are more than 20 types of anime archetypes)\\n'}, {'role': 'user', 'content': '# Storyboard\\n{\\'原文起始点\\': \\'“怎么样？伤口还痛吗？你的手怎么样！”秦霜一边责备，一边拉起史金的手查看情况。\\', \\'场景\\': [\\'医院病房\\', \\'病房的环境干净整洁\\', \\'窗外透进阳光\\'], \\'幕\\': 27, \\'角色\\': [{\\'名字\\': \\'秦霜\\', \\'动作\\': [\\'拉起史金的手，仔细查看伤口\\', \\'关切地注视着史金\\'], \\'表情\\': [\\'关心\\', \\'焦虑\\'], \\'服装\\': [\\'白色衬衫\\', \\'黑色长裤\\', \\'黑色高跟鞋\\'], \\'角色信息\\': {\\'Name\\': \\'秦霜\\', \\'Gender\\': \\'Female\\', \\'Description\\': \\'秦霜是一位出身豪门的千金，她聪明、机智且具有强烈的自我保护意识。她外表美丽，气质高贵，拥有一双明亮懾人的眸子。她的性格复杂，既有温柔慈祥的一面，也有冷酷果决的一面。在感情上，她虽然对史金有着深厚的感情，但出于现实考量，她选择将这份感情深藏心底。她善于用幽默和机智来掩饰自己的真实情感，但内心深处却充满了对爱情的渴望和对未来的不确定。在面对危机时，她能迅速展现出霸气和果断，保护自己和身边的人。\\', \\'Role\\': \\'protagonist\\', \\'Anime character archetype\\': \\'tsundere\\', \\'Appearance\\': {\\'Hair\\': [\\'long hair\\', \\'wavy hair\\', \\'silver hair\\', \\'hair between eyes\\', \\'hair over shoulders\\'], \\'Eyes\\': [\\'sharp eyes\\', \\'blue eyes\\', \\'slit pupils\\', \\'long eyelashes\\'], \\'Skin\\': [\\'pale skin\\'], \\'Lips\\': [\\'thin lips\\', \\'red lips\\'], \\'Nose\\': [\\'sharp nose\\'], \\'Chin\\': [\\'pointed chin\\'], \\'Body\\': {\\'Height\\': \\'tall\\', \\'Build\\': \\'slender\\', \\'Breast\\': \\'Medium\\'}}}}, {\\'名字\\': \\'史金\\', \\'动作\\': [\\'坐在病床上，微微抬手\\', \\'露出一丝痛苦的表情\\'], \\'表情\\': [\\'痛苦\\', \\'无奈\\'], \\'服装\\': [\\'病号服\\', \\'白色袜子\\'], \\'角色信息\\': {\\'Name\\': \\'史金\\', \\'Gender\\': \\'Male\\', \\'Description\\': \\'史金是一个经历重生后变得成熟和坚定的男性。他曾经是一个卑微的追求者，后来成为一位成功的商人，但最终被妻子背叛并毒害。重生后，他决心改变过去，珍惜真正对他好的人，不再盲目追求虚幻的爱情。他现在专注于建立自己的事业，并努力提升自己的技能和知识。他自信、坚定，有时带点坏坏的幽默感，但内心深处仍有一丝对过去的伤感。\\', \\'Role\\': \\'protagonist\\', \\'Anime character archetype\\': \\'ikemen\\', \\'Appearance\\': {\\'Hair\\': [\\'short hair\\', \\'silver hair\\', \\'wavy hair\\', \\'side swept bangs\\'], \\'Eyes\\': [\\'slit pupils\\', \\'blue eyes\\', \\'sharp eyes\\', \\'eyebrows visible through hair\\'], \\'Skin\\': [\\'pale skin\\'], \\'Lips\\': [\\'thin lips\\', \\'rosy lips\\'], \\'Nose\\': [\\'aquiline nose\\'], \\'Chin\\': [\\'strong chin\\'], \\'Body\\': {\\'Height\\': \\'tall\\', \\'Build\\': \\'muscular\\', \\'Muscle\\': \\'Strong\\'}}}}]}\\n\\n# Instruction\\nTurn each item of the storyboard above into a image prompt. Please use Danbooru tag format for the image prompt.\\nYou have to include the anime archetype tags in the prompt.\\nAlso, append the following tags to the end of the generated image prompt: masterpiece, best quality, very aesthetic, absurdres\\n**Attention**: Do not include conflicting tags.\\n\\n\\n# Example Prompt for single character in the storyboard:\\n```json\\n{\\n    \"prompt\": \"1girl, tsundere, solo, outdoors, short hair, sky, shirt, choker, looking at viewer, white shirt, blue eyes, black hair, day, blue sky, cloud, jacket, smile, open clothes, railing, hood, closed mouth, long sleeves, black choker, open jacket, building, hooded jacket, bob cut, hood down, city, blue jacket, lens flare, masterpiece, best quality, very aesthetic, absurdres\"\\n}\\n```\\n\\n\\n# Example Prompt for multiple characters in the storyboard:\\n```json\\n{\\n    \"prompt\": \"1girl, white hair, grey eyes, silver coat, 1boy, black hair, military uniform, couple, hug, close-up, happy, smiling, affectionate gaze, island, sea, romantic, anime, masterpiece, best quality, very aesthetic, absurdres\"\\n}\\n```\\n\\n\\n\\n# Format\\n```json\\n{\\n    \"prompt\": \"xxx\"\\n}\\n```\\n'}]\n",
      "ChatCompletion(id='818b1355-1bd8-4334-89d0-3c5eb6b7eafa', choices=[Choice(finish_reason='stop', index=0, logprobs=None, message=ChatCompletionMessage(content='```json\\n{\\n    \"prompt\": \"1girl, 1boy, tsundere, ikemen, hospital room, clean, sunlight, white shirt, black pants, black high heels, long hair, silver hair, wavy hair, hair between eyes, hair over shoulders, sharp eyes, blue eyes, slit pupils, long eyelashes, pale skin, thin lips, red lips, sharp nose, pointed chin, tall, slender, medium breasts, patient gown, white socks, short hair, silver hair, wavy hair, side swept bangs, slit pupils, blue eyes, sharp eyes, eyebrows visible through hair, pale skin, thin lips, rosy lips, aquiline nose, strong chin, tall, muscular, strong muscles, concerned, anxious, painful expression, helpless, masterpiece, best quality, very aesthetic, absurdres\"\\n}\\n```', refusal=None, role='assistant', function_call=None, tool_calls=None))], created=1725257960, model='deepseek-chat', object='chat.completion', service_tier=None, system_fingerprint='fp_7e0991cad4', usage=CompletionUsage(completion_tokens=175, prompt_tokens=1095, total_tokens=1270, prompt_cache_hit_tokens=1088, prompt_cache_miss_tokens=7))\n"
     ]
    }
   ],
   "source": [
    "multiple_char_img_prompt =  director.generate_image_prompt(combined_scenes[167])"
   ]
  },
  {
   "cell_type": "code",
   "execution_count": 17,
   "metadata": {},
   "outputs": [
    {
     "data": {
      "text/plain": [
       "{'prompt': '1girl, 1boy, tsundere, ikemen, hospital room, clean, sunlight, white shirt, black pants, black high heels, long hair, silver hair, wavy hair, hair between eyes, hair over shoulders, sharp eyes, blue eyes, slit pupils, long eyelashes, pale skin, thin lips, red lips, sharp nose, pointed chin, tall, slender, medium breasts, patient gown, white socks, short hair, silver hair, wavy hair, side swept bangs, slit pupils, blue eyes, sharp eyes, eyebrows visible through hair, pale skin, thin lips, rosy lips, aquiline nose, strong chin, tall, muscular, strong muscles, concerned, anxious, painful expression, helpless, masterpiece, best quality, very aesthetic, absurdres'}"
      ]
     },
     "execution_count": 17,
     "metadata": {},
     "output_type": "execute_result"
    }
   ],
   "source": [
    "multiple_char_img_prompt"
   ]
  }
 ],
 "metadata": {
  "kernelspec": {
   "display_name": "chatgpt",
   "language": "python",
   "name": "python3"
  },
  "language_info": {
   "codemirror_mode": {
    "name": "ipython",
    "version": 3
   },
   "file_extension": ".py",
   "mimetype": "text/x-python",
   "name": "python",
   "nbconvert_exporter": "python",
   "pygments_lexer": "ipython3",
   "version": "3.11.9"
  }
 },
 "nbformat": 4,
 "nbformat_minor": 2
}
