{
 "cells": [
  {
   "cell_type": "code",
   "execution_count": 1,
   "metadata": {},
   "outputs": [],
   "source": [
    "%reload_ext autoreload\n",
    "%autoreload 2"
   ]
  },
  {
   "cell_type": "code",
   "execution_count": null,
   "metadata": {},
   "outputs": [],
   "source": [
    "%cd .."
   ]
  },
  {
   "cell_type": "code",
   "execution_count": 1,
   "metadata": {},
   "outputs": [],
   "source": [
    "from deep_translator import GoogleTranslator\n",
    "import json\n",
    "import re\n",
    "import re\n",
    "from concurrent.futures import ThreadPoolExecutor, as_completed"
   ]
  },
  {
   "cell_type": "code",
   "execution_count": null,
   "metadata": {},
   "outputs": [],
   "source": [
    "mixed_prompts = None\n",
    "with open('./datasets/yujie/prompts/director_prompts_Midjourney.json', \"r\", encoding=\"utf-8\") as f:\n",
    "    mixed_prompts = json.load(f)\n",
    "mixed_prompts[0:5]"
   ]
  },
  {
   "cell_type": "code",
   "execution_count": null,
   "metadata": {},
   "outputs": [],
   "source": [
    "mixed_prompts[53]"
   ]
  },
  {
   "cell_type": "code",
   "execution_count": 6,
   "metadata": {},
   "outputs": [],
   "source": [
    "def process_item(i, item):\n",
    "    # Function to process each item in parallel\n",
    "    translator = GoogleTranslator()\n",
    "    if isinstance(item, str):\n",
    "        curr_mixed = item\n",
    "        chinese_words = re.findall(r'[\\u4e00-\\u9fff]+', curr_mixed)\n",
    "        for word in chinese_words:\n",
    "            translated = translator.translate(word)\n",
    "            # print(word,\"->\", translated)\n",
    "            curr_mixed = curr_mixed.replace(word, ' ' + translated + ' ')\n",
    "        return i, curr_mixed\n",
    "\n",
    "    elif isinstance(item, dict):\n",
    "        if 'prompt' in item:\n",
    "            curr_mixed = item['prompt']\n",
    "            chinese_words = re.findall(r'[\\u4e00-\\u9fff]+', curr_mixed)\n",
    "            for word in chinese_words:\n",
    "                translated = translator.translate(word)\n",
    "                # print(word,\"->\", translated)\n",
    "                curr_mixed = curr_mixed.replace(word, ' ' + translated + ' ')\n",
    "        return i, curr_mixed\n",
    "\n",
    "    else:\n",
    "        raise TypeError(\"Item must be either a string or a dictionary with 'prompt'\")\n"
   ]
  },
  {
   "cell_type": "code",
   "execution_count": null,
   "metadata": {},
   "outputs": [],
   "source": [
    "full_eng_prompts = [None] * len(mixed_prompts)\n",
    "\n",
    "# Multithreading for parallel processing\n",
    "with ThreadPoolExecutor() as executor:\n",
    "    futures = {executor.submit(process_item, i, item): i for i, item in enumerate(mixed_prompts)}\n",
    "    \n",
    "    for future in as_completed(futures):\n",
    "        i, result = future.result()\n",
    "        full_eng_prompts[i] = result\n",
    "        \n",
    "        i = futures[future]  # Retrieve the original index\n",
    "        if i % 10 == 0:\n",
    "            with open(\"./datasets/yujie/prompts/eng_director_prompts_Midjourney.json\", \"w\", encoding=\"utf-8\") as f:\n",
    "                json.dump(full_eng_prompts, f, ensure_ascii=False, indent=4)\n",
    "            print(i)\n",
    "full_eng_prompts"
   ]
  },
  {
   "cell_type": "code",
   "execution_count": 8,
   "metadata": {},
   "outputs": [],
   "source": [
    "with open(\"./datasets/yujie/prompts/eng_director_prompts_Midjourney.json\", \"w\", encoding=\"utf-8\") as f:\n",
    "    json.dump(full_eng_prompts, f, ensure_ascii=False, indent=4)"
   ]
  },
  {
   "cell_type": "code",
   "execution_count": 9,
   "metadata": {},
   "outputs": [],
   "source": [
    "# full_eng_prompts = []\n",
    "# i = 0\n",
    "# while i < len(mixed_prompts):\n",
    "#     item = mixed_prompts[i]\n",
    "#     result = None\n",
    "#     if type(item) == str:\n",
    "#         curr_mixed = item\n",
    "#         chinese_words = re.findall(r'[\\u4e00-\\u9fff]+', curr_mixed)\n",
    "#         for word in chinese_words:\n",
    "#             translated = translator.translate(word)\n",
    "#             curr_mixed = curr_mixed.replace(word, ' ' + translated + ' ')\n",
    "\n",
    "#         result = curr_mixed\n",
    "#     elif type(item) == dict:\n",
    "#         if 'prompt' in item:\n",
    "#             curr_mixed = item['prompt']\n",
    "#             chinese_words = re.findall(r'[\\u4e00-\\u9fff]+', curr_mixed)\n",
    "#             for word in chinese_words:\n",
    "#                 translated = translator.translate(word)\n",
    "#                 curr_mixed = curr_mixed.replace(word,' ' + translated + ' ')\n",
    "\n",
    "#             result = curr_mixed\n",
    "\n",
    "#         else:\n",
    "#             raise TypeError\n",
    "#     else:\n",
    "#         raise TypeError\n",
    "    \n",
    "#     full_eng_prompts.append(result)\n",
    "#     if i % 10 == 0:\n",
    "#         print(i, result)\n",
    "#     i += 1\n",
    "#     # break\n",
    "# full_eng_prompts"
   ]
  }
 ],
 "metadata": {
  "kernelspec": {
   "display_name": "Python 3",
   "language": "python",
   "name": "python3"
  },
  "language_info": {
   "codemirror_mode": {
    "name": "ipython",
    "version": 3
   },
   "file_extension": ".py",
   "mimetype": "text/x-python",
   "name": "python",
   "nbconvert_exporter": "python",
   "pygments_lexer": "ipython3",
   "version": "3.12.4"
  }
 },
 "nbformat": 4,
 "nbformat_minor": 2
}
