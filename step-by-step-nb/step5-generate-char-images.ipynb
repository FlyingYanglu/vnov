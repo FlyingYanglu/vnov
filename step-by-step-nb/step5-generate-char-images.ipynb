{
 "cells": [
  {
   "cell_type": "code",
   "execution_count": 1,
   "metadata": {},
   "outputs": [],
   "source": [
    "%reload_ext autoreload\n",
    "%autoreload 2"
   ]
  },
  {
   "cell_type": "code",
   "execution_count": null,
   "metadata": {},
   "outputs": [],
   "source": [
    "%cd .."
   ]
  },
  {
   "cell_type": "code",
   "execution_count": 2,
   "metadata": {},
   "outputs": [],
   "source": [
    "from vnov.image_generation.midjourney import Midjourney\n",
    "import json"
   ]
  },
  {
   "cell_type": "code",
   "execution_count": 3,
   "metadata": {},
   "outputs": [],
   "source": [
    "with open(\"./datasets/yujie/midjourney_char_info.json\", \"r\", encoding=\"utf-8\") as f:\n",
    "    char_dict = json.load(f)"
   ]
  },
  {
   "cell_type": "code",
   "execution_count": 4,
   "metadata": {},
   "outputs": [],
   "source": [
    "mj = Midjourney()"
   ]
  },
  {
   "cell_type": "code",
   "execution_count": 5,
   "metadata": {},
   "outputs": [
    {
     "data": {
      "text/plain": [
       "{'陈金莲': {'prompt': '1full body image, 1girl, long hair, deep violet hair, long, golden eyes, fair skin, plump lips, dark red lips, petite nose, oval chin, tall, slim, large, anime, cute, japanese manga style --niji 6 --style raw --sref https://raw.githubusercontent.com/yfz3357/style-samples/refs/heads/main/%E5%B1%8F%E5%B9%95%E6%88%AA%E5%9B%BE%202024-10-06%20225314.png --sw 45',\n",
       "  'num_occurence': 36},\n",
       " '秦霜': {'prompt': '1full body image, 1girl, long hair, platinum blonde hair, long, light blue eyes, fair skin, soft pink lips, delicate nose, sharp chin, tall, slender, Medium, anime, cute, japanese manga style --niji 6 --style raw --sref https://raw.githubusercontent.com/yfz3357/style-samples/refs/heads/main/%E5%B1%8F%E5%B9%95%E6%88%AA%E5%9B%BE%202024-10-06%20225314.png --sw 45',\n",
       "  'num_occurence': 150},\n",
       " '我': {'prompt': '1full body image, 1boy, stylish quiff, royal blue hair, short, emerald green eyes, light tan skin, soft pink lips, straight nose, strong chin, tall, athletic, broad, anime, cute, japanese manga style --niji 6 --style raw --sref https://raw.githubusercontent.com/yfz3357/style-samples/refs/heads/main/%E5%B1%8F%E5%B9%95%E6%88%AA%E5%9B%BE%202024-10-06%20225314.png --sw 45',\n",
       "  'num_occurence': 62},\n",
       " '阿东': {'prompt': '1full body image, 1boy, spiky, light blue hair, short, green eyes, tanned skin, full lips, slim nose, square chin, tall, muscular, Medium, anime, cute, japanese manga style --niji 6 --style raw --sref https://raw.githubusercontent.com/yfz3357/style-samples/refs/heads/main/%E5%B1%8F%E5%B9%95%E6%88%AA%E5%9B%BE%202024-10-06%20225314.png --sw 45',\n",
       "  'num_occurence': 25},\n",
       " '马蓉': {'prompt': '1full body image, 1girl, long wavy hair, light pink hair, long, green eyes, fair skin, light pink lips, small nose, pointed chin, tall, athletic, Medium, anime, cute, japanese manga style --niji 6 --style raw --sref https://raw.githubusercontent.com/yfz3357/style-samples/refs/heads/main/%E5%B1%8F%E5%B9%95%E6%88%AA%E5%9B%BE%202024-10-06%20225314.png --sw 45',\n",
       "  'num_occurence': 25},\n",
       " '杨自奎': {'prompt': '1full body image, 1boy, medium length, gradient purple and silver, medium, emerald green eyes, fair skin, full lips, straight nose, sharp chin, tall, athletic, Medium, anime, cute, japanese manga style --niji 6 --style raw --sref https://raw.githubusercontent.com/yfz3357/style-samples/refs/heads/main/%E5%B1%8F%E5%B9%95%E6%88%AA%E5%9B%BE%202024-10-06%20225314.png --sw 45',\n",
       "  'num_occurence': 77},\n",
       " '阮俊': {'prompt': '1full body image, 1boy, medium length, dark blue hair, medium, golden eyes, fair skin, thin lips, straight nose, chiseled chin, tall, athletic, Medium, anime, cute, japanese manga style --niji 6 --style raw --sref https://raw.githubusercontent.com/yfz3357/style-samples/refs/heads/main/%E5%B1%8F%E5%B9%95%E6%88%AA%E5%9B%BE%202024-10-06%20225314.png --sw 45',\n",
       "  'num_occurence': 8},\n",
       " '代红伟': {'prompt': '1full body image, 1boy, messy medium, dark blue hair, medium, golden eyes, fair skin, thin lips, straight nose, sharp chin, tall, athletic, Medium, anime, cute, japanese manga style --niji 6 --style raw --sref https://raw.githubusercontent.com/yfz3357/style-samples/refs/heads/main/%E5%B1%8F%E5%B9%95%E6%88%AA%E5%9B%BE%202024-10-06%20225314.png --sw 45',\n",
       "  'num_occurence': 16},\n",
       " '孙小萌': {'prompt': '1full body image, 1girl, long wavy hair, chestnut brown hair, long, green eyes, fair skin, soft lips, small nose, soft chin, tall, slender, Medium, anime, cute, japanese manga style --niji 6 --style raw --sref https://raw.githubusercontent.com/yfz3357/style-samples/refs/heads/main/%E5%B1%8F%E5%B9%95%E6%88%AA%E5%9B%BE%202024-10-06%20225314.png --sw 45',\n",
       "  'num_occurence': 10},\n",
       " '徐梦娜': {'prompt': '1full body image, 1girl, long wavy hair, burgundy hair, long, emerald green eyes, fair skin, plump lips, light pink lips, sharp nose, defined chin, tall, athletic, large, anime, cute, japanese manga style --niji 6 --style raw --sref https://raw.githubusercontent.com/yfz3357/style-samples/refs/heads/main/%E5%B1%8F%E5%B9%95%E6%88%AA%E5%9B%BE%202024-10-06%20225314.png --sw 45',\n",
       "  'num_occurence': 8},\n",
       " '吴龙飞': {'prompt': '1full body image, 1boy, messy hair, light blue hair, medium, light green eyes, fair skin, thin lips, slender nose, slightly pointed chin, tall, slender, N/A, anime, cute, japanese manga style --niji 6 --style raw --sref https://raw.githubusercontent.com/yfz3357/style-samples/refs/heads/main/%E5%B1%8F%E5%B9%95%E6%88%AA%E5%9B%BE%202024-10-06%20225314.png --sw 45',\n",
       "  'num_occurence': 14},\n",
       " '黄三': {'prompt': '1full body image, 1boy, slicked back, dark red hair, short, golden eyes, tanned skin, thin lips, sharp nose, strong chin, tall, muscular, Large, anime, cute, japanese manga style --niji 6 --style raw --sref https://raw.githubusercontent.com/yfz3357/style-samples/refs/heads/main/%E5%B1%8F%E5%B9%95%E6%88%AA%E5%9B%BE%202024-10-06%20225314.png --sw 45',\n",
       "  'num_occurence': 8},\n",
       " '肖雅': {'prompt': '1full body image, 1girl, long straight hair, dark teal hair, long, golden eyes, fair skin, pink lips, delicate nose, slender chin, tall, slender, medium, anime, cute, japanese manga style --niji 6 --style raw --sref https://raw.githubusercontent.com/yfz3357/style-samples/refs/heads/main/%E5%B1%8F%E5%B9%95%E6%88%AA%E5%9B%BE%202024-10-06%20225314.png --sw 45',\n",
       "  'num_occurence': 8},\n",
       " '黎莹': {'prompt': '1full body image, 1girl, long wavy hair, dark blue hair, long, green eyes, fair skin, soft pink lips, small nose, delicate chin, tall, slender, Medium, anime, cute, japanese manga style --niji 6 --style raw --sref https://raw.githubusercontent.com/yfz3357/style-samples/refs/heads/main/%E5%B1%8F%E5%B9%95%E6%88%AA%E5%9B%BE%202024-10-06%20225314.png --sw 45',\n",
       "  'num_occurence': 8},\n",
       " '德爷': {'prompt': '1full body image, 1boy, slicked back, grey hair, short, dark red eyes, light skin, thin lips, sharp nose, strong chin, tall, muscular, Medium, anime, cute, japanese manga style --niji 6 --style raw --sref https://raw.githubusercontent.com/yfz3357/style-samples/refs/heads/main/%E5%B1%8F%E5%B9%95%E6%88%AA%E5%9B%BE%202024-10-06%20225314.png --sw 45',\n",
       "  'num_occurence': 8},\n",
       " '钱九': {'prompt': '1full body image, 1boy, slicked back, dark blue hair, short, golden eyes, fair skin, thin lips, sharp nose, strong chin, tall, muscular, average, formal suit, dark gray suit, silver watch, tie, anime, cute, japanese manga style --niji 6 --style raw --sref https://raw.githubusercontent.com/yfz3357/style-samples/refs/heads/main/%E5%B1%8F%E5%B9%95%E6%88%AA%E5%9B%BE%202024-10-06%20225314.png --sw 45',\n",
       "  'num_occurence': 18},\n",
       " '江河': {'prompt': '1full body image, 1boy, messy spikes, dark blue hair, short, amber eyes, tan skin, thin lips, strong nose, square chin, tall, muscular, Large, anime, cute, japanese manga style --niji 6 --style raw --sref https://raw.githubusercontent.com/yfz3357/style-samples/refs/heads/main/%E5%B1%8F%E5%B9%95%E6%88%AA%E5%9B%BE%202024-10-06%20225314.png --sw 45',\n",
       "  'num_occurence': 14},\n",
       " '赖三': {'prompt': '1full body image, 1boy, spiky hair, blue hair, medium, green eyes, light skin, thin lips, straight nose, defined chin, tall, athletic, N/A, anime, cute, japanese manga style --niji 6 --style raw --sref https://raw.githubusercontent.com/yfz3357/style-samples/refs/heads/main/%E5%B1%8F%E5%B9%95%E6%88%AA%E5%9B%BE%202024-10-06%20225314.png --sw 45',\n",
       "  'num_occurence': 14}}"
      ]
     },
     "execution_count": 5,
     "metadata": {},
     "output_type": "execute_result"
    }
   ],
   "source": [
    "filtered_char_dict = {key: char_dict[key] for key in filter(lambda x: char_dict[x]['num_occurence'] > 5, char_dict)}\n",
    "filtered_char_dict"
   ]
  },
  {
   "cell_type": "code",
   "execution_count": 6,
   "metadata": {},
   "outputs": [
    {
     "data": {
      "text/plain": [
       "18"
      ]
     },
     "execution_count": 6,
     "metadata": {},
     "output_type": "execute_result"
    }
   ],
   "source": [
    "len(filtered_char_dict)"
   ]
  },
  {
   "cell_type": "code",
   "execution_count": 7,
   "metadata": {},
   "outputs": [],
   "source": [
    "taotao = \"https://s.mj.run/qRhIa9TaD5Q\""
   ]
  },
  {
   "cell_type": "code",
   "execution_count": 8,
   "metadata": {},
   "outputs": [
    {
     "name": "stdout",
     "output_type": "stream",
     "text": [
      "sending 1full body image, 1girl, long hair, deep violet hair, long, golden eyes, fair skin, plump lips, dark red lips, petite nose, oval chin, tall, slim, large, anime, cute, japanese manga style --niji 6 --style raw --sref https://raw.githubusercontent.com/yfz3357/style-samples/refs/heads/main/%e5%b1%8f%e5%b9%95%e6%88%aa%e5%9b%be%202024-10-06%20225314.png --sw 45 --sref https://s.mj.run/qRhIa9TaD5Q --sw 45 --style raw\n",
      "1full body image, 1girl, long hair, deep violet hair, long, golden eyes, fair skin, plump lips, dark red lips, petite nose, oval chin, tall, slim, large, anime, cute, japanese manga style --niji 6 --style raw --sref https://raw.githubusercontent.com/yfz3357/style-samples/refs/heads/main/%e5%b1%8f%e5%b9%95%e6%88%aa%e5%9b%be%202024-10-06%20225314.png --sw 45 --sref https://s.mj.run/qRhIa9TaD5Q --sw 45 --style raw +sent and respond+ <Response [400]>\n"
     ]
    },
    {
     "ename": "KeyboardInterrupt",
     "evalue": "",
     "output_type": "error",
     "traceback": [
      "\u001b[1;31m---------------------------------------------------------------------------\u001b[0m",
      "\u001b[1;31mKeyboardInterrupt\u001b[0m                         Traceback (most recent call last)",
      "Cell \u001b[1;32mIn[8], line 4\u001b[0m\n\u001b[0;32m      2\u001b[0m \u001b[38;5;28;01mfor\u001b[39;00m name, d \u001b[38;5;129;01min\u001b[39;00m filtered_char_dict\u001b[38;5;241m.\u001b[39mitems():\n\u001b[0;32m      3\u001b[0m     prompt \u001b[38;5;241m=\u001b[39m d[\u001b[38;5;124m'\u001b[39m\u001b[38;5;124mprompt\u001b[39m\u001b[38;5;124m'\u001b[39m]\n\u001b[1;32m----> 4\u001b[0m     urls \u001b[38;5;241m=\u001b[39m \u001b[43mmj\u001b[49m\u001b[38;5;241;43m.\u001b[39;49m\u001b[43mfetch_image\u001b[49m\u001b[43m(\u001b[49m\u001b[43mprompt\u001b[49m\u001b[43m,\u001b[49m\u001b[43m \u001b[49m\u001b[38;5;124;43m'\u001b[39;49m\u001b[38;5;124;43m./datasets/yujie/mj_char_images\u001b[39;49m\u001b[38;5;124;43m'\u001b[39;49m\u001b[43m,\u001b[49m\u001b[43m \u001b[49m\u001b[38;5;124;43mf\u001b[39;49m\u001b[38;5;124;43m'\u001b[39;49m\u001b[38;5;132;43;01m{\u001b[39;49;00m\u001b[43mname\u001b[49m\u001b[38;5;132;43;01m}\u001b[39;49;00m\u001b[38;5;124;43m.png\u001b[39;49m\u001b[38;5;124;43m'\u001b[39;49m\u001b[43m,\u001b[49m\u001b[43m \u001b[49m\u001b[43msref\u001b[49m\u001b[38;5;241;43m=\u001b[39;49m\u001b[43mtaotao\u001b[49m\u001b[43m,\u001b[49m\u001b[43m \u001b[49m\u001b[43mraw_style\u001b[49m\u001b[38;5;241;43m=\u001b[39;49m\u001b[38;5;28;43;01mTrue\u001b[39;49;00m\u001b[43m,\u001b[49m\u001b[43m \u001b[49m\u001b[43msw\u001b[49m\u001b[38;5;241;43m=\u001b[39;49m\u001b[38;5;241;43m45\u001b[39;49m\u001b[43m)\u001b[49m\n\u001b[0;32m      5\u001b[0m     char_to_url[name] \u001b[38;5;241m=\u001b[39m urls[\u001b[38;5;124m'\u001b[39m\u001b[38;5;124mimage_url\u001b[39m\u001b[38;5;124m'\u001b[39m]\n\u001b[0;32m      6\u001b[0m     \u001b[38;5;28mprint\u001b[39m(\u001b[38;5;124m\"\u001b[39m\u001b[38;5;124mdone\u001b[39m\u001b[38;5;124m\"\u001b[39m, name)\n",
      "File \u001b[1;32md:\\Work\\novelGen\\txt_gen\\vnov\\vnov\\image_generation\\midjourney.py:746\u001b[0m, in \u001b[0;36mMidjourney.fetch_image\u001b[1;34m(self, prompt, image_folder, image_name, cref, sref, cw, sw, niji, raw_style, need_new_ref_url)\u001b[0m\n\u001b[0;32m    744\u001b[0m \u001b[38;5;28;01mfor\u001b[39;00m i \u001b[38;5;129;01min\u001b[39;00m \u001b[38;5;28mrange\u001b[39m(\u001b[38;5;241m4\u001b[39m):\n\u001b[0;32m    745\u001b[0m     time\u001b[38;5;241m.\u001b[39msleep(random\u001b[38;5;241m.\u001b[39muniform(\u001b[38;5;241m0.5\u001b[39m, \u001b[38;5;241m1\u001b[39m))\n\u001b[1;32m--> 746\u001b[0m     msg \u001b[38;5;241m=\u001b[39m \u001b[38;5;28;43mself\u001b[39;49m\u001b[38;5;241;43m.\u001b[39;49m\u001b[43mreceive_message\u001b[49m\u001b[43m(\u001b[49m\u001b[43mraw_prompt\u001b[49m\u001b[43m,\u001b[49m\u001b[43m \u001b[49m\u001b[43mimage_index\u001b[49m\u001b[38;5;241;43m=\u001b[39;49m\u001b[43mi\u001b[49m\u001b[43m)\u001b[49m\n\u001b[0;32m    747\u001b[0m     \u001b[38;5;66;03m# print(msg)\u001b[39;00m\n\u001b[0;32m    748\u001b[0m     \u001b[38;5;28;01mif\u001b[39;00m i \u001b[38;5;241m==\u001b[39m \u001b[38;5;241m0\u001b[39m:\n",
      "File \u001b[1;32md:\\Work\\novelGen\\txt_gen\\vnov\\vnov\\image_generation\\midjourney.py:516\u001b[0m, in \u001b[0;36mMidjourney.receive_message\u001b[1;34m(self, prompt, image_index)\u001b[0m\n\u001b[0;32m    514\u001b[0m \u001b[38;5;28;01mfor\u001b[39;00m attempt \u001b[38;5;129;01min\u001b[39;00m \u001b[38;5;28mrange\u001b[39m(\u001b[38;5;241m120\u001b[39m):\n\u001b[0;32m    515\u001b[0m     \u001b[38;5;28;01mif\u001b[39;00m image_index \u001b[38;5;241m==\u001b[39m \u001b[38;5;241m0\u001b[39m:\n\u001b[1;32m--> 516\u001b[0m         \u001b[43mtime\u001b[49m\u001b[38;5;241;43m.\u001b[39;49m\u001b[43msleep\u001b[49m\u001b[43m(\u001b[49m\u001b[38;5;241;43m10\u001b[39;49m\u001b[43m)\u001b[49m  \u001b[38;5;66;03m# Pause for 10 seconds between attempts\u001b[39;00m\n\u001b[0;32m    517\u001b[0m     \u001b[38;5;28;01melse\u001b[39;00m:\n\u001b[0;32m    518\u001b[0m         time\u001b[38;5;241m.\u001b[39msleep(\u001b[38;5;241m4\u001b[39m)\n",
      "\u001b[1;31mKeyboardInterrupt\u001b[0m: "
     ]
    }
   ],
   "source": [
    "char_to_url = {}\n",
    "for name, d in filtered_char_dict.items():\n",
    "    prompt = d['prompt']\n",
    "    urls = mj.fetch_image(prompt, './datasets/yujie/mj_char_images', f'{name}.png', sref=taotao, raw_style=True, sw=45)\n",
    "    char_to_url[name] = urls['image_url']\n",
    "    print(\"done\", name)\n",
    "char_to_url"
   ]
  },
  {
   "cell_type": "code",
   "execution_count": 12,
   "metadata": {},
   "outputs": [],
   "source": [
    "with open('./datasets/yujie/mj_char_images/char_to_url.json', \"w\", encoding=\"utf-8\") as f:\n",
    "    json.dump(char_to_url, f, ensure_ascii=False, indent=4)"
   ]
  }
 ],
 "metadata": {
  "kernelspec": {
   "display_name": "chatgpt",
   "language": "python",
   "name": "python3"
  },
  "language_info": {
   "codemirror_mode": {
    "name": "ipython",
    "version": 3
   },
   "file_extension": ".py",
   "mimetype": "text/x-python",
   "name": "python",
   "nbconvert_exporter": "python",
   "pygments_lexer": "ipython3",
   "version": "3.11.9"
  }
 },
 "nbformat": 4,
 "nbformat_minor": 2
}
