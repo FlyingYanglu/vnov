{
 "cells": [
  {
   "cell_type": "code",
   "execution_count": 1,
   "metadata": {},
   "outputs": [],
   "source": [
    "%reload_ext autoreload\n",
    "%autoreload 2"
   ]
  },
  {
   "cell_type": "code",
   "execution_count": 2,
   "metadata": {},
   "outputs": [
    {
     "name": "stdout",
     "output_type": "stream",
     "text": [
      "d:\\CS_HCI\\vnov\n"
     ]
    }
   ],
   "source": [
    "%cd .."
   ]
  },
  {
   "cell_type": "code",
   "execution_count": 3,
   "metadata": {},
   "outputs": [
    {
     "name": "stderr",
     "output_type": "stream",
     "text": [
      "C:\\Users\\44635\\AppData\\Roaming\\Python\\Python311\\site-packages\\tqdm\\auto.py:21: TqdmWarning: IProgress not found. Please update jupyter and ipywidgets. See https://ipywidgets.readthedocs.io/en/stable/user_install.html\n",
      "  from .autonotebook import tqdm as notebook_tqdm\n",
      "None of PyTorch, TensorFlow >= 2.0, or Flax have been found. Models won't be available and only tokenizers, configuration and file/data utilities can be used.\n"
     ]
    }
   ],
   "source": [
    "from vnov.data import Novel\n",
    "from vnov.story import StoryTeller\n",
    "from vnov.llms.poe import Poe\n",
    "from vnov.llms.deepseek import Deepseek"
   ]
  },
  {
   "cell_type": "code",
   "execution_count": 4,
   "metadata": {},
   "outputs": [],
   "source": [
    "novel = Novel(\"datasets/1342-0\", main_character=\"Elizabeth Bennet\")\n",
    "#model = Poe()\n",
    "model = Deepseek()\n",
    "storyteller = StoryTeller(model)\n",
    "# storyteller.tell_novel(novel, \"史金\", start_chapter=67, end_chapter=67, reset_chapters_inbetween=True)\n",
    "# storyteller.construct_character_dict(novel)\n"
   ]
  },
  {
   "cell_type": "code",
   "execution_count": null,
   "metadata": {},
   "outputs": [
    {
     "name": "stdout",
     "output_type": "stream",
     "text": [
      "[{'role': 'system', 'content': \"You are a top-level storyteller, specializing in first-person narration for web novels and fast-paced stories.\\n\\n# For narrative style, you may refer to styles like the following:\\n\\nI barely had my bride for three minutes before she was taken by my adoptive father. If Dong Zhuo is now my father, then Diao Chan naturally becomes my bride. The messenger thought I would explode with rage, but to his surprise, I remained eerily calm. Diao Chan was taken by Dong Zhuo — what does that have to do with me, a mere transmigrator? But now that I'm Lu Bu, I certainly won't stay in his shadow for long.\\n\"}, {'role': 'user', 'content': 'Please study the narrative style of the following example and learn how to handle dialogue and plot. You do not need to provide a narration for this section:\\n\\nShe never expected that he was only doing it for his \"white moonlight.\" When he splashed cold water on me, I suggested a divorce. He went mad, but that man married his nemesis instead. \\nWhen I broke the watch that his \"white moonlight\" had given him, he angrily splashed water on me. I calmly suggested a divorce. He thought I was using a different tactic to get his attention, then left the villa without another word. I quietly packed my things and moved out. But what he didn\\'t know was that I had been reborn. \\nIn my previous life, when he and his \"white moonlight\" were in a car accident, he chose to save her first, leaving me completely disappointed in him. This time, I decided to let them be. \\nSo, the next day, I hired a lawyer to draft a divorce agreement and sent it directly to Huaifeng Group. The agreement I prepared was just a few pages long; I didn\\'t want a cent from the Liu family, saving the need for property division documents. \\nLiu Ruyan glanced briefly at the divorce papers and sneered coldly. He knew my personality well enough. Just yesterday, I had declared that I would never let him and Yan Man be together. \\nHow could I agree to the divorce so easily? This time, he figured, it must be about that watch, or maybe it was because he had splashed water on me. He tossed the papers back on the table, expression indifferent. Did he say anything? \\nThe man delivering the papers said respectfully: \"Mr. Liu wanted me to tell you that he will be waiting for you at the civil affairs office at 9 a.m. tomorrow. Please be punctual.\" \\n\"Got it, you may leave.\" Liu Ruyan put the divorce papers into the shredder and resumed work, not taking the matter to heart at all. Divorcing him? Impossible. He\\'d sooner believe that Huaifeng would go bankrupt tomorrow than that I would actually go through with the divorce. \\nI waited at the civil affairs office all morning, but Liu Ruyan never showed up. I didn\\'t have his phone number, so I went straight to Huaifeng Group. As soon as I passed the first-floor security, Xu Tezhu blocked me at the CEO\\'s office door. \\n\"Mr. Xia, Mr. Liu is busy. Please refrain from disturbing him.\" \\nXu Tezhu had been with Liu Ruyan for some years and knew a thing or two about our situation. Ever since Liu married, this ‘Mr. Xia’ would show up every now and then, always making trouble for Liu. \\nEach time it was over trivial matters. Even though I was the eldest son of the Xia family, Xu Tezhu looked down on me. \\nI was born with a silver spoon, graduated from the country’s top university, and had countless resources at my disposal. Yet I showed no ambition, rushing into marriage with Liu right after graduation, gossiping about mundane things. A man like that wasn’t worth Liu’s attention. \\nI smirked, taunting him: \"And what if I insist?\" In the past, I only had eyes for Liu Ruyan, never noticing the attitude of those around him. \\nBut now, with two more years of experience from my past life, I saw people more clearly. Naturally, I picked up on Xu Tezhu’s disdain. I couldn’t blame him for looking down on me—after all, I wasn’t fond of my former self either. \\nXu Tezhu frowned. \"Mr. Xia, if you keep causing trouble, I’ll have to ask security to escort you out.\" \\nHe knew Liu Ruyan didn’t care for me. In the past, it was always Xu Tezhu who called security to throw me out, and Liu never blamed him for it—she practically encouraged it. \\nXu Tezhu certainly liked to throw his weight around. I let out an eerie smile, leaning closer and lowering my voice: \"What do you think Liu would do if he found out you’ve been sleeping with his secretary?\" \\nXu Tezhu\\'s face went pale. \"How... how do you know that?\" \\nDuring his wife\\'s pregnancy, he couldn’t control himself and started an affair with a secretary. The company had a strict policy against office romance, and their relationship was anything but honorable. \\nSo, they’d kept their affair under wraps for years. How did this brainless \\'Mr. Xia\\' find out? \\nI stepped back with a bright smile on my face. \"So, it’s true then! I just happened to see you and a female secretary leaving the office in the same car and thought it was odd. Plus, you’re never shy about complaining about your wife, so I made a guess. Looks like I was right.\" \\nLiu Ruyan sure knows how to pick his assistants—they’re just like him. \\nXu Tezhu froze, then quickly caught on. \"You tricked me!\" \\nMy smile faded, my gaze turning icy. \"Are you going to let me in, or should I let everyone know about your little secret with the secretary?\" \\nXu Tezhu gritted his teeth, swallowing his anger. \"Go in.\" \\nBefore entering, I kindly reminded him: \"Oh, and remember to come clean to your wife. Otherwise, I’ll do it for you.\" \\nXu Tezhu ground his teeth, spitting out his words. \"Understood.\" \\nI stopped arguing with him and pushed open the door to the CEO’s office. The soundproofing was excellent—Liu Ruyan hadn’t heard a thing and thought it was just Xu Tezhu coming in.\\n'}]\n"
     ]
    }
   ],
   "source": [
    "storyteller.tell_novel(novel, \"Elizabeth Bennet\", start_chapter=1, end_chapter=61, reset_chapters_inbetween=True)"
   ]
  },
  {
   "cell_type": "code",
   "execution_count": null,
   "metadata": {},
   "outputs": [],
   "source": []
  }
 ],
 "metadata": {
  "kernelspec": {
   "display_name": "vnov",
   "language": "python",
   "name": "python3"
  },
  "language_info": {
   "codemirror_mode": {
    "name": "ipython",
    "version": 3
   },
   "file_extension": ".py",
   "mimetype": "text/x-python",
   "name": "python",
   "nbconvert_exporter": "python",
   "pygments_lexer": "ipython3",
   "version": "3.11.10"
  }
 },
 "nbformat": 4,
 "nbformat_minor": 2
}
