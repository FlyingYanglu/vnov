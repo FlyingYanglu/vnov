{
 "cells": [
  {
   "cell_type": "code",
   "execution_count": 1,
   "metadata": {},
   "outputs": [],
   "source": [
    "%reload_ext autoreload\n",
    "%autoreload 2"
   ]
  },
  {
   "cell_type": "code",
   "execution_count": 2,
   "metadata": {},
   "outputs": [],
   "source": [
    "from vnov.data import Novel\n",
    "from vnov.story import StoryTeller\n",
    "from vnov.llms.poe import Poe\n",
    "from vnov.llms.deepseek import Deepseek"
   ]
  },
  {
   "cell_type": "code",
   "execution_count": 3,
   "metadata": {},
   "outputs": [],
   "source": [
    "novel = Novel(\"datasets/yujie\", main_character=\"史金\")\n",
    "# model = Poe(\"llu430173@gmail.com\", bot_id=\"vnovStoryTeller\")\n",
    "model = Deepseek()\n",
    "storyteller = StoryTeller(model)\n",
    "# storyteller.tell_novel(novel, \"史金\", start_chapter=67, end_chapter=67, reset_chapters_inbetween=True)\n",
    "# storyteller.construct_character_dict(novel)\n"
   ]
  },
  {
   "cell_type": "code",
   "execution_count": null,
   "metadata": {},
   "outputs": [
    {
     "name": "stdout",
     "output_type": "stream",
     "text": [
      "[{'role': 'system', 'content': '你是一个顶级故事解说，专门以第一人称解说网络小说和爽文。\\n\\n#解说文字风格可学习以下风格\\n\\n我刚得到新娘不到三分钟，转眼她就被我义父抢走了。董卓是你的新爹，貂蝉自然是你的新娘啊。传话的侍从本以为我会暴跳如雷，没想到我却冷静得可怕，貂蝉被董卓抢了，关我穿越者什么事？但既然穿成了吕布，我自然不能郁郁久居人下。\\n\\n'}, {'role': 'user', 'content': '请学习以下解说示例的文字风格，学习如何处理对话和剧情，无需对这一部分进行解说：\\n\\n女友没想到 他只不过是为了白月光 泼了我一杯冷水 我就跟他提出了离婚 他发了疯 可那个男人却娶了他的死对头。\\n在我弄坏白月光送他的手表 他气了泼了我一杯冷水后 我冷静的提出了离婚 他只当我是换了种方式想引起他的注意 直接离开了别墅 我则默默收拾了自己的行李 搬回了下家 可他不知道的是 我重生了。\\n上辈子 在我跟他白月光一起出车祸时 他选择优先救白月光 让我彻底对他失望 这一次我决定成全他们。\\n于是 第二天就请律师拟好了离婚协议书 直接送到怀凤集团 我准备的离婚协议书 只有薄薄的几页纸，我不要柳家一分一毫 便省了财产分割的文件。\\n柳如烟的眸子在离婚协议书上 简单扫了几眼璇玑冷笑一声 我是个什么性子 他再清楚不过 昨天我还扬言 绝不会放手成全他和言蛮。\\n怎么可能这么轻易离婚 这次闹这么大 估计还是因为那块表 又或是因为他泼了我一杯水 他将协议书扔回桌上神色淡漠 他有说什么吗？\\n前来送文件的男人毕恭毕敬的道：姑爷让我转告你 明天早上9点，他会在民政局等您 需要你守时。\\n知道了你出去吧 柳如烟将离婚协议书放进文件粉碎机重新投身工作 完全没把这件事放在心上 不会和他离婚简直就是天方夜谭 他宁愿相信怀凤明天会倒闭也不相信我能离得了。\\n我在民政局等了一早上 都不见柳如烟的人影 我没有柳如烟的手机号 便直接去了怀凤集团，我过了一楼的安检 就被徐特柱拦在了总裁办公室门口。\\n夏先生，刘总工作忙 还请您不要打扰。\\n徐特柱跟着柳如烟也有些年头了 对我和柳如烟的事比较了解 不过自从他们刘总结婚后，这位姑爷 隔三差五就会到公司来找刘总麻烦。\\n每次过来 都是因为一些鸡毛蒜皮的小事 我虽是夏家的大少爷，徐特柱却是瞧不上我呢。\\n我含着金汤匙出生 毕业于国内最顶尖的高校 身边大把的资源可以利用，却不知上进 一毕业就匆匆和柳如烟结婚，说的都是东家长西家短的话题 俗不可耐。\\n这样的男人 根本不值得他们刘总多看一眼 我勾了勾唇 挑衅道：如果我硬要打扰了？以前我满心满眼都是柳如烟，从来都不关注其他人 也就没注意到徐特柱的态度。\\n而今我多了上辈子的2年阅历 看人也更加通透了些自然读出了徐特柱语气的轻蔑 我倒也不怪徐特柱看轻我 毕竟就连我自己都瞧不上曾经的我。\\n徐特助皱眉：夏先生，您要是再胡搅蛮缠 我就叫人请您出去了。\\n柳如烟不待见我 徐特助也是知道的，前几次我来公司 都是徐特助叫保安请我出去的 柳如烟知道后 也没有责备他 算是默许了。\\n徐特助还真是好大的威风呢 我诡异的笑了一下 靠近他声音放低：如果柳如烟知道你睡了他的秘书，你说他会不会留你在做事？\\n徐特柱脸色大变：你…你怎么知道的？\\n他妻子怀孕那段时间 人没忍住就和秘书部的一个女秘书走到了一起，公司是明令禁止办公室恋情 更何况他和女秘书的事本就不光彩。\\n因而两人也一直小心翼翼行事 几年来没有任何人看出他们的关系，这个没脑子的姑爷是怎么知道的？\\n我后退两步 脸上露出灿烂的笑：原来是真的呀！我先前意外看到 徐特助和一位女秘书坐同一辆车离开公司，加上徐特助从来都不吝啬向别人抱怨他的妻子 我才有了这样的推断 没想到让我猜对了。\\n柳如烟可真是会用人 选的助理都是和他一样的德行。\\n徐特助一愣 很快反应过来：你套我话！\\n我收了脸上的笑 眼底一片寒凉：你可以让我进去了吗？又或者你想让全公司的人都知道你和女秘书有一腿？\\n徐特助打碎了牙往肚子里咽：放我进去。\\n进门前我好心提醒：对了记得跟你妻子坦白，不然我会亲自告诉他这件事。\\n徐特助狠狠咬牙 每个字都是从牙缝里挤出来的一半：知道了。\\n我不再同他纠缠 推开总裁办公室的门进去 办公室的隔音效果很好，柳如烟没有听到外面的动静 以为是徐特助进来了。\\n\\n'}]\n"
     ]
    }
   ],
   "source": [
    "storyteller.tell_novel(novel, \"史金\", start_chapter=1, end_chapter=67, reset_chapters_inbetween=True)"
   ]
  }
 ],
 "metadata": {
  "kernelspec": {
   "display_name": "vnov_hci",
   "language": "python",
   "name": "python3"
  },
  "language_info": {
   "codemirror_mode": {
    "name": "ipython",
    "version": 3
   },
   "file_extension": ".py",
   "mimetype": "text/x-python",
   "name": "python",
   "nbconvert_exporter": "python",
   "pygments_lexer": "ipython3",
   "version": "3.11.10"
  }
 },
 "nbformat": 4,
 "nbformat_minor": 2
}
