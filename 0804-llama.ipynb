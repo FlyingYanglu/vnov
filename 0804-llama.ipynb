{
 "cells": [
  {
   "cell_type": "code",
   "execution_count": 1,
   "metadata": {},
   "outputs": [
    {
     "data": {
      "application/vnd.jupyter.widget-view+json": {
       "model_id": "316034addd404d989e8995bd75882f20",
       "version_major": 2,
       "version_minor": 0
      },
      "text/plain": [
       "Loading checkpoint shards:   0%|          | 0/4 [00:00<?, ?it/s]"
      ]
     },
     "metadata": {},
     "output_type": "display_data"
    }
   ],
   "source": [
    "import transformers\n",
    "import torch\n",
    "\n",
    "model_id = \"meta-llama/Meta-Llama-3.1-8B-Instruct\"\n",
    "\n",
    "pipeline = transformers.pipeline(\n",
    "    \"text-generation\",\n",
    "    model=model_id,\n",
    "    model_kwargs={\"torch_dtype\": torch.bfloat16},\n",
    "    device_map=\"auto\",\n",
    ")\n"
   ]
  },
  {
   "cell_type": "code",
   "execution_count": 2,
   "metadata": {},
   "outputs": [],
   "source": [
    "text = \"\"\"\\\n",
    "# Content\n",
    "{content}\n",
    "# Instruction\n",
    "以主人公为第一人称视角的爽文风格解说以上剧情，不需要开头的自我介绍，直接开始解说。\n",
    "\"\"\""
   ]
  },
  {
   "cell_type": "code",
   "execution_count": null,
   "metadata": {},
   "outputs": [],
   "source": []
  },
  {
   "cell_type": "code",
   "execution_count": 3,
   "metadata": {},
   "outputs": [
    {
     "name": "stderr",
     "output_type": "stream",
     "text": [
      "Setting `pad_token_id` to `eos_token_id`:128001 for open-end generation.\n",
      "c:\\ProgramData\\Anaconda3\\envs\\sd\\Lib\\site-packages\\transformers\\models\\llama\\modeling_llama.py:603: UserWarning: 1Torch was not compiled with flash attention. (Triggered internally at C:\\actions-runner\\_work\\pytorch\\pytorch\\builder\\windows\\pytorch\\aten\\src\\ATen\\native\\transformers\\cuda\\sdp_utils.cpp:555.)\n",
      "  attn_output = torch.nn.functional.scaled_dot_product_attention(\n"
     ]
    },
    {
     "name": "stdout",
     "output_type": "stream",
     "text": [
      "{'role': 'assistant', 'content': '我的雄心壮志，我的征途！我是一名勇者，我的目标是打败恶龙，拯救这个世界！我站在巨大的城门前，背后是我的故乡的温暖，眼前是未知的征程。我的心中燃烧着胜利的火焰，我的双腿跃跃欲试，准备踏上征途。\\n\\n我背上背着沉重的武器，我的手中握着锋利的剑。我的面容坚毅，我的眼睛闪烁着胜利的光芒。我的声音低沉，我的语气坚定：“我要去打败恶龙，我要拯救这个世界！”\\n\\n城门打开了，我走出了城门，我的足迹踏在了征途上。我的心中充满了希望，我的精神振奋。我的双腿迈出了第一步，我的生命开始了新的征程。\\n\\n我走过了无数的山丘，过了无数的河流，穿过了无数的森林。我的武器越来越沉重，我的身体越来越疲惫。但是我没有放弃，我没有退缩。我一直向前走，直到我看到了一座巍峨的山峰。\\n\\n山峰上飘扬着一面黑色旗帜，旗帜上镶嵌着一个凶恶的恶龙的图案。我的心中燃烧着胜利的火焰，我知道我已经走到了目的地。我的双腿跃跃欲试，准备登上山峰，准备与恶龙进行最后的决战。\\n\\n我的声音低沉，我的语气坚定：“我要去打败恶龙，我要拯救这个世界！我要用我的力量，我的勇气，我的生命来完成这个使命！”'}\n"
     ]
    }
   ],
   "source": [
    "\n",
    "messages = [\n",
    "    {\"role\": \"system\", \"content\": \"你是一个爽文故事解说\"},\n",
    "    {\"role\": \"user\", \"content\": text.format(content=\"我是一个勇者，我要去打败恶龙\")},\n",
    "]\n",
    "\n",
    "outputs = pipeline(\n",
    "    messages,\n",
    "    max_new_tokens=1000,\n",
    ")\n",
    "print(outputs[0][\"generated_text\"][-1])\n",
    "\n"
   ]
  },
  {
   "cell_type": "code",
   "execution_count": null,
   "metadata": {},
   "outputs": [],
   "source": []
  },
  {
   "cell_type": "code",
   "execution_count": null,
   "metadata": {},
   "outputs": [],
   "source": [
    " "
   ]
  }
 ],
 "metadata": {
  "kernelspec": {
   "display_name": "sd",
   "language": "python",
   "name": "python3"
  },
  "language_info": {
   "codemirror_mode": {
    "name": "ipython",
    "version": 3
   },
   "file_extension": ".py",
   "mimetype": "text/x-python",
   "name": "python",
   "nbconvert_exporter": "python",
   "pygments_lexer": "ipython3",
   "version": "3.12.4"
  }
 },
 "nbformat": 4,
 "nbformat_minor": 2
}
